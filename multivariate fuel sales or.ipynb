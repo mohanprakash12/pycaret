{
 "cells": [
  {
   "cell_type": "code",
   "execution_count": 30,
   "id": "ec605ef9",
   "metadata": {},
   "outputs": [],
   "source": [
    "\n",
    "import numpy as np\n",
    "from tensorflow.keras.models import Sequential\n",
    "from tensorflow.keras.layers import LSTM\n",
    "from tensorflow.keras.layers import Dense, Dropout\n",
    "import pandas as pd\n",
    "from matplotlib import pyplot as plt\n",
    "from sklearn.preprocessing import StandardScaler\n",
    "import seaborn as sns\n",
    "#from datetime import datetime"
   ]
  },
  {
   "cell_type": "code",
   "execution_count": 53,
   "id": "2a4cc380",
   "metadata": {},
   "outputs": [],
   "source": [
    "import os\n",
    "os.chdir('P:\\SAMPLE DATA')"
   ]
  },
  {
   "cell_type": "code",
   "execution_count": 54,
   "id": "50a3715c",
   "metadata": {
    "scrolled": true
   },
   "outputs": [
    {
     "data": {
      "text/html": [
       "<div>\n",
       "<style scoped>\n",
       "    .dataframe tbody tr th:only-of-type {\n",
       "        vertical-align: middle;\n",
       "    }\n",
       "\n",
       "    .dataframe tbody tr th {\n",
       "        vertical-align: top;\n",
       "    }\n",
       "\n",
       "    .dataframe thead th {\n",
       "        text-align: right;\n",
       "    }\n",
       "</style>\n",
       "<table border=\"1\" class=\"dataframe\">\n",
       "  <thead>\n",
       "    <tr style=\"text-align: right;\">\n",
       "      <th></th>\n",
       "      <th>Unnamed: 0</th>\n",
       "      <th>index</th>\n",
       "      <th>InvDate</th>\n",
       "      <th>InvQty</th>\n",
       "      <th>index.1</th>\n",
       "      <th>time</th>\n",
       "      <th>tavg</th>\n",
       "      <th>tmin</th>\n",
       "      <th>tmax</th>\n",
       "      <th>prcp</th>\n",
       "      <th>snow</th>\n",
       "      <th>wdir</th>\n",
       "      <th>wspd</th>\n",
       "      <th>wpgt</th>\n",
       "      <th>pres</th>\n",
       "      <th>tsun</th>\n",
       "    </tr>\n",
       "  </thead>\n",
       "  <tbody>\n",
       "    <tr>\n",
       "      <th>0</th>\n",
       "      <td>0</td>\n",
       "      <td>505</td>\n",
       "      <td>2019-01-01</td>\n",
       "      <td>0.0</td>\n",
       "      <td>365</td>\n",
       "      <td>2019-01-01</td>\n",
       "      <td>6.3</td>\n",
       "      <td>4.4</td>\n",
       "      <td>8.2</td>\n",
       "      <td>0.0</td>\n",
       "      <td>NaN</td>\n",
       "      <td>307.0</td>\n",
       "      <td>20.1</td>\n",
       "      <td>37.0</td>\n",
       "      <td>1033.9</td>\n",
       "      <td>NaN</td>\n",
       "    </tr>\n",
       "    <tr>\n",
       "      <th>1</th>\n",
       "      <td>1</td>\n",
       "      <td>506</td>\n",
       "      <td>2019-01-02</td>\n",
       "      <td>166838.0</td>\n",
       "      <td>366</td>\n",
       "      <td>2019-01-02</td>\n",
       "      <td>3.9</td>\n",
       "      <td>3.0</td>\n",
       "      <td>5.2</td>\n",
       "      <td>0.0</td>\n",
       "      <td>NaN</td>\n",
       "      <td>336.0</td>\n",
       "      <td>14.1</td>\n",
       "      <td>31.5</td>\n",
       "      <td>1041.9</td>\n",
       "      <td>NaN</td>\n",
       "    </tr>\n",
       "    <tr>\n",
       "      <th>2</th>\n",
       "      <td>2</td>\n",
       "      <td>507</td>\n",
       "      <td>2019-01-03</td>\n",
       "      <td>177934.0</td>\n",
       "      <td>367</td>\n",
       "      <td>2019-01-03</td>\n",
       "      <td>2.4</td>\n",
       "      <td>0.1</td>\n",
       "      <td>4.2</td>\n",
       "      <td>0.0</td>\n",
       "      <td>NaN</td>\n",
       "      <td>309.0</td>\n",
       "      <td>10.0</td>\n",
       "      <td>20.4</td>\n",
       "      <td>1042.8</td>\n",
       "      <td>NaN</td>\n",
       "    </tr>\n",
       "    <tr>\n",
       "      <th>3</th>\n",
       "      <td>3</td>\n",
       "      <td>508</td>\n",
       "      <td>2019-01-04</td>\n",
       "      <td>241314.0</td>\n",
       "      <td>368</td>\n",
       "      <td>2019-01-04</td>\n",
       "      <td>1.1</td>\n",
       "      <td>-1.5</td>\n",
       "      <td>3.6</td>\n",
       "      <td>0.0</td>\n",
       "      <td>NaN</td>\n",
       "      <td>283.0</td>\n",
       "      <td>12.6</td>\n",
       "      <td>25.9</td>\n",
       "      <td>1040.5</td>\n",
       "      <td>NaN</td>\n",
       "    </tr>\n",
       "    <tr>\n",
       "      <th>4</th>\n",
       "      <td>4</td>\n",
       "      <td>509</td>\n",
       "      <td>2019-01-05</td>\n",
       "      <td>70676.0</td>\n",
       "      <td>369</td>\n",
       "      <td>2019-01-05</td>\n",
       "      <td>2.5</td>\n",
       "      <td>1.1</td>\n",
       "      <td>4.3</td>\n",
       "      <td>0.0</td>\n",
       "      <td>NaN</td>\n",
       "      <td>295.0</td>\n",
       "      <td>14.3</td>\n",
       "      <td>29.6</td>\n",
       "      <td>1037.2</td>\n",
       "      <td>NaN</td>\n",
       "    </tr>\n",
       "  </tbody>\n",
       "</table>\n",
       "</div>"
      ],
      "text/plain": [
       "   Unnamed: 0  index     InvDate    InvQty  index.1        time  tavg  tmin  \\\n",
       "0           0    505  2019-01-01       0.0      365  2019-01-01   6.3   4.4   \n",
       "1           1    506  2019-01-02  166838.0      366  2019-01-02   3.9   3.0   \n",
       "2           2    507  2019-01-03  177934.0      367  2019-01-03   2.4   0.1   \n",
       "3           3    508  2019-01-04  241314.0      368  2019-01-04   1.1  -1.5   \n",
       "4           4    509  2019-01-05   70676.0      369  2019-01-05   2.5   1.1   \n",
       "\n",
       "   tmax  prcp  snow   wdir  wspd  wpgt    pres  tsun  \n",
       "0   8.2   0.0   NaN  307.0  20.1  37.0  1033.9   NaN  \n",
       "1   5.2   0.0   NaN  336.0  14.1  31.5  1041.9   NaN  \n",
       "2   4.2   0.0   NaN  309.0  10.0  20.4  1042.8   NaN  \n",
       "3   3.6   0.0   NaN  283.0  12.6  25.9  1040.5   NaN  \n",
       "4   4.3   0.0   NaN  295.0  14.3  29.6  1037.2   NaN  "
      ]
     },
     "execution_count": 54,
     "metadata": {},
     "output_type": "execute_result"
    }
   ],
   "source": [
    "#Read the csv file\n",
    "df=pd.read_csv('weatherdata.csv')\n",
    "df.head() #7 columns, including the Date. "
   ]
  },
  {
   "cell_type": "code",
   "execution_count": 55,
   "id": "bf55829e",
   "metadata": {},
   "outputs": [],
   "source": [
    "df.drop(['Unnamed: 0','index','index.1','tsun','snow','time','prcp','snow'],axis=1,inplace=True)"
   ]
  },
  {
   "cell_type": "code",
   "execution_count": 56,
   "id": "e3a3f4c0",
   "metadata": {},
   "outputs": [
    {
     "data": {
      "text/html": [
       "<div>\n",
       "<style scoped>\n",
       "    .dataframe tbody tr th:only-of-type {\n",
       "        vertical-align: middle;\n",
       "    }\n",
       "\n",
       "    .dataframe tbody tr th {\n",
       "        vertical-align: top;\n",
       "    }\n",
       "\n",
       "    .dataframe thead th {\n",
       "        text-align: right;\n",
       "    }\n",
       "</style>\n",
       "<table border=\"1\" class=\"dataframe\">\n",
       "  <thead>\n",
       "    <tr style=\"text-align: right;\">\n",
       "      <th></th>\n",
       "      <th>InvDate</th>\n",
       "      <th>InvQty</th>\n",
       "      <th>tavg</th>\n",
       "      <th>tmin</th>\n",
       "      <th>tmax</th>\n",
       "      <th>wdir</th>\n",
       "      <th>wspd</th>\n",
       "      <th>wpgt</th>\n",
       "      <th>pres</th>\n",
       "    </tr>\n",
       "  </thead>\n",
       "  <tbody>\n",
       "    <tr>\n",
       "      <th>0</th>\n",
       "      <td>2019-01-01</td>\n",
       "      <td>0.0</td>\n",
       "      <td>6.3</td>\n",
       "      <td>4.4</td>\n",
       "      <td>8.2</td>\n",
       "      <td>307.0</td>\n",
       "      <td>20.1</td>\n",
       "      <td>37.0</td>\n",
       "      <td>1033.9</td>\n",
       "    </tr>\n",
       "    <tr>\n",
       "      <th>1</th>\n",
       "      <td>2019-01-02</td>\n",
       "      <td>166838.0</td>\n",
       "      <td>3.9</td>\n",
       "      <td>3.0</td>\n",
       "      <td>5.2</td>\n",
       "      <td>336.0</td>\n",
       "      <td>14.1</td>\n",
       "      <td>31.5</td>\n",
       "      <td>1041.9</td>\n",
       "    </tr>\n",
       "    <tr>\n",
       "      <th>2</th>\n",
       "      <td>2019-01-03</td>\n",
       "      <td>177934.0</td>\n",
       "      <td>2.4</td>\n",
       "      <td>0.1</td>\n",
       "      <td>4.2</td>\n",
       "      <td>309.0</td>\n",
       "      <td>10.0</td>\n",
       "      <td>20.4</td>\n",
       "      <td>1042.8</td>\n",
       "    </tr>\n",
       "    <tr>\n",
       "      <th>3</th>\n",
       "      <td>2019-01-04</td>\n",
       "      <td>241314.0</td>\n",
       "      <td>1.1</td>\n",
       "      <td>-1.5</td>\n",
       "      <td>3.6</td>\n",
       "      <td>283.0</td>\n",
       "      <td>12.6</td>\n",
       "      <td>25.9</td>\n",
       "      <td>1040.5</td>\n",
       "    </tr>\n",
       "    <tr>\n",
       "      <th>4</th>\n",
       "      <td>2019-01-05</td>\n",
       "      <td>70676.0</td>\n",
       "      <td>2.5</td>\n",
       "      <td>1.1</td>\n",
       "      <td>4.3</td>\n",
       "      <td>295.0</td>\n",
       "      <td>14.3</td>\n",
       "      <td>29.6</td>\n",
       "      <td>1037.2</td>\n",
       "    </tr>\n",
       "  </tbody>\n",
       "</table>\n",
       "</div>"
      ],
      "text/plain": [
       "      InvDate    InvQty  tavg  tmin  tmax   wdir  wspd  wpgt    pres\n",
       "0  2019-01-01       0.0   6.3   4.4   8.2  307.0  20.1  37.0  1033.9\n",
       "1  2019-01-02  166838.0   3.9   3.0   5.2  336.0  14.1  31.5  1041.9\n",
       "2  2019-01-03  177934.0   2.4   0.1   4.2  309.0  10.0  20.4  1042.8\n",
       "3  2019-01-04  241314.0   1.1  -1.5   3.6  283.0  12.6  25.9  1040.5\n",
       "4  2019-01-05   70676.0   2.5   1.1   4.3  295.0  14.3  29.6  1037.2"
      ]
     },
     "execution_count": 56,
     "metadata": {},
     "output_type": "execute_result"
    }
   ],
   "source": [
    "df.head()"
   ]
  },
  {
   "cell_type": "code",
   "execution_count": 57,
   "id": "a8d583b4",
   "metadata": {},
   "outputs": [],
   "source": [
    "import plotly.express as px"
   ]
  },
  {
   "cell_type": "code",
   "execution_count": 59,
   "id": "ceb610bc",
   "metadata": {},
   "outputs": [
    {
     "data": {
      "text/html": [
       "<div>\n",
       "<style scoped>\n",
       "    .dataframe tbody tr th:only-of-type {\n",
       "        vertical-align: middle;\n",
       "    }\n",
       "\n",
       "    .dataframe tbody tr th {\n",
       "        vertical-align: top;\n",
       "    }\n",
       "\n",
       "    .dataframe thead th {\n",
       "        text-align: right;\n",
       "    }\n",
       "</style>\n",
       "<table border=\"1\" class=\"dataframe\">\n",
       "  <thead>\n",
       "    <tr style=\"text-align: right;\">\n",
       "      <th></th>\n",
       "      <th>InvQty</th>\n",
       "      <th>tavg</th>\n",
       "      <th>tmin</th>\n",
       "      <th>tmax</th>\n",
       "      <th>wdir</th>\n",
       "      <th>wspd</th>\n",
       "      <th>wpgt</th>\n",
       "      <th>pres</th>\n",
       "    </tr>\n",
       "  </thead>\n",
       "  <tbody>\n",
       "    <tr>\n",
       "      <th>InvQty</th>\n",
       "      <td>1.000000</td>\n",
       "      <td>0.121180</td>\n",
       "      <td>0.105599</td>\n",
       "      <td>0.133252</td>\n",
       "      <td>-0.026197</td>\n",
       "      <td>-0.063259</td>\n",
       "      <td>-0.056688</td>\n",
       "      <td>0.075327</td>\n",
       "    </tr>\n",
       "    <tr>\n",
       "      <th>tavg</th>\n",
       "      <td>0.121180</td>\n",
       "      <td>1.000000</td>\n",
       "      <td>0.974367</td>\n",
       "      <td>0.980591</td>\n",
       "      <td>-0.023398</td>\n",
       "      <td>-0.087949</td>\n",
       "      <td>-0.068730</td>\n",
       "      <td>0.037276</td>\n",
       "    </tr>\n",
       "    <tr>\n",
       "      <th>tmin</th>\n",
       "      <td>0.105599</td>\n",
       "      <td>0.974367</td>\n",
       "      <td>1.000000</td>\n",
       "      <td>0.918946</td>\n",
       "      <td>0.003974</td>\n",
       "      <td>-0.059409</td>\n",
       "      <td>-0.050908</td>\n",
       "      <td>-0.027776</td>\n",
       "    </tr>\n",
       "    <tr>\n",
       "      <th>tmax</th>\n",
       "      <td>0.133252</td>\n",
       "      <td>0.980591</td>\n",
       "      <td>0.918946</td>\n",
       "      <td>1.000000</td>\n",
       "      <td>-0.069468</td>\n",
       "      <td>-0.130970</td>\n",
       "      <td>-0.106598</td>\n",
       "      <td>0.110407</td>\n",
       "    </tr>\n",
       "    <tr>\n",
       "      <th>wdir</th>\n",
       "      <td>-0.026197</td>\n",
       "      <td>-0.023398</td>\n",
       "      <td>0.003974</td>\n",
       "      <td>-0.069468</td>\n",
       "      <td>1.000000</td>\n",
       "      <td>0.082240</td>\n",
       "      <td>0.099394</td>\n",
       "      <td>-0.131151</td>\n",
       "    </tr>\n",
       "    <tr>\n",
       "      <th>wspd</th>\n",
       "      <td>-0.063259</td>\n",
       "      <td>-0.087949</td>\n",
       "      <td>-0.059409</td>\n",
       "      <td>-0.130970</td>\n",
       "      <td>0.082240</td>\n",
       "      <td>1.000000</td>\n",
       "      <td>0.954122</td>\n",
       "      <td>-0.457878</td>\n",
       "    </tr>\n",
       "    <tr>\n",
       "      <th>wpgt</th>\n",
       "      <td>-0.056688</td>\n",
       "      <td>-0.068730</td>\n",
       "      <td>-0.050908</td>\n",
       "      <td>-0.106598</td>\n",
       "      <td>0.099394</td>\n",
       "      <td>0.954122</td>\n",
       "      <td>1.000000</td>\n",
       "      <td>-0.484222</td>\n",
       "    </tr>\n",
       "    <tr>\n",
       "      <th>pres</th>\n",
       "      <td>0.075327</td>\n",
       "      <td>0.037276</td>\n",
       "      <td>-0.027776</td>\n",
       "      <td>0.110407</td>\n",
       "      <td>-0.131151</td>\n",
       "      <td>-0.457878</td>\n",
       "      <td>-0.484222</td>\n",
       "      <td>1.000000</td>\n",
       "    </tr>\n",
       "  </tbody>\n",
       "</table>\n",
       "</div>"
      ],
      "text/plain": [
       "          InvQty      tavg      tmin      tmax      wdir      wspd      wpgt  \\\n",
       "InvQty  1.000000  0.121180  0.105599  0.133252 -0.026197 -0.063259 -0.056688   \n",
       "tavg    0.121180  1.000000  0.974367  0.980591 -0.023398 -0.087949 -0.068730   \n",
       "tmin    0.105599  0.974367  1.000000  0.918946  0.003974 -0.059409 -0.050908   \n",
       "tmax    0.133252  0.980591  0.918946  1.000000 -0.069468 -0.130970 -0.106598   \n",
       "wdir   -0.026197 -0.023398  0.003974 -0.069468  1.000000  0.082240  0.099394   \n",
       "wspd   -0.063259 -0.087949 -0.059409 -0.130970  0.082240  1.000000  0.954122   \n",
       "wpgt   -0.056688 -0.068730 -0.050908 -0.106598  0.099394  0.954122  1.000000   \n",
       "pres    0.075327  0.037276 -0.027776  0.110407 -0.131151 -0.457878 -0.484222   \n",
       "\n",
       "            pres  \n",
       "InvQty  0.075327  \n",
       "tavg    0.037276  \n",
       "tmin   -0.027776  \n",
       "tmax    0.110407  \n",
       "wdir   -0.131151  \n",
       "wspd   -0.457878  \n",
       "wpgt   -0.484222  \n",
       "pres    1.000000  "
      ]
     },
     "execution_count": 59,
     "metadata": {},
     "output_type": "execute_result"
    }
   ],
   "source": [
    "df.corr()"
   ]
  },
  {
   "cell_type": "code",
   "execution_count": 61,
   "id": "ca5310e8",
   "metadata": {},
   "outputs": [
    {
     "data": {
      "image/png": "[encoded data removed]",
      "text/plain": [
       "<Figure size 432x288 with 2 Axes>"
      ]
     },
     "metadata": {
      "needs_background": "light"
     },
     "output_type": "display_data"
    }
   ],
   "source": [
    "corr=sns.heatmap(df.corr())"
   ]
  },
  {
   "cell_type": "code",
   "execution_count": 63,
   "id": "b96c9bbb",
   "metadata": {},
   "outputs": [
    {
     "data": {
      "image/png": "[encoded data removed]",
      "text/plain": [
       "<Figure size 1152x432 with 2 Axes>"
      ]
     },
     "metadata": {
      "needs_background": "light"
     },
     "output_type": "display_data"
    }
   ],
   "source": [
    "# Increase the size of the heatmap.\n",
    "plt.figure(figsize=(16, 6))\n",
    "# Store heatmap object in a variable to easily access it when you want to include more features (such as title).\n",
    "# Set the range of values to be displayed on the colormap from -1 to 1, and set the annotation to True to display the correlation values on the heatmap.\n",
    "heatmap = sns.heatmap(df.corr(), vmin=-1, vmax=1, annot=True)\n",
    "# Give a title to the heatmap. Pad defines the distance of the title from the top of the heatmap.\n",
    "heatmap.set_title('Correlation Heatmap', fontdict={'fontsize':12}, pad=12);"
   ]
  },
  {
   "cell_type": "code",
   "execution_count": 35,
   "id": "d83b5120",
   "metadata": {
    "scrolled": false
   },
   "outputs": [
    {
     "name": "stdout",
     "output_type": "stream",
     "text": [
      "1081   2021-12-17\n",
      "1082   2021-12-18\n",
      "1083   2021-12-19\n",
      "1084   2021-12-20\n",
      "1085   2021-12-21\n",
      "1086   2021-12-22\n",
      "1087   2021-12-23\n",
      "1088   2021-12-24\n",
      "1089   2021-12-25\n",
      "1090   2021-12-26\n",
      "1091   2021-12-27\n",
      "1092   2021-12-28\n",
      "1093   2021-12-29\n",
      "1094   2021-12-30\n",
      "1095   2021-12-31\n",
      "Name: InvDate, dtype: datetime64[ns]\n"
     ]
    }
   ],
   "source": [
    "train_dates = pd.to_datetime(df['InvDate'])\n",
    "print(train_dates.tail(15)) #Check last few dates. "
   ]
  },
  {
   "cell_type": "code",
   "execution_count": null,
   "id": "1d22c4ee",
   "metadata": {},
   "outputs": [],
   "source": [
    "\n"
   ]
  },
  {
   "cell_type": "code",
   "execution_count": 36,
   "id": "f78e6c26",
   "metadata": {
    "scrolled": true
   },
   "outputs": [
    {
     "data": {
      "text/plain": [
       "InvDate    0\n",
       "InvQty     0\n",
       "tavg       1\n",
       "tmin       3\n",
       "tmax       3\n",
       "wdir       3\n",
       "wspd       3\n",
       "wpgt       3\n",
       "pres       3\n",
       "dtype: int64"
      ]
     },
     "execution_count": 36,
     "metadata": {},
     "output_type": "execute_result"
    }
   ],
   "source": [
    "df.isnull().sum()"
   ]
  },
  {
   "cell_type": "code",
   "execution_count": 37,
   "id": "3a2498ed",
   "metadata": {},
   "outputs": [
    {
     "name": "stderr",
     "output_type": "stream",
     "text": [
      "C:\\Users\\MOHAN-~1\\AppData\\Local\\Temp/ipykernel_20192/3358723971.py:1: FutureWarning: Dropping of nuisance columns in DataFrame reductions (with 'numeric_only=None') is deprecated; in a future version this will raise TypeError.  Select only valid columns before calling the reduction.\n",
      "  df=df.fillna(df.mean())\n"
     ]
    }
   ],
   "source": [
    "df=df.fillna(df.mean())"
   ]
  },
  {
   "cell_type": "code",
   "execution_count": 38,
   "id": "298578f6",
   "metadata": {},
   "outputs": [
    {
     "name": "stdout",
     "output_type": "stream",
     "text": [
      "['InvQty', 'tavg', 'tmin', 'tmax', 'wdir', 'wspd', 'wpgt']\n"
     ]
    }
   ],
   "source": [
    "#Variables for training\n",
    "cols = list(df)[1:8]\n",
    "#Date and volume columns are not used in training. \n",
    "print(cols) #['Open', 'High', 'Low', 'Close', 'Adj Close']"
   ]
  },
  {
   "cell_type": "code",
   "execution_count": 39,
   "id": "d0442d28",
   "metadata": {},
   "outputs": [],
   "source": [
    "#New dataframe with only training data - 5 columns\n",
    "df_for_training = df[cols].astype(float)"
   ]
  },
  {
   "cell_type": "code",
   "execution_count": 40,
   "id": "92e48f77",
   "metadata": {},
   "outputs": [],
   "source": [
    "scaler = StandardScaler()\n",
    "scaler = scaler.fit(df_for_training)\n",
    "df_for_training_scaled = scaler.transform(df_for_training)\n"
   ]
  },
  {
   "cell_type": "code",
   "execution_count": 41,
   "id": "66902c2c",
   "metadata": {},
   "outputs": [],
   "source": [
    "trainX = []\n",
    "trainY = []"
   ]
  },
  {
   "cell_type": "code",
   "execution_count": 42,
   "id": "61f31869",
   "metadata": {},
   "outputs": [],
   "source": [
    "n_future = 90   # Number of days we want to look into the future based on the past days.\n",
    "n_past = 140  # Number of past days we want to use to predict the future.\n"
   ]
  },
  {
   "cell_type": "code",
   "execution_count": 43,
   "id": "d39e2c22",
   "metadata": {},
   "outputs": [
    {
     "name": "stdout",
     "output_type": "stream",
     "text": [
      "trainX shape == (867, 140, 7).\n",
      "trainY shape == (867, 1).\n"
     ]
    }
   ],
   "source": [
    "#Reformat input data into a shape: (n_samples x timesteps x n_features)\n",
    "#In my example, my df_for_training_scaled has a shape (12823, 5)\n",
    "#12823 refers to the number of data points and 5 refers to the columns (multi-variables).\n",
    "for i in range(n_past, len(df_for_training_scaled) - n_future +1):\n",
    "    trainX.append(df_for_training_scaled[i - n_past:i, 0:df_for_training.shape[1]])\n",
    "    trainY.append(df_for_training_scaled[i + n_future - 1:i + n_future, 0])\n",
    "\n",
    "trainX, trainY = np.array(trainX), np.array(trainY)\n",
    "\n",
    "print('trainX shape == {}.'.format(trainX.shape))\n",
    "print('trainY shape == {}.'.format(trainY.shape))"
   ]
  },
  {
   "cell_type": "code",
   "execution_count": 44,
   "id": "e3e694d4",
   "metadata": {},
   "outputs": [],
   "source": [
    "\n",
    "model = Sequential()\n",
    "model.add(LSTM(64, activation='relu', input_shape=(trainX.shape[1], trainX.shape[2]), return_sequences=True))\n",
    "model.add(LSTM(32, activation='relu', return_sequences=False))\n",
    "model.add(Dropout(0.2))\n",
    "model.add(Dense(trainY.shape[1]))"
   ]
  },
  {
   "cell_type": "code",
   "execution_count": 45,
   "id": "751c4437",
   "metadata": {},
   "outputs": [
    {
     "name": "stdout",
     "output_type": "stream",
     "text": [
      "Model: \"sequential_1\"\n",
      "_________________________________________________________________\n",
      " Layer (type)                Output Shape              Param #   \n",
      "=================================================================\n",
      " lstm_2 (LSTM)               (None, 140, 64)           18432     \n",
      "                                                                 \n",
      " lstm_3 (LSTM)               (None, 32)                12416     \n",
      "                                                                 \n",
      " dropout_1 (Dropout)         (None, 32)                0         \n",
      "                                                                 \n",
      " dense_1 (Dense)             (None, 1)                 33        \n",
      "                                                                 \n",
      "=================================================================\n",
      "Total params: 30,881\n",
      "Trainable params: 30,881\n",
      "Non-trainable params: 0\n",
      "_________________________________________________________________\n"
     ]
    }
   ],
   "source": [
    "\n",
    "model.compile(optimizer='adam', loss='mse')\n",
    "model.summary()\n"
   ]
  },
  {
   "cell_type": "code",
   "execution_count": 46,
   "id": "685c6b06",
   "metadata": {
    "scrolled": true
   },
   "outputs": [
    {
     "name": "stdout",
     "output_type": "stream",
     "text": [
      "Epoch 1/30\n",
      "49/49 [==============================] - 6s 65ms/step - loss: 1.0485 - val_loss: 0.9176\n",
      "Epoch 2/30\n",
      "49/49 [==============================] - 3s 56ms/step - loss: 1.0220 - val_loss: 0.7962\n",
      "Epoch 3/30\n",
      "49/49 [==============================] - 3s 56ms/step - loss: 0.9839 - val_loss: 0.7761\n",
      "Epoch 4/30\n",
      "49/49 [==============================] - 3s 56ms/step - loss: 0.9423 - val_loss: 0.6408\n",
      "Epoch 5/30\n",
      "49/49 [==============================] - 3s 58ms/step - loss: 0.7873 - val_loss: 0.6974\n",
      "Epoch 6/30\n",
      "49/49 [==============================] - 3s 71ms/step - loss: 0.6634 - val_loss: 0.5186\n",
      "Epoch 7/30\n",
      "49/49 [==============================] - 4s 72ms/step - loss: 0.5802 - val_loss: 0.6822\n",
      "Epoch 8/30\n",
      "49/49 [==============================] - 4s 90ms/step - loss: 0.4999 - val_loss: 0.5723\n",
      "Epoch 9/30\n",
      "49/49 [==============================] - 4s 82ms/step - loss: 0.4621 - val_loss: 0.4335\n",
      "Epoch 10/30\n",
      "49/49 [==============================] - 5s 101ms/step - loss: 0.4200 - val_loss: 0.4356\n",
      "Epoch 11/30\n",
      "49/49 [==============================] - 5s 106ms/step - loss: 0.3892 - val_loss: 0.3960\n",
      "Epoch 12/30\n",
      "49/49 [==============================] - 5s 105ms/step - loss: nan - val_loss: nan\n",
      "Epoch 13/30\n",
      "49/49 [==============================] - 4s 82ms/step - loss: nan - val_loss: nan\n",
      "Epoch 14/30\n",
      "49/49 [==============================] - 4s 81ms/step - loss: nan - val_loss: nan\n",
      "Epoch 15/30\n",
      "49/49 [==============================] - 4s 84ms/step - loss: nan - val_loss: nan\n",
      "Epoch 16/30\n",
      "49/49 [==============================] - 4s 82ms/step - loss: nan - val_loss: nan\n",
      "Epoch 17/30\n",
      "49/49 [==============================] - 4s 81ms/step - loss: nan - val_loss: nan\n",
      "Epoch 18/30\n",
      "49/49 [==============================] - 4s 82ms/step - loss: nan - val_loss: nan\n",
      "Epoch 19/30\n",
      "49/49 [==============================] - 4s 72ms/step - loss: nan - val_loss: nan\n",
      "Epoch 20/30\n",
      "49/49 [==============================] - 4s 76ms/step - loss: nan - val_loss: nan\n",
      "Epoch 21/30\n",
      "49/49 [==============================] - 4s 72ms/step - loss: nan - val_loss: nan\n",
      "Epoch 22/30\n",
      "49/49 [==============================] - 3s 71ms/step - loss: nan - val_loss: nan\n",
      "Epoch 23/30\n",
      "49/49 [==============================] - 4s 72ms/step - loss: nan - val_loss: nan\n",
      "Epoch 24/30\n",
      "49/49 [==============================] - 4s 72ms/step - loss: nan - val_loss: nan\n",
      "Epoch 25/30\n",
      "49/49 [==============================] - 3s 71ms/step - loss: nan - val_loss: nan\n",
      "Epoch 26/30\n",
      "49/49 [==============================] - 4s 72ms/step - loss: nan - val_loss: nan\n",
      "Epoch 27/30\n",
      "49/49 [==============================] - 4s 73ms/step - loss: nan - val_loss: nan\n",
      "Epoch 28/30\n",
      "49/49 [==============================] - 4s 72ms/step - loss: nan - val_loss: nan\n",
      "Epoch 29/30\n",
      "49/49 [==============================] - 4s 83ms/step - loss: nan - val_loss: nan\n",
      "Epoch 30/30\n",
      "49/49 [==============================] - 4s 79ms/step - loss: nan - val_loss: nan\n"
     ]
    }
   ],
   "source": [
    "# fit the model\n",
    "history = model.fit(trainX, trainY, epochs=30, batch_size=16, validation_split=0.1, verbose=1)\n"
   ]
  },
  {
   "cell_type": "code",
   "execution_count": 47,
   "id": "71ad7e5f",
   "metadata": {},
   "outputs": [
    {
     "data": {
      "text/plain": [
       "<matplotlib.legend.Legend at 0x25654970ac0>"
      ]
     },
     "execution_count": 47,
     "metadata": {},
     "output_type": "execute_result"
    },
    {
     "data": {
      "image/png": "[encoded data removed]",
      "text/plain": [
       "<Figure size 432x288 with 1 Axes>"
      ]
     },
     "metadata": {
      "needs_background": "light"
     },
     "output_type": "display_data"
    }
   ],
   "source": [
    "\n",
    "plt.plot(history.history['loss'], label='Training loss')\n",
    "plt.plot(history.history['val_loss'], label='Validation loss')\n",
    "plt.legend()\n"
   ]
  },
  {
   "cell_type": "code",
   "execution_count": 48,
   "id": "ba6c4032",
   "metadata": {},
   "outputs": [],
   "source": [
    "#Predicting...\n",
    "#Libraries that will help us extract only business days in the US.\n",
    "#Otherwise our dates would be wrong when we look back (or forward).  \n",
    "from pandas.tseries.holiday import USFederalHolidayCalendar\n",
    "from pandas.tseries.offsets import CustomBusinessDay\n",
    "us_bd = CustomBusinessDay(calendar=USFederalHolidayCalendar())\n",
    "#Remember that we can only predict one day in future as our model needs 5 variables\n",
    "#as inputs for prediction. We only have all 5 variables until the last day in our dataset.\n",
    "n_past = 160\n",
    "n_days_for_prediction=150  #let us predict past 15 days"
   ]
  },
  {
   "cell_type": "code",
   "execution_count": 49,
   "id": "4701215e",
   "metadata": {},
   "outputs": [
    {
     "name": "stdout",
     "output_type": "stream",
     "text": [
      "[Timestamp('2021-07-26 00:00:00', freq='C'), Timestamp('2021-07-27 00:00:00', freq='C'), Timestamp('2021-07-28 00:00:00', freq='C'), Timestamp('2021-07-29 00:00:00', freq='C'), Timestamp('2021-07-30 00:00:00', freq='C'), Timestamp('2021-08-02 00:00:00', freq='C'), Timestamp('2021-08-03 00:00:00', freq='C'), Timestamp('2021-08-04 00:00:00', freq='C'), Timestamp('2021-08-05 00:00:00', freq='C'), Timestamp('2021-08-06 00:00:00', freq='C'), Timestamp('2021-08-09 00:00:00', freq='C'), Timestamp('2021-08-10 00:00:00', freq='C'), Timestamp('2021-08-11 00:00:00', freq='C'), Timestamp('2021-08-12 00:00:00', freq='C'), Timestamp('2021-08-13 00:00:00', freq='C'), Timestamp('2021-08-16 00:00:00', freq='C'), Timestamp('2021-08-17 00:00:00', freq='C'), Timestamp('2021-08-18 00:00:00', freq='C'), Timestamp('2021-08-19 00:00:00', freq='C'), Timestamp('2021-08-20 00:00:00', freq='C'), Timestamp('2021-08-23 00:00:00', freq='C'), Timestamp('2021-08-24 00:00:00', freq='C'), Timestamp('2021-08-25 00:00:00', freq='C'), Timestamp('2021-08-26 00:00:00', freq='C'), Timestamp('2021-08-27 00:00:00', freq='C'), Timestamp('2021-08-30 00:00:00', freq='C'), Timestamp('2021-08-31 00:00:00', freq='C'), Timestamp('2021-09-01 00:00:00', freq='C'), Timestamp('2021-09-02 00:00:00', freq='C'), Timestamp('2021-09-03 00:00:00', freq='C'), Timestamp('2021-09-07 00:00:00', freq='C'), Timestamp('2021-09-08 00:00:00', freq='C'), Timestamp('2021-09-09 00:00:00', freq='C'), Timestamp('2021-09-10 00:00:00', freq='C'), Timestamp('2021-09-13 00:00:00', freq='C'), Timestamp('2021-09-14 00:00:00', freq='C'), Timestamp('2021-09-15 00:00:00', freq='C'), Timestamp('2021-09-16 00:00:00', freq='C'), Timestamp('2021-09-17 00:00:00', freq='C'), Timestamp('2021-09-20 00:00:00', freq='C'), Timestamp('2021-09-21 00:00:00', freq='C'), Timestamp('2021-09-22 00:00:00', freq='C'), Timestamp('2021-09-23 00:00:00', freq='C'), Timestamp('2021-09-24 00:00:00', freq='C'), Timestamp('2021-09-27 00:00:00', freq='C'), Timestamp('2021-09-28 00:00:00', freq='C'), Timestamp('2021-09-29 00:00:00', freq='C'), Timestamp('2021-09-30 00:00:00', freq='C'), Timestamp('2021-10-01 00:00:00', freq='C'), Timestamp('2021-10-04 00:00:00', freq='C'), Timestamp('2021-10-05 00:00:00', freq='C'), Timestamp('2021-10-06 00:00:00', freq='C'), Timestamp('2021-10-07 00:00:00', freq='C'), Timestamp('2021-10-08 00:00:00', freq='C'), Timestamp('2021-10-12 00:00:00', freq='C'), Timestamp('2021-10-13 00:00:00', freq='C'), Timestamp('2021-10-14 00:00:00', freq='C'), Timestamp('2021-10-15 00:00:00', freq='C'), Timestamp('2021-10-18 00:00:00', freq='C'), Timestamp('2021-10-19 00:00:00', freq='C'), Timestamp('2021-10-20 00:00:00', freq='C'), Timestamp('2021-10-21 00:00:00', freq='C'), Timestamp('2021-10-22 00:00:00', freq='C'), Timestamp('2021-10-25 00:00:00', freq='C'), Timestamp('2021-10-26 00:00:00', freq='C'), Timestamp('2021-10-27 00:00:00', freq='C'), Timestamp('2021-10-28 00:00:00', freq='C'), Timestamp('2021-10-29 00:00:00', freq='C'), Timestamp('2021-11-01 00:00:00', freq='C'), Timestamp('2021-11-02 00:00:00', freq='C'), Timestamp('2021-11-03 00:00:00', freq='C'), Timestamp('2021-11-04 00:00:00', freq='C'), Timestamp('2021-11-05 00:00:00', freq='C'), Timestamp('2021-11-08 00:00:00', freq='C'), Timestamp('2021-11-09 00:00:00', freq='C'), Timestamp('2021-11-10 00:00:00', freq='C'), Timestamp('2021-11-12 00:00:00', freq='C'), Timestamp('2021-11-15 00:00:00', freq='C'), Timestamp('2021-11-16 00:00:00', freq='C'), Timestamp('2021-11-17 00:00:00', freq='C'), Timestamp('2021-11-18 00:00:00', freq='C'), Timestamp('2021-11-19 00:00:00', freq='C'), Timestamp('2021-11-22 00:00:00', freq='C'), Timestamp('2021-11-23 00:00:00', freq='C'), Timestamp('2021-11-24 00:00:00', freq='C'), Timestamp('2021-11-26 00:00:00', freq='C'), Timestamp('2021-11-29 00:00:00', freq='C'), Timestamp('2021-11-30 00:00:00', freq='C'), Timestamp('2021-12-01 00:00:00', freq='C'), Timestamp('2021-12-02 00:00:00', freq='C'), Timestamp('2021-12-03 00:00:00', freq='C'), Timestamp('2021-12-06 00:00:00', freq='C'), Timestamp('2021-12-07 00:00:00', freq='C'), Timestamp('2021-12-08 00:00:00', freq='C'), Timestamp('2021-12-09 00:00:00', freq='C'), Timestamp('2021-12-10 00:00:00', freq='C'), Timestamp('2021-12-13 00:00:00', freq='C'), Timestamp('2021-12-14 00:00:00', freq='C'), Timestamp('2021-12-15 00:00:00', freq='C'), Timestamp('2021-12-16 00:00:00', freq='C'), Timestamp('2021-12-17 00:00:00', freq='C'), Timestamp('2021-12-20 00:00:00', freq='C'), Timestamp('2021-12-21 00:00:00', freq='C'), Timestamp('2021-12-22 00:00:00', freq='C'), Timestamp('2021-12-23 00:00:00', freq='C'), Timestamp('2021-12-27 00:00:00', freq='C'), Timestamp('2021-12-28 00:00:00', freq='C'), Timestamp('2021-12-29 00:00:00', freq='C'), Timestamp('2021-12-30 00:00:00', freq='C'), Timestamp('2022-01-03 00:00:00', freq='C'), Timestamp('2022-01-04 00:00:00', freq='C'), Timestamp('2022-01-05 00:00:00', freq='C'), Timestamp('2022-01-06 00:00:00', freq='C'), Timestamp('2022-01-07 00:00:00', freq='C'), Timestamp('2022-01-10 00:00:00', freq='C'), Timestamp('2022-01-11 00:00:00', freq='C'), Timestamp('2022-01-12 00:00:00', freq='C'), Timestamp('2022-01-13 00:00:00', freq='C'), Timestamp('2022-01-14 00:00:00', freq='C'), Timestamp('2022-01-18 00:00:00', freq='C'), Timestamp('2022-01-19 00:00:00', freq='C'), Timestamp('2022-01-20 00:00:00', freq='C'), Timestamp('2022-01-21 00:00:00', freq='C'), Timestamp('2022-01-24 00:00:00', freq='C'), Timestamp('2022-01-25 00:00:00', freq='C'), Timestamp('2022-01-26 00:00:00', freq='C'), Timestamp('2022-01-27 00:00:00', freq='C'), Timestamp('2022-01-28 00:00:00', freq='C'), Timestamp('2022-01-31 00:00:00', freq='C'), Timestamp('2022-02-01 00:00:00', freq='C'), Timestamp('2022-02-02 00:00:00', freq='C'), Timestamp('2022-02-03 00:00:00', freq='C'), Timestamp('2022-02-04 00:00:00', freq='C'), Timestamp('2022-02-07 00:00:00', freq='C'), Timestamp('2022-02-08 00:00:00', freq='C'), Timestamp('2022-02-09 00:00:00', freq='C'), Timestamp('2022-02-10 00:00:00', freq='C'), Timestamp('2022-02-11 00:00:00', freq='C'), Timestamp('2022-02-14 00:00:00', freq='C'), Timestamp('2022-02-15 00:00:00', freq='C'), Timestamp('2022-02-16 00:00:00', freq='C'), Timestamp('2022-02-17 00:00:00', freq='C'), Timestamp('2022-02-18 00:00:00', freq='C'), Timestamp('2022-02-22 00:00:00', freq='C'), Timestamp('2022-02-23 00:00:00', freq='C'), Timestamp('2022-02-24 00:00:00', freq='C'), Timestamp('2022-02-25 00:00:00', freq='C'), Timestamp('2022-02-28 00:00:00', freq='C'), Timestamp('2022-03-01 00:00:00', freq='C'), Timestamp('2022-03-02 00:00:00', freq='C')]\n",
      "5/5 [==============================] - 0s 22ms/step\n"
     ]
    }
   ],
   "source": [
    "\n",
    "predict_period_dates = pd.date_range(list(train_dates)[-n_past], periods=n_days_for_prediction, freq=us_bd).tolist()\n",
    "print(predict_period_dates)\n",
    "\n",
    "#Make prediction\n",
    "prediction = model.predict(trainX[-n_days_for_prediction:]) #shape = (n, 1) where n is the n_days_for_prediction\n",
    "\n",
    "#Perform inverse transformation to rescale back to original range\n",
    "#Since we used 5 variables for transform, the inverse expects same dimensions\n",
    "#Therefore, let us copy our values 5 times and discard them after inverse transform\n",
    "prediction_copies = np.repeat(prediction, df_for_training.shape[1], axis=-1)\n",
    "y_pred_future = scaler.inverse_transform(prediction_copies)[:,0]\n"
   ]
  },
  {
   "cell_type": "code",
   "execution_count": 50,
   "id": "0df21521",
   "metadata": {},
   "outputs": [
    {
     "data": {
      "text/html": [
       "<div>\n",
       "<style scoped>\n",
       "    .dataframe tbody tr th:only-of-type {\n",
       "        vertical-align: middle;\n",
       "    }\n",
       "\n",
       "    .dataframe tbody tr th {\n",
       "        vertical-align: top;\n",
       "    }\n",
       "\n",
       "    .dataframe thead th {\n",
       "        text-align: right;\n",
       "    }\n",
       "</style>\n",
       "<table border=\"1\" class=\"dataframe\">\n",
       "  <thead>\n",
       "    <tr style=\"text-align: right;\">\n",
       "      <th></th>\n",
       "      <th>InvDate</th>\n",
       "      <th>InvQty</th>\n",
       "      <th>tavg</th>\n",
       "      <th>tmin</th>\n",
       "      <th>tmax</th>\n",
       "      <th>wdir</th>\n",
       "      <th>wspd</th>\n",
       "      <th>wpgt</th>\n",
       "      <th>pres</th>\n",
       "    </tr>\n",
       "  </thead>\n",
       "  <tbody>\n",
       "    <tr>\n",
       "      <th>0</th>\n",
       "      <td>2019-01-01</td>\n",
       "      <td>0.0</td>\n",
       "      <td>6.3</td>\n",
       "      <td>4.4</td>\n",
       "      <td>8.2</td>\n",
       "      <td>307.0</td>\n",
       "      <td>20.1</td>\n",
       "      <td>37.0</td>\n",
       "      <td>1033.9</td>\n",
       "    </tr>\n",
       "    <tr>\n",
       "      <th>1</th>\n",
       "      <td>2019-01-02</td>\n",
       "      <td>166838.0</td>\n",
       "      <td>3.9</td>\n",
       "      <td>3.0</td>\n",
       "      <td>5.2</td>\n",
       "      <td>336.0</td>\n",
       "      <td>14.1</td>\n",
       "      <td>31.5</td>\n",
       "      <td>1041.9</td>\n",
       "    </tr>\n",
       "    <tr>\n",
       "      <th>2</th>\n",
       "      <td>2019-01-03</td>\n",
       "      <td>177934.0</td>\n",
       "      <td>2.4</td>\n",
       "      <td>0.1</td>\n",
       "      <td>4.2</td>\n",
       "      <td>309.0</td>\n",
       "      <td>10.0</td>\n",
       "      <td>20.4</td>\n",
       "      <td>1042.8</td>\n",
       "    </tr>\n",
       "    <tr>\n",
       "      <th>3</th>\n",
       "      <td>2019-01-04</td>\n",
       "      <td>241314.0</td>\n",
       "      <td>1.1</td>\n",
       "      <td>-1.5</td>\n",
       "      <td>3.6</td>\n",
       "      <td>283.0</td>\n",
       "      <td>12.6</td>\n",
       "      <td>25.9</td>\n",
       "      <td>1040.5</td>\n",
       "    </tr>\n",
       "    <tr>\n",
       "      <th>4</th>\n",
       "      <td>2019-01-05</td>\n",
       "      <td>70676.0</td>\n",
       "      <td>2.5</td>\n",
       "      <td>1.1</td>\n",
       "      <td>4.3</td>\n",
       "      <td>295.0</td>\n",
       "      <td>14.3</td>\n",
       "      <td>29.6</td>\n",
       "      <td>1037.2</td>\n",
       "    </tr>\n",
       "  </tbody>\n",
       "</table>\n",
       "</div>"
      ],
      "text/plain": [
       "      InvDate    InvQty  tavg  tmin  tmax   wdir  wspd  wpgt    pres\n",
       "0  2019-01-01       0.0   6.3   4.4   8.2  307.0  20.1  37.0  1033.9\n",
       "1  2019-01-02  166838.0   3.9   3.0   5.2  336.0  14.1  31.5  1041.9\n",
       "2  2019-01-03  177934.0   2.4   0.1   4.2  309.0  10.0  20.4  1042.8\n",
       "3  2019-01-04  241314.0   1.1  -1.5   3.6  283.0  12.6  25.9  1040.5\n",
       "4  2019-01-05   70676.0   2.5   1.1   4.3  295.0  14.3  29.6  1037.2"
      ]
     },
     "execution_count": 50,
     "metadata": {},
     "output_type": "execute_result"
    }
   ],
   "source": [
    "df.head()"
   ]
  },
  {
   "cell_type": "code",
   "execution_count": 51,
   "id": "1f7eb42e",
   "metadata": {},
   "outputs": [
    {
     "name": "stderr",
     "output_type": "stream",
     "text": [
      "C:\\Users\\MOHAN-~1\\AppData\\Local\\Temp/ipykernel_20192/1648104090.py:11: SettingWithCopyWarning: \n",
      "A value is trying to be set on a copy of a slice from a DataFrame.\n",
      "Try using .loc[row_indexer,col_indexer] = value instead\n",
      "\n",
      "See the caveats in the documentation: https://pandas.pydata.org/pandas-docs/stable/user_guide/indexing.html#returning-a-view-versus-a-copy\n",
      "  original['InvDate']=pd.to_datetime(original['InvDate'])\n",
      "C:\\Users\\mohan-prakashj\\Anaconda3\\lib\\site-packages\\seaborn\\_decorators.py:36: FutureWarning: Pass the following variables as keyword args: x, y. From version 0.12, the only valid positional argument will be `data`, and passing other arguments without an explicit keyword will result in an error or misinterpretation.\n",
      "  warnings.warn(\n",
      "C:\\Users\\mohan-prakashj\\Anaconda3\\lib\\site-packages\\seaborn\\_decorators.py:36: FutureWarning: Pass the following variables as keyword args: x, y. From version 0.12, the only valid positional argument will be `data`, and passing other arguments without an explicit keyword will result in an error or misinterpretation.\n",
      "  warnings.warn(\n"
     ]
    },
    {
     "data": {
      "text/plain": [
       "<AxesSubplot:xlabel='InvDate', ylabel='InvQty'>"
      ]
     },
     "execution_count": 51,
     "metadata": {},
     "output_type": "execute_result"
    },
    {
     "data": {
      "image/png": "[encoded data removed]",
      "text/plain": [
       "<Figure size 432x288 with 1 Axes>"
      ]
     },
     "metadata": {
      "needs_background": "light"
     },
     "output_type": "display_data"
    }
   ],
   "source": [
    "\n",
    "# Convert timestamp to date\n",
    "forecast_dates = []\n",
    "for time_i in predict_period_dates:\n",
    "    forecast_dates.append(time_i.date())\n",
    "    \n",
    "df_forecast = pd.DataFrame({'InvDate':np.array(forecast_dates), 'InvQty':y_pred_future})\n",
    "df_forecast['InvDate']=pd.to_datetime(df_forecast['InvDate'])\n",
    "\n",
    "\n",
    "original = df[['InvDate', 'InvQty']]\n",
    "original['InvDate']=pd.to_datetime(original['InvDate'])\n",
    "original = original.loc[original['InvDate'] >= '2020-5-1']\n",
    "\n",
    "sns.lineplot(original['InvDate'], original['InvQty'])\n",
    "sns.lineplot(df_forecast['InvDate'], df_forecast['InvQty'])"
   ]
  },
  {
   "cell_type": "code",
   "execution_count": null,
   "id": "0b4ae1b2",
   "metadata": {},
   "outputs": [],
   "source": []
  },
  {
   "cell_type": "code",
   "execution_count": 27,
   "id": "6a70df48",
   "metadata": {},
   "outputs": [
    {
     "data": {
      "text/html": [
       "<div>\n",
       "<style scoped>\n",
       "    .dataframe tbody tr th:only-of-type {\n",
       "        vertical-align: middle;\n",
       "    }\n",
       "\n",
       "    .dataframe tbody tr th {\n",
       "        vertical-align: top;\n",
       "    }\n",
       "\n",
       "    .dataframe thead th {\n",
       "        text-align: right;\n",
       "    }\n",
       "</style>\n",
       "<table border=\"1\" class=\"dataframe\">\n",
       "  <thead>\n",
       "    <tr style=\"text-align: right;\">\n",
       "      <th></th>\n",
       "      <th>InvDate</th>\n",
       "      <th>InvQty</th>\n",
       "    </tr>\n",
       "  </thead>\n",
       "  <tbody>\n",
       "    <tr>\n",
       "      <th>0</th>\n",
       "      <td>2021-07-26</td>\n",
       "      <td>NaN</td>\n",
       "    </tr>\n",
       "    <tr>\n",
       "      <th>1</th>\n",
       "      <td>2021-07-27</td>\n",
       "      <td>NaN</td>\n",
       "    </tr>\n",
       "    <tr>\n",
       "      <th>2</th>\n",
       "      <td>2021-07-28</td>\n",
       "      <td>NaN</td>\n",
       "    </tr>\n",
       "    <tr>\n",
       "      <th>3</th>\n",
       "      <td>2021-07-29</td>\n",
       "      <td>NaN</td>\n",
       "    </tr>\n",
       "    <tr>\n",
       "      <th>4</th>\n",
       "      <td>2021-07-30</td>\n",
       "      <td>NaN</td>\n",
       "    </tr>\n",
       "  </tbody>\n",
       "</table>\n",
       "</div>"
      ],
      "text/plain": [
       "     InvDate  InvQty\n",
       "0 2021-07-26     NaN\n",
       "1 2021-07-27     NaN\n",
       "2 2021-07-28     NaN\n",
       "3 2021-07-29     NaN\n",
       "4 2021-07-30     NaN"
      ]
     },
     "execution_count": 27,
     "metadata": {},
     "output_type": "execute_result"
    }
   ],
   "source": [
    "df_forecast.head()"
   ]
  },
  {
   "cell_type": "code",
   "execution_count": 28,
   "id": "52489c3a",
   "metadata": {
    "scrolled": false
   },
   "outputs": [
    {
     "data": {
      "text/html": [
       "<div>\n",
       "<style scoped>\n",
       "    .dataframe tbody tr th:only-of-type {\n",
       "        vertical-align: middle;\n",
       "    }\n",
       "\n",
       "    .dataframe tbody tr th {\n",
       "        vertical-align: top;\n",
       "    }\n",
       "\n",
       "    .dataframe thead th {\n",
       "        text-align: right;\n",
       "    }\n",
       "</style>\n",
       "<table border=\"1\" class=\"dataframe\">\n",
       "  <thead>\n",
       "    <tr style=\"text-align: right;\">\n",
       "      <th></th>\n",
       "      <th>InvDate</th>\n",
       "      <th>InvQty</th>\n",
       "    </tr>\n",
       "  </thead>\n",
       "  <tbody>\n",
       "    <tr>\n",
       "      <th>145</th>\n",
       "      <td>2022-02-24</td>\n",
       "      <td>NaN</td>\n",
       "    </tr>\n",
       "    <tr>\n",
       "      <th>146</th>\n",
       "      <td>2022-02-25</td>\n",
       "      <td>NaN</td>\n",
       "    </tr>\n",
       "    <tr>\n",
       "      <th>147</th>\n",
       "      <td>2022-02-28</td>\n",
       "      <td>NaN</td>\n",
       "    </tr>\n",
       "    <tr>\n",
       "      <th>148</th>\n",
       "      <td>2022-03-01</td>\n",
       "      <td>NaN</td>\n",
       "    </tr>\n",
       "    <tr>\n",
       "      <th>149</th>\n",
       "      <td>2022-03-02</td>\n",
       "      <td>NaN</td>\n",
       "    </tr>\n",
       "  </tbody>\n",
       "</table>\n",
       "</div>"
      ],
      "text/plain": [
       "       InvDate  InvQty\n",
       "145 2022-02-24     NaN\n",
       "146 2022-02-25     NaN\n",
       "147 2022-02-28     NaN\n",
       "148 2022-03-01     NaN\n",
       "149 2022-03-02     NaN"
      ]
     },
     "execution_count": 28,
     "metadata": {},
     "output_type": "execute_result"
    }
   ],
   "source": [
    "df_forecast.tail()"
   ]
  },
  {
   "cell_type": "code",
   "execution_count": 29,
   "id": "bb2bdcd1",
   "metadata": {},
   "outputs": [
    {
     "name": "stderr",
     "output_type": "stream",
     "text": [
      "C:\\Users\\mohan-prakashj\\Anaconda3\\lib\\site-packages\\seaborn\\_decorators.py:36: FutureWarning: Pass the following variables as keyword args: x, y. From version 0.12, the only valid positional argument will be `data`, and passing other arguments without an explicit keyword will result in an error or misinterpretation.\n",
      "  warnings.warn(\n"
     ]
    },
    {
     "data": {
      "text/plain": [
       "<AxesSubplot:xlabel='InvDate'>"
      ]
     },
     "execution_count": 29,
     "metadata": {},
     "output_type": "execute_result"
    },
    {
     "data": {
      "image/png": "[encoded data removed]",
      "text/plain": [
       "<Figure size 432x288 with 1 Axes>"
      ]
     },
     "metadata": {
      "needs_background": "light"
     },
     "output_type": "display_data"
    }
   ],
   "source": [
    "sns.lineplot(df_forecast['InvDate'], df_forecast['InvQty'])"
   ]
  },
  {
   "cell_type": "code",
   "execution_count": null,
   "id": "2b4859ce",
   "metadata": {},
   "outputs": [],
   "source": []
  }
 ],
 "metadata": {
  "kernelspec": {
   "display_name": "Python 3 (ipykernel)",
   "language": "python",
   "name": "python3"
  },
  "language_info": {
   "codemirror_mode": {
    "name": "ipython",
    "version": 3
   },
   "file_extension": ".py",
   "mimetype": "text/x-python",
   "name": "python",
   "nbconvert_exporter": "python",
   "pygments_lexer": "ipython3",
   "version": "3.9.7"
  }
 },
 "nbformat": 4,
 "nbformat_minor": 5
}
