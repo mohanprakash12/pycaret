{
 "cells": [
  {
   "cell_type": "code",
   "execution_count": 1,
   "id": "492d8499",
   "metadata": {},
   "outputs": [],
   "source": [
    "import os\n",
    "os.chdir('P:\\SAMPLE DATA')"
   ]
  },
  {
   "cell_type": "code",
   "execution_count": 9,
   "id": "ac28392e",
   "metadata": {},
   "outputs": [],
   "source": [
    "import seaborn as sns"
   ]
  },
  {
   "cell_type": "code",
   "execution_count": 13,
   "id": "2df85bb3",
   "metadata": {},
   "outputs": [
    {
     "ename": "ModuleNotFoundError",
     "evalue": "No module named 'tensorflow'",
     "output_type": "error",
     "traceback": [
      "\u001b[1;31m---------------------------------------------------------------------------\u001b[0m",
      "\u001b[1;31mModuleNotFoundError\u001b[0m                       Traceback (most recent call last)",
      "\u001b[1;32mC:\\Users\\MOHAN-~1\\AppData\\Local\\Temp/ipykernel_17500/3983963748.py\u001b[0m in \u001b[0;36m<module>\u001b[1;34m\u001b[0m\n\u001b[0;32m      7\u001b[0m \u001b[1;32mimport\u001b[0m \u001b[0mmatplotlib\u001b[0m\u001b[1;33m.\u001b[0m\u001b[0mdates\u001b[0m \u001b[1;32mas\u001b[0m \u001b[0mmdates\u001b[0m \u001b[1;31m# Formatting dates\u001b[0m\u001b[1;33m\u001b[0m\u001b[1;33m\u001b[0m\u001b[0m\n\u001b[0;32m      8\u001b[0m \u001b[1;32mfrom\u001b[0m \u001b[0msklearn\u001b[0m\u001b[1;33m.\u001b[0m\u001b[0mmetrics\u001b[0m \u001b[1;32mimport\u001b[0m \u001b[0mmean_absolute_error\u001b[0m\u001b[1;33m,\u001b[0m \u001b[0mmean_squared_error\u001b[0m \u001b[1;31m# Packages for measuring model performance / errors\u001b[0m\u001b[1;33m\u001b[0m\u001b[1;33m\u001b[0m\u001b[0m\n\u001b[1;32m----> 9\u001b[1;33m \u001b[1;32mfrom\u001b[0m \u001b[0mkeras\u001b[0m\u001b[1;33m.\u001b[0m\u001b[0mmodels\u001b[0m \u001b[1;32mimport\u001b[0m \u001b[0mSequential\u001b[0m \u001b[1;31m# Deep learning library, used for neural networks\u001b[0m\u001b[1;33m\u001b[0m\u001b[1;33m\u001b[0m\u001b[0m\n\u001b[0m\u001b[0;32m     10\u001b[0m \u001b[1;32mfrom\u001b[0m \u001b[0mkeras\u001b[0m\u001b[1;33m.\u001b[0m\u001b[0mlayers\u001b[0m \u001b[1;32mimport\u001b[0m \u001b[0mLSTM\u001b[0m\u001b[1;33m,\u001b[0m \u001b[0mDense\u001b[0m\u001b[1;33m,\u001b[0m \u001b[0mDropout\u001b[0m \u001b[1;31m# Deep learning classes for recurrent and regular densely-connected layers\u001b[0m\u001b[1;33m\u001b[0m\u001b[1;33m\u001b[0m\u001b[0m\n\u001b[0;32m     11\u001b[0m \u001b[1;32mfrom\u001b[0m \u001b[0mkeras\u001b[0m\u001b[1;33m.\u001b[0m\u001b[0mcallbacks\u001b[0m \u001b[1;32mimport\u001b[0m \u001b[0mEarlyStopping\u001b[0m \u001b[1;31m# EarlyStopping during model training\u001b[0m\u001b[1;33m\u001b[0m\u001b[1;33m\u001b[0m\u001b[0m\n",
      "\u001b[1;32m~\\Anaconda3\\lib\\site-packages\\keras\\__init__.py\u001b[0m in \u001b[0;36m<module>\u001b[1;34m\u001b[0m\n\u001b[0;32m     19\u001b[0m \"\"\"\n\u001b[0;32m     20\u001b[0m \u001b[1;31m# pylint: disable=unused-import\u001b[0m\u001b[1;33m\u001b[0m\u001b[1;33m\u001b[0m\u001b[0m\n\u001b[1;32m---> 21\u001b[1;33m \u001b[1;32mfrom\u001b[0m \u001b[0mtensorflow\u001b[0m\u001b[1;33m.\u001b[0m\u001b[0mpython\u001b[0m \u001b[1;32mimport\u001b[0m \u001b[0mtf2\u001b[0m\u001b[1;33m\u001b[0m\u001b[1;33m\u001b[0m\u001b[0m\n\u001b[0m\u001b[0;32m     22\u001b[0m \u001b[1;32mfrom\u001b[0m \u001b[0mkeras\u001b[0m \u001b[1;32mimport\u001b[0m \u001b[0mdistribute\u001b[0m\u001b[1;33m\u001b[0m\u001b[1;33m\u001b[0m\u001b[0m\n\u001b[0;32m     23\u001b[0m \u001b[1;33m\u001b[0m\u001b[0m\n",
      "\u001b[1;31mModuleNotFoundError\u001b[0m: No module named 'tensorflow'"
     ]
    }
   ],
   "source": [
    "import math # Mathematical functions \n",
    "import numpy as np # Fundamental package for scientific computing with Python\n",
    "import pandas as pd # Additional functions for analysing and manipulating data\n",
    "from datetime import date, timedelta, datetime # Date Functions\n",
    "from pandas.plotting import register_matplotlib_converters # This function adds plotting functions for calender dates\n",
    "import matplotlib.pyplot as plt # Important package for visualization - we use this to plot the market data\n",
    "import matplotlib.dates as mdates # Formatting dates\n",
    "from sklearn.metrics import mean_absolute_error, mean_squared_error # Packages for measuring model performance / errors\n",
    "from keras.models import Sequential # Deep learning library, used for neural networks\n",
    "from keras.layers import LSTM, Dense, Dropout # Deep learning classes for recurrent and regular densely-connected layers\n",
    "from keras.callbacks import EarlyStopping # EarlyStopping during model training\n",
    "from sklearn.preprocessing import RobustScaler, MinMaxScaler # This Scaler removes the median and scales the data according to the quantile range to normalize the price data \n",
    "import seaborn as sns\n"
   ]
  },
  {
   "cell_type": "code",
   "execution_count": null,
   "id": "8be0b09f",
   "metadata": {},
   "outputs": [],
   "source": []
  },
  {
   "cell_type": "code",
   "execution_count": 3,
   "id": "b93c8d1a",
   "metadata": {},
   "outputs": [],
   "source": [
    "df=pd.read_csv('datasetmultivariate.csv')"
   ]
  },
  {
   "cell_type": "code",
   "execution_count": 4,
   "id": "f8497f01",
   "metadata": {},
   "outputs": [],
   "source": [
    "df.drop('Unnamed: 0',axis=1, inplace=True)"
   ]
  },
  {
   "cell_type": "code",
   "execution_count": 5,
   "id": "1107cc27",
   "metadata": {},
   "outputs": [
    {
     "data": {
      "text/html": [
       "<div>\n",
       "<style scoped>\n",
       "    .dataframe tbody tr th:only-of-type {\n",
       "        vertical-align: middle;\n",
       "    }\n",
       "\n",
       "    .dataframe tbody tr th {\n",
       "        vertical-align: top;\n",
       "    }\n",
       "\n",
       "    .dataframe thead th {\n",
       "        text-align: right;\n",
       "    }\n",
       "</style>\n",
       "<table border=\"1\" class=\"dataframe\">\n",
       "  <thead>\n",
       "    <tr style=\"text-align: right;\">\n",
       "      <th></th>\n",
       "      <th>InvDate</th>\n",
       "      <th>tavg</th>\n",
       "      <th>tmin</th>\n",
       "      <th>tmax</th>\n",
       "      <th>prcp</th>\n",
       "      <th>wdir</th>\n",
       "      <th>wspd</th>\n",
       "      <th>wpgt</th>\n",
       "      <th>pres</th>\n",
       "      <th>InvQty</th>\n",
       "    </tr>\n",
       "  </thead>\n",
       "  <tbody>\n",
       "    <tr>\n",
       "      <th>0</th>\n",
       "      <td>2019-01-02</td>\n",
       "      <td>3.9</td>\n",
       "      <td>3.0</td>\n",
       "      <td>5.2</td>\n",
       "      <td>0.0</td>\n",
       "      <td>336.0</td>\n",
       "      <td>14.1</td>\n",
       "      <td>31.5</td>\n",
       "      <td>1041.9</td>\n",
       "      <td>271070</td>\n",
       "    </tr>\n",
       "    <tr>\n",
       "      <th>1</th>\n",
       "      <td>2019-01-03</td>\n",
       "      <td>2.4</td>\n",
       "      <td>0.1</td>\n",
       "      <td>4.2</td>\n",
       "      <td>0.0</td>\n",
       "      <td>309.0</td>\n",
       "      <td>10.0</td>\n",
       "      <td>20.4</td>\n",
       "      <td>1042.8</td>\n",
       "      <td>323298</td>\n",
       "    </tr>\n",
       "    <tr>\n",
       "      <th>2</th>\n",
       "      <td>2019-01-04</td>\n",
       "      <td>1.1</td>\n",
       "      <td>-1.5</td>\n",
       "      <td>3.6</td>\n",
       "      <td>0.0</td>\n",
       "      <td>283.0</td>\n",
       "      <td>12.6</td>\n",
       "      <td>25.9</td>\n",
       "      <td>1040.5</td>\n",
       "      <td>391404</td>\n",
       "    </tr>\n",
       "    <tr>\n",
       "      <th>3</th>\n",
       "      <td>2019-01-05</td>\n",
       "      <td>2.5</td>\n",
       "      <td>1.1</td>\n",
       "      <td>4.3</td>\n",
       "      <td>0.0</td>\n",
       "      <td>295.0</td>\n",
       "      <td>14.3</td>\n",
       "      <td>29.6</td>\n",
       "      <td>1037.2</td>\n",
       "      <td>248758</td>\n",
       "    </tr>\n",
       "    <tr>\n",
       "      <th>4</th>\n",
       "      <td>2019-01-06</td>\n",
       "      <td>4.2</td>\n",
       "      <td>1.9</td>\n",
       "      <td>6.5</td>\n",
       "      <td>0.0</td>\n",
       "      <td>273.0</td>\n",
       "      <td>9.4</td>\n",
       "      <td>18.5</td>\n",
       "      <td>1035.5</td>\n",
       "      <td>28656</td>\n",
       "    </tr>\n",
       "    <tr>\n",
       "      <th>...</th>\n",
       "      <td>...</td>\n",
       "      <td>...</td>\n",
       "      <td>...</td>\n",
       "      <td>...</td>\n",
       "      <td>...</td>\n",
       "      <td>...</td>\n",
       "      <td>...</td>\n",
       "      <td>...</td>\n",
       "      <td>...</td>\n",
       "      <td>...</td>\n",
       "    </tr>\n",
       "    <tr>\n",
       "      <th>1087</th>\n",
       "      <td>2021-12-27</td>\n",
       "      <td>6.4</td>\n",
       "      <td>5.2</td>\n",
       "      <td>7.6</td>\n",
       "      <td>1.4</td>\n",
       "      <td>144.0</td>\n",
       "      <td>14.4</td>\n",
       "      <td>31.5</td>\n",
       "      <td>993.4</td>\n",
       "      <td>2580</td>\n",
       "    </tr>\n",
       "    <tr>\n",
       "      <th>1088</th>\n",
       "      <td>2021-12-28</td>\n",
       "      <td>8.2</td>\n",
       "      <td>7.2</td>\n",
       "      <td>8.9</td>\n",
       "      <td>4.2</td>\n",
       "      <td>239.0</td>\n",
       "      <td>17.3</td>\n",
       "      <td>37.0</td>\n",
       "      <td>990.5</td>\n",
       "      <td>6190</td>\n",
       "    </tr>\n",
       "    <tr>\n",
       "      <th>1089</th>\n",
       "      <td>2021-12-29</td>\n",
       "      <td>8.6</td>\n",
       "      <td>6.4</td>\n",
       "      <td>11.7</td>\n",
       "      <td>1.8</td>\n",
       "      <td>218.0</td>\n",
       "      <td>18.5</td>\n",
       "      <td>40.8</td>\n",
       "      <td>1002.3</td>\n",
       "      <td>151808</td>\n",
       "    </tr>\n",
       "    <tr>\n",
       "      <th>1090</th>\n",
       "      <td>2021-12-30</td>\n",
       "      <td>12.9</td>\n",
       "      <td>10.7</td>\n",
       "      <td>14.0</td>\n",
       "      <td>0.2</td>\n",
       "      <td>226.0</td>\n",
       "      <td>27.7</td>\n",
       "      <td>50.0</td>\n",
       "      <td>1009.0</td>\n",
       "      <td>172952</td>\n",
       "    </tr>\n",
       "    <tr>\n",
       "      <th>1091</th>\n",
       "      <td>2021-12-31</td>\n",
       "      <td>12.6</td>\n",
       "      <td>11.0</td>\n",
       "      <td>13.7</td>\n",
       "      <td>0.9</td>\n",
       "      <td>227.0</td>\n",
       "      <td>26.1</td>\n",
       "      <td>50.0</td>\n",
       "      <td>1013.4</td>\n",
       "      <td>111707</td>\n",
       "    </tr>\n",
       "  </tbody>\n",
       "</table>\n",
       "<p>1092 rows × 10 columns</p>\n",
       "</div>"
      ],
      "text/plain": [
       "         InvDate  tavg  tmin  tmax  prcp   wdir  wspd  wpgt    pres  InvQty\n",
       "0     2019-01-02   3.9   3.0   5.2   0.0  336.0  14.1  31.5  1041.9  271070\n",
       "1     2019-01-03   2.4   0.1   4.2   0.0  309.0  10.0  20.4  1042.8  323298\n",
       "2     2019-01-04   1.1  -1.5   3.6   0.0  283.0  12.6  25.9  1040.5  391404\n",
       "3     2019-01-05   2.5   1.1   4.3   0.0  295.0  14.3  29.6  1037.2  248758\n",
       "4     2019-01-06   4.2   1.9   6.5   0.0  273.0   9.4  18.5  1035.5   28656\n",
       "...          ...   ...   ...   ...   ...    ...   ...   ...     ...     ...\n",
       "1087  2021-12-27   6.4   5.2   7.6   1.4  144.0  14.4  31.5   993.4    2580\n",
       "1088  2021-12-28   8.2   7.2   8.9   4.2  239.0  17.3  37.0   990.5    6190\n",
       "1089  2021-12-29   8.6   6.4  11.7   1.8  218.0  18.5  40.8  1002.3  151808\n",
       "1090  2021-12-30  12.9  10.7  14.0   0.2  226.0  27.7  50.0  1009.0  172952\n",
       "1091  2021-12-31  12.6  11.0  13.7   0.9  227.0  26.1  50.0  1013.4  111707\n",
       "\n",
       "[1092 rows x 10 columns]"
      ]
     },
     "execution_count": 5,
     "metadata": {},
     "output_type": "execute_result"
    }
   ],
   "source": [
    "df"
   ]
  },
  {
   "cell_type": "code",
   "execution_count": 6,
   "id": "84e86d62",
   "metadata": {},
   "outputs": [
    {
     "data": {
      "text/plain": [
       "(1092, 10)"
      ]
     },
     "execution_count": 6,
     "metadata": {},
     "output_type": "execute_result"
    }
   ],
   "source": [
    "df.shape"
   ]
  },
  {
   "cell_type": "code",
   "execution_count": 7,
   "id": "c4d2b50e",
   "metadata": {},
   "outputs": [
    {
     "data": {
      "text/plain": [
       "InvDate    0\n",
       "tavg       0\n",
       "tmin       0\n",
       "tmax       0\n",
       "prcp       0\n",
       "wdir       0\n",
       "wspd       0\n",
       "wpgt       0\n",
       "pres       0\n",
       "InvQty     0\n",
       "dtype: int64"
      ]
     },
     "execution_count": 7,
     "metadata": {},
     "output_type": "execute_result"
    }
   ],
   "source": [
    "df.isnull().sum()"
   ]
  },
  {
   "cell_type": "code",
   "execution_count": 10,
   "id": "5db21409",
   "metadata": {},
   "outputs": [
    {
     "data": {
      "text/plain": [
       "<AxesSubplot:>"
      ]
     },
     "execution_count": 10,
     "metadata": {},
     "output_type": "execute_result"
    },
    {
     "data": {
      "image/png": "[encoded data removed]",
      "text/plain": [
       "<Figure size 432x288 with 2 Axes>"
      ]
     },
     "metadata": {
      "needs_background": "light"
     },
     "output_type": "display_data"
    }
   ],
   "source": [
    "sns.heatmap(df.corr())"
   ]
  },
  {
   "cell_type": "code",
   "execution_count": 12,
   "id": "6c8177ed",
   "metadata": {},
   "outputs": [
    {
     "data": {
      "text/plain": [
       "Index(['InvDate', 'tavg', 'tmin', 'tmax', 'prcp', 'wdir', 'wspd', 'wpgt',\n",
       "       'pres', 'InvQty'],\n",
       "      dtype='object')"
      ]
     },
     "execution_count": 12,
     "metadata": {},
     "output_type": "execute_result"
    }
   ],
   "source": [
    "df.columns"
   ]
  },
  {
   "cell_type": "code",
   "execution_count": 7,
   "id": "624f8dd2",
   "metadata": {},
   "outputs": [
    {
     "data": {
      "text/plain": [
       "(1092, 10)"
      ]
     },
     "execution_count": 7,
     "metadata": {},
     "output_type": "execute_result"
    }
   ],
   "source": [
    "df.shape"
   ]
  },
  {
   "cell_type": "code",
   "execution_count": 38,
   "id": "6fee2c9d",
   "metadata": {},
   "outputs": [],
   "source": [
    "df.set_index('InvDate', inplace=True)"
   ]
  },
  {
   "cell_type": "code",
   "execution_count": 19,
   "id": "e3592332",
   "metadata": {},
   "outputs": [
    {
     "data": {
      "text/plain": [
       "Index(['tavg', 'tmin', 'tmax', 'prcp', 'wdir', 'wspd', 'wpgt', 'pres',\n",
       "       'InvQty'],\n",
       "      dtype='object')"
      ]
     },
     "execution_count": 19,
     "metadata": {},
     "output_type": "execute_result"
    }
   ],
   "source": [
    "df.columns"
   ]
  },
  {
   "cell_type": "code",
   "execution_count": 39,
   "id": "3aea83a3",
   "metadata": {
    "scrolled": true
   },
   "outputs": [
    {
     "data": {
      "text/plain": [
       "tavg      0\n",
       "tmin      0\n",
       "tmax      0\n",
       "prcp      0\n",
       "wdir      0\n",
       "wspd      0\n",
       "wpgt      0\n",
       "pres      0\n",
       "InvQty    0\n",
       "dtype: int64"
      ]
     },
     "execution_count": 39,
     "metadata": {},
     "output_type": "execute_result"
    }
   ],
   "source": [
    "df.isnull().sum()"
   ]
  },
  {
   "cell_type": "code",
   "execution_count": 14,
   "id": "96f42680",
   "metadata": {},
   "outputs": [],
   "source": [
    "df.drop(['wdir', 'wspd', 'wpgt'],axis=1, inplace=True)"
   ]
  },
  {
   "cell_type": "code",
   "execution_count": 15,
   "id": "70850178",
   "metadata": {},
   "outputs": [
    {
     "data": {
      "text/html": [
       "<div>\n",
       "<style scoped>\n",
       "    .dataframe tbody tr th:only-of-type {\n",
       "        vertical-align: middle;\n",
       "    }\n",
       "\n",
       "    .dataframe tbody tr th {\n",
       "        vertical-align: top;\n",
       "    }\n",
       "\n",
       "    .dataframe thead th {\n",
       "        text-align: right;\n",
       "    }\n",
       "</style>\n",
       "<table border=\"1\" class=\"dataframe\">\n",
       "  <thead>\n",
       "    <tr style=\"text-align: right;\">\n",
       "      <th></th>\n",
       "      <th>InvDate</th>\n",
       "      <th>tavg</th>\n",
       "      <th>tmin</th>\n",
       "      <th>tmax</th>\n",
       "      <th>prcp</th>\n",
       "      <th>pres</th>\n",
       "      <th>InvQty</th>\n",
       "    </tr>\n",
       "  </thead>\n",
       "  <tbody>\n",
       "    <tr>\n",
       "      <th>0</th>\n",
       "      <td>2019-01-02</td>\n",
       "      <td>3.9</td>\n",
       "      <td>3.0</td>\n",
       "      <td>5.2</td>\n",
       "      <td>0.0</td>\n",
       "      <td>1041.9</td>\n",
       "      <td>271070</td>\n",
       "    </tr>\n",
       "    <tr>\n",
       "      <th>1</th>\n",
       "      <td>2019-01-03</td>\n",
       "      <td>2.4</td>\n",
       "      <td>0.1</td>\n",
       "      <td>4.2</td>\n",
       "      <td>0.0</td>\n",
       "      <td>1042.8</td>\n",
       "      <td>323298</td>\n",
       "    </tr>\n",
       "    <tr>\n",
       "      <th>2</th>\n",
       "      <td>2019-01-04</td>\n",
       "      <td>1.1</td>\n",
       "      <td>-1.5</td>\n",
       "      <td>3.6</td>\n",
       "      <td>0.0</td>\n",
       "      <td>1040.5</td>\n",
       "      <td>391404</td>\n",
       "    </tr>\n",
       "    <tr>\n",
       "      <th>3</th>\n",
       "      <td>2019-01-05</td>\n",
       "      <td>2.5</td>\n",
       "      <td>1.1</td>\n",
       "      <td>4.3</td>\n",
       "      <td>0.0</td>\n",
       "      <td>1037.2</td>\n",
       "      <td>248758</td>\n",
       "    </tr>\n",
       "    <tr>\n",
       "      <th>4</th>\n",
       "      <td>2019-01-06</td>\n",
       "      <td>4.2</td>\n",
       "      <td>1.9</td>\n",
       "      <td>6.5</td>\n",
       "      <td>0.0</td>\n",
       "      <td>1035.5</td>\n",
       "      <td>28656</td>\n",
       "    </tr>\n",
       "  </tbody>\n",
       "</table>\n",
       "</div>"
      ],
      "text/plain": [
       "      InvDate  tavg  tmin  tmax  prcp    pres  InvQty\n",
       "0  2019-01-02   3.9   3.0   5.2   0.0  1041.9  271070\n",
       "1  2019-01-03   2.4   0.1   4.2   0.0  1042.8  323298\n",
       "2  2019-01-04   1.1  -1.5   3.6   0.0  1040.5  391404\n",
       "3  2019-01-05   2.5   1.1   4.3   0.0  1037.2  248758\n",
       "4  2019-01-06   4.2   1.9   6.5   0.0  1035.5   28656"
      ]
     },
     "execution_count": 15,
     "metadata": {},
     "output_type": "execute_result"
    }
   ],
   "source": [
    "df.head()"
   ]
  },
  {
   "cell_type": "code",
   "execution_count": 16,
   "id": "c5bec5a0",
   "metadata": {},
   "outputs": [
    {
     "data": {
      "text/plain": [
       "Index(['InvDate', 'tavg', 'tmin', 'tmax', 'prcp', 'pres', 'InvQty'], dtype='object')"
      ]
     },
     "execution_count": 16,
     "metadata": {},
     "output_type": "execute_result"
    }
   ],
   "source": [
    "df.columns"
   ]
  },
  {
   "cell_type": "code",
   "execution_count": 17,
   "id": "6c23e4be",
   "metadata": {},
   "outputs": [
    {
     "data": {
      "text/plain": [
       "(-4.581501646390804,\n",
       " 0.00013969943332299233,\n",
       " 22,\n",
       " 1069,\n",
       " {'1%': -3.4364819663568262,\n",
       "  '5%': -2.864247479652846,\n",
       "  '10%': -2.568211560046239},\n",
       " 28561.197716883373)"
      ]
     },
     "execution_count": 17,
     "metadata": {},
     "output_type": "execute_result"
    }
   ],
   "source": [
    "from statsmodels.tsa.stattools import adfuller\n",
    "fuller_test = adfuller(df['InvQty'])\n",
    "fuller_test"
   ]
  },
  {
   "cell_type": "code",
   "execution_count": 28,
   "id": "63ee0015",
   "metadata": {},
   "outputs": [
    {
     "data": {
      "text/plain": [
       "(-2.2352129776585543,\n",
       " 0.1937142341753425,\n",
       " 22,\n",
       " 1069,\n",
       " {'1%': -3.4364819663568262,\n",
       "  '5%': -2.864247479652846,\n",
       "  '10%': -2.568211560046239},\n",
       " 4549.271009423906)"
      ]
     },
     "execution_count": 28,
     "metadata": {},
     "output_type": "execute_result"
    }
   ],
   "source": [
    "from statsmodels.tsa.stattools import adfuller\n",
    "fuller_test = adfuller(df['tmax'])\n",
    "fuller_test"
   ]
  },
  {
   "cell_type": "code",
   "execution_count": 18,
   "id": "ff745167",
   "metadata": {},
   "outputs": [],
   "source": [
    "def test_p_value(data):\n",
    "        fuller_test = adfuller(data)\n",
    "        print('P-value: ',fuller_test[1])\n",
    "        if fuller_test[1] <= 0.05:\n",
    "            print('Reject null hypothesis, data is stationary')\n",
    "        else:\n",
    "            print('Do not reject null hypothesis, data is not stationary')"
   ]
  },
  {
   "cell_type": "code",
   "execution_count": 21,
   "id": "a6bf6389",
   "metadata": {},
   "outputs": [
    {
     "name": "stdout",
     "output_type": "stream",
     "text": [
      "P-value:  0.08728734620559425\n",
      "Do not reject null hypothesis, data is not stationary\n"
     ]
    }
   ],
   "source": [
    "test_p_value(df['tmin'])"
   ]
  },
  {
   "cell_type": "code",
   "execution_count": null,
   "id": "963dd166",
   "metadata": {},
   "outputs": [],
   "source": []
  },
  {
   "cell_type": "code",
   "execution_count": 43,
   "id": "f742cd6c",
   "metadata": {},
   "outputs": [
    {
     "data": {
      "image/png": "[encoded data removed]",
      "text/plain": [
       "<Figure size 1008x504 with 6 Axes>"
      ]
     },
     "metadata": {
      "needs_background": "light"
     },
     "output_type": "display_data"
    }
   ],
   "source": [
    "#ploting the charts to get insights about the aa\n",
    "df_plot=df.copy()\n",
    "\n",
    "list_length=df_plot.shape[1]\n",
    "ncols=2\n",
    "nrows=int(round(list_length/ncols,0))\n",
    "\n",
    "fig, ax=plt.subplots(nrows=nrows, ncols=ncols, sharex=True, figsize=(14,7))\n",
    "fig.subplots_adjust(hspace=0.5, wspace=0.5)\n",
    "for i in range(0, list_length):\n",
    "    ax=plt.subplot(nrows,ncols,i+1)\n",
    "    sns.lineplot(data = df_plot.iloc[:, i], ax=ax)\n",
    "    ax.set_title(df_plot.columns[i])\n",
    "    ax.tick_params(axis=\"x\",rotation=30,labelsize=10,length=0)\n",
    "    ax.xaxis.set_major_locator(mdates.AutoDateLocator())\n",
    "fig.tight_layout()\n",
    "plt.show()"
   ]
  },
  {
   "cell_type": "code",
   "execution_count": 45,
   "id": "35e75c6f",
   "metadata": {},
   "outputs": [
    {
     "data": {
      "text/html": [
       "<div><div id=97e4d3c1-ea66-4bed-8829-77a6035edfe8 style=\"display:none; background-color:#9D6CFF; color:white; width:200px; height:30px; padding-left:5px; border-radius:4px; flex-direction:row; justify-content:space-around; align-items:center;\" onmouseover=\"this.style.backgroundColor='#BA9BF8'\" onmouseout=\"this.style.backgroundColor='#9D6CFF'\" onclick=\"window.commands?.execute('create-mitosheet-from-dataframe-output');\">See Full Dataframe in Mito</div> <script> if (window.commands.hasCommand('create-mitosheet-from-dataframe-output')) document.getElementById('97e4d3c1-ea66-4bed-8829-77a6035edfe8').style.display = 'flex' </script> <table border=\"1\" class=\"dataframe\">\n",
       "  <thead>\n",
       "    <tr style=\"text-align: right;\">\n",
       "      <th></th>\n",
       "      <th>tavg</th>\n",
       "      <th>tmin</th>\n",
       "      <th>tmax</th>\n",
       "      <th>prcp</th>\n",
       "      <th>pres</th>\n",
       "      <th>InvQty</th>\n",
       "    </tr>\n",
       "  </thead>\n",
       "  <tbody>\n",
       "    <tr>\n",
       "      <th>0</th>\n",
       "      <td>3.9</td>\n",
       "      <td>3.0</td>\n",
       "      <td>5.2</td>\n",
       "      <td>0.0</td>\n",
       "      <td>1041.9</td>\n",
       "      <td>271070</td>\n",
       "    </tr>\n",
       "    <tr>\n",
       "      <th>1</th>\n",
       "      <td>2.4</td>\n",
       "      <td>0.1</td>\n",
       "      <td>4.2</td>\n",
       "      <td>0.0</td>\n",
       "      <td>1042.8</td>\n",
       "      <td>323298</td>\n",
       "    </tr>\n",
       "    <tr>\n",
       "      <th>2</th>\n",
       "      <td>1.1</td>\n",
       "      <td>-1.5</td>\n",
       "      <td>3.6</td>\n",
       "      <td>0.0</td>\n",
       "      <td>1040.5</td>\n",
       "      <td>391404</td>\n",
       "    </tr>\n",
       "    <tr>\n",
       "      <th>3</th>\n",
       "      <td>2.5</td>\n",
       "      <td>1.1</td>\n",
       "      <td>4.3</td>\n",
       "      <td>0.0</td>\n",
       "      <td>1037.2</td>\n",
       "      <td>248758</td>\n",
       "    </tr>\n",
       "    <tr>\n",
       "      <th>4</th>\n",
       "      <td>4.2</td>\n",
       "      <td>1.9</td>\n",
       "      <td>6.5</td>\n",
       "      <td>0.0</td>\n",
       "      <td>1035.5</td>\n",
       "      <td>28656</td>\n",
       "    </tr>\n",
       "  </tbody>\n",
       "</table></div>"
      ],
      "text/plain": [
       "   tavg  tmin  tmax  prcp    pres  InvQty\n",
       "0   3.9   3.0   5.2   0.0  1041.9  271070\n",
       "1   2.4   0.1   4.2   0.0  1042.8  323298\n",
       "2   1.1  -1.5   3.6   0.0  1040.5  391404\n",
       "3   2.5   1.1   4.3   0.0  1037.2  248758\n",
       "4   4.2   1.9   6.5   0.0  1035.5   28656"
      ]
     },
     "execution_count": 45,
     "metadata": {},
     "output_type": "execute_result"
    }
   ],
   "source": [
    "# Indexing Batches\n",
    "train_df = df.sort_values(by=['Date']).copy()\n",
    "\n",
    "# We safe a copy of the dates index, before we need to reset it to numbers\n",
    "date_index = train_df.index\n",
    "\n",
    "# Adding Month and Year in separate columns\n",
    "# d = pd.to_datetime(train_df.index)\n",
    "# train_df['Month'] = d.strftime(\"%m\")\n",
    "train_df['Year'] = d.strftime(\"%Y\") \n",
    "\n",
    "# We reset the index, so we can convert the date-index to a number-index\n",
    "train_df = train_df.reset_index(drop=True).copy()\n",
    "train_df.head(5)"
   ]
  },
  {
   "cell_type": "code",
   "execution_count": 51,
   "id": "eb6ecfdc",
   "metadata": {},
   "outputs": [
    {
     "data": {
      "text/plain": [
       "Index(['tavg', 'tmin', 'tmax', 'prcp', 'pres', 'InvQty'], dtype='object')"
      ]
     },
     "execution_count": 51,
     "metadata": {},
     "output_type": "execute_result"
    }
   ],
   "source": [
    "train_df.columns"
   ]
  },
  {
   "cell_type": "code",
   "execution_count": 52,
   "id": "be08c22b",
   "metadata": {},
   "outputs": [
    {
     "name": "stdout",
     "output_type": "stream",
     "text": [
      "FEATURE LIST\n",
      "['tavg', 'tmin', 'tmax', 'prcp', 'pres', 'InvQty']\n"
     ]
    },
    {
     "data": {
      "text/html": [
       "<div><div id=cf6e0371-8042-4aff-9a21-a4191a330a7b style=\"display:none; background-color:#9D6CFF; color:white; width:200px; height:30px; padding-left:5px; border-radius:4px; flex-direction:row; justify-content:space-around; align-items:center;\" onmouseover=\"this.style.backgroundColor='#BA9BF8'\" onmouseout=\"this.style.backgroundColor='#9D6CFF'\" onclick=\"window.commands?.execute('create-mitosheet-from-dataframe-output');\">See Full Dataframe in Mito</div> <script> if (window.commands.hasCommand('create-mitosheet-from-dataframe-output')) document.getElementById('cf6e0371-8042-4aff-9a21-a4191a330a7b').style.display = 'flex' </script> <table border=\"1\" class=\"dataframe\">\n",
       "  <thead>\n",
       "    <tr style=\"text-align: right;\">\n",
       "      <th></th>\n",
       "      <th>tavg</th>\n",
       "      <th>tmin</th>\n",
       "      <th>tmax</th>\n",
       "      <th>prcp</th>\n",
       "      <th>pres</th>\n",
       "      <th>InvQty</th>\n",
       "      <th>Prediction</th>\n",
       "    </tr>\n",
       "  </thead>\n",
       "  <tbody>\n",
       "    <tr>\n",
       "      <th>1087</th>\n",
       "      <td>6.4</td>\n",
       "      <td>5.2</td>\n",
       "      <td>7.6</td>\n",
       "      <td>1.4</td>\n",
       "      <td>993.4</td>\n",
       "      <td>2580</td>\n",
       "      <td>2580</td>\n",
       "    </tr>\n",
       "    <tr>\n",
       "      <th>1088</th>\n",
       "      <td>8.2</td>\n",
       "      <td>7.2</td>\n",
       "      <td>8.9</td>\n",
       "      <td>4.2</td>\n",
       "      <td>990.5</td>\n",
       "      <td>6190</td>\n",
       "      <td>6190</td>\n",
       "    </tr>\n",
       "    <tr>\n",
       "      <th>1089</th>\n",
       "      <td>8.6</td>\n",
       "      <td>6.4</td>\n",
       "      <td>11.7</td>\n",
       "      <td>1.8</td>\n",
       "      <td>1002.3</td>\n",
       "      <td>151808</td>\n",
       "      <td>151808</td>\n",
       "    </tr>\n",
       "    <tr>\n",
       "      <th>1090</th>\n",
       "      <td>12.9</td>\n",
       "      <td>10.7</td>\n",
       "      <td>14.0</td>\n",
       "      <td>0.2</td>\n",
       "      <td>1009.0</td>\n",
       "      <td>172952</td>\n",
       "      <td>172952</td>\n",
       "    </tr>\n",
       "    <tr>\n",
       "      <th>1091</th>\n",
       "      <td>12.6</td>\n",
       "      <td>11.0</td>\n",
       "      <td>13.7</td>\n",
       "      <td>0.9</td>\n",
       "      <td>1013.4</td>\n",
       "      <td>111707</td>\n",
       "      <td>111707</td>\n",
       "    </tr>\n",
       "  </tbody>\n",
       "</table></div>"
      ],
      "text/plain": [
       "      tavg  tmin  tmax  prcp    pres  InvQty  Prediction\n",
       "1087   6.4   5.2   7.6   1.4   993.4    2580        2580\n",
       "1088   8.2   7.2   8.9   4.2   990.5    6190        6190\n",
       "1089   8.6   6.4  11.7   1.8  1002.3  151808      151808\n",
       "1090  12.9  10.7  14.0   0.2  1009.0  172952      172952\n",
       "1091  12.6  11.0  13.7   0.9  1013.4  111707      111707"
      ]
     },
     "execution_count": 52,
     "metadata": {},
     "output_type": "execute_result"
    }
   ],
   "source": [
    "# List of considered Features\n",
    "FEATURES = ['tavg', 'tmin', 'tmax', 'prcp', 'pres', 'InvQty'\n",
    "            #, 'Month', 'Year', 'Adj Close'\n",
    "    ]\n",
    "\n",
    "print('FEATURE LIST')\n",
    "print([f for f in FEATURES])\n",
    "\n",
    "# Create the dataset with features and filter the data to the list of FEATURES\n",
    "data = pd.DataFrame(train_df)\n",
    "data_filtered = data[FEATURES]\n",
    "\n",
    "# We add a prediction column and set dummy values to prepare the data for scaling\n",
    "data_filtered_ext = data_filtered.copy()\n",
    "data_filtered_ext['Prediction'] = data_filtered_ext['InvQty']\n",
    "\n",
    "# Print the tail of the dataframe\n",
    "data_filtered_ext.tail()"
   ]
  },
  {
   "cell_type": "code",
   "execution_count": 53,
   "id": "3e214c31",
   "metadata": {},
   "outputs": [
    {
     "name": "stdout",
     "output_type": "stream",
     "text": [
      "(1092, 6)\n"
     ]
    }
   ],
   "source": [
    "# Get the number of rows in the data\n",
    "nrows = data_filtered.shape[0]\n",
    "\n",
    "# Convert the data to numpy values\n",
    "np_data_unscaled = np.array(data_filtered)\n",
    "np_data = np.reshape(np_data_unscaled, (nrows, -1))\n",
    "print(np_data.shape)\n",
    "\n",
    "# Transform the data by scaling each feature to a range between 0 and 1\n",
    "scaler = MinMaxScaler()\n",
    "np_data_scaled = scaler.fit_transform(np_data_unscaled)\n",
    "\n",
    "# Creating a separate scaler that works on a single column for scaling predictions\n",
    "scaler_pred = MinMaxScaler()\n",
    "df_Close = pd.DataFrame(data_filtered_ext['InvQty'])\n",
    "np_Close_scaled = scaler_pred.fit_transform(df_Close)"
   ]
  },
  {
   "cell_type": "code",
   "execution_count": 54,
   "id": "1dc6a3ba",
   "metadata": {},
   "outputs": [
    {
     "name": "stdout",
     "output_type": "stream",
     "text": [
      "(824, 50, 6) (824,)\n",
      "(218, 50, 6) (218,)\n",
      "0.4224314520752986\n",
      "0.4224314520752986\n"
     ]
    }
   ],
   "source": [
    "# Set the sequence length - this is the timeframe used to make a single prediction\n",
    "sequence_length = 50\n",
    "\n",
    "# Prediction Index\n",
    "index_Close = data.columns.get_loc(\"InvQty\")\n",
    "\n",
    "# Split the training data into train and train data sets\n",
    "# As a first step, we get the number of rows to train the model on 80% of the data \n",
    "train_data_len = math.ceil(np_data_scaled.shape[0] * 0.8)\n",
    "\n",
    "# Create the training and test data\n",
    "train_data = np_data_scaled[0:train_data_len, :]\n",
    "test_data = np_data_scaled[train_data_len - sequence_length:, :]\n",
    "\n",
    "# The RNN needs data with the format of [samples, time steps, features]\n",
    "# Here, we create N samples, sequence_length time steps per sample, and 6 features\n",
    "def partition_dataset(sequence_length, data):\n",
    "    x, y = [], []\n",
    "    data_len = data.shape[0]\n",
    "    for i in range(sequence_length, data_len):\n",
    "        x.append(data[i-sequence_length:i,:]) #contains sequence_length values 0-sequence_length * columsn\n",
    "        y.append(data[i, index_Close]) #contains the prediction values for validation,  for single-step prediction\n",
    "    \n",
    "    # Convert the x and y to numpy arrays\n",
    "    x = np.array(x)\n",
    "    y = np.array(y)\n",
    "    return x, y\n",
    "\n",
    "# Generate training data and test data\n",
    "x_train, y_train = partition_dataset(sequence_length, train_data)\n",
    "x_test, y_test = partition_dataset(sequence_length, test_data)\n",
    "\n",
    "# Print the shapes: the result is: (rows, training_sequence, features) (prediction value, )\n",
    "print(x_train.shape, y_train.shape)\n",
    "print(x_test.shape, y_test.shape)\n",
    "\n",
    "# Validate that the prediction value and the input match up\n",
    "# The last close price of the second input sample should equal the first prediction value\n",
    "print(x_train[1][sequence_length-1][index_Close])\n",
    "print(y_train[0])"
   ]
  },
  {
   "cell_type": "code",
   "execution_count": 57,
   "id": "c3fff865",
   "metadata": {},
   "outputs": [
    {
     "name": "stdout",
     "output_type": "stream",
     "text": [
      "300 50 6\n"
     ]
    }
   ],
   "source": [
    "# Configure the neural network model\n",
    "model = Sequential()\n",
    "\n",
    "# Model with n_neurons = inputshape Timestamps, each with x_train.shape[2] variables\n",
    "n_neurons = x_train.shape[1] * x_train.shape[2]\n",
    "print(n_neurons, x_train.shape[1], x_train.shape[2])\n",
    "model.add(LSTM(n_neurons, return_sequences=True, input_shape=(x_train.shape[1], x_train.shape[2]))) \n",
    "model.add(LSTM(n_neurons, return_sequences=False))\n",
    "model.add(Dense(5))\n",
    "model.add(Dense(1))\n",
    "\n",
    "# Compile the model\n",
    "model.compile(optimizer='adam', loss='mse')"
   ]
  },
  {
   "cell_type": "code",
   "execution_count": 58,
   "id": "0782b7ca",
   "metadata": {},
   "outputs": [
    {
     "name": "stdout",
     "output_type": "stream",
     "text": [
      "Epoch 1/50\n",
      "52/52 [==============================] - 14s 204ms/step - loss: 0.0496 - val_loss: 0.0464\n",
      "Epoch 2/50\n",
      "52/52 [==============================] - 11s 221ms/step - loss: 0.0411 - val_loss: 0.0457\n",
      "Epoch 3/50\n",
      "52/52 [==============================] - 12s 231ms/step - loss: 0.0421 - val_loss: 0.0443\n",
      "Epoch 4/50\n",
      "52/52 [==============================] - 11s 219ms/step - loss: 0.0397 - val_loss: 0.0439\n",
      "Epoch 5/50\n",
      "52/52 [==============================] - 12s 240ms/step - loss: 0.0399 - val_loss: 0.0455\n",
      "Epoch 6/50\n",
      "52/52 [==============================] - 12s 238ms/step - loss: 0.0386 - val_loss: 0.0465\n",
      "Epoch 7/50\n",
      "52/52 [==============================] - 12s 236ms/step - loss: 0.0383 - val_loss: 0.0426\n",
      "Epoch 8/50\n",
      "52/52 [==============================] - 11s 219ms/step - loss: 0.0388 - val_loss: 0.0443\n",
      "Epoch 9/50\n",
      "52/52 [==============================] - 12s 228ms/step - loss: 0.0375 - val_loss: 0.0421\n",
      "Epoch 10/50\n",
      "52/52 [==============================] - 12s 240ms/step - loss: 0.0371 - val_loss: 0.0406\n",
      "Epoch 11/50\n",
      "52/52 [==============================] - 12s 223ms/step - loss: 0.0364 - val_loss: 0.0424\n",
      "Epoch 12/50\n",
      "52/52 [==============================] - 11s 221ms/step - loss: 0.0366 - val_loss: 0.0413\n",
      "Epoch 13/50\n",
      "52/52 [==============================] - 12s 225ms/step - loss: 0.0361 - val_loss: 0.0407\n",
      "Epoch 14/50\n",
      "52/52 [==============================] - 12s 230ms/step - loss: 0.0365 - val_loss: 0.0396\n",
      "Epoch 15/50\n",
      "52/52 [==============================] - 11s 221ms/step - loss: 0.0366 - val_loss: 0.0457\n",
      "Epoch 16/50\n",
      "52/52 [==============================] - 12s 222ms/step - loss: 0.0365 - val_loss: 0.0404\n",
      "Epoch 17/50\n",
      "52/52 [==============================] - 12s 230ms/step - loss: 0.0357 - val_loss: 0.0415\n",
      "Epoch 18/50\n",
      "52/52 [==============================] - 11s 220ms/step - loss: 0.0364 - val_loss: 0.0416\n",
      "Epoch 19/50\n",
      "52/52 [==============================] - 12s 225ms/step - loss: 0.0363 - val_loss: 0.0397\n",
      "Epoch 20/50\n",
      "52/52 [==============================] - 12s 229ms/step - loss: 0.0354 - val_loss: 0.0391\n",
      "Epoch 21/50\n",
      "52/52 [==============================] - 13s 247ms/step - loss: 0.0360 - val_loss: 0.0400\n",
      "Epoch 22/50\n",
      "52/52 [==============================] - 13s 259ms/step - loss: 0.0355 - val_loss: 0.0388\n",
      "Epoch 23/50\n",
      "52/52 [==============================] - 13s 242ms/step - loss: 0.0359 - val_loss: 0.0404\n",
      "Epoch 24/50\n",
      "52/52 [==============================] - 12s 232ms/step - loss: 0.0352 - val_loss: 0.0421\n",
      "Epoch 25/50\n",
      "52/52 [==============================] - 13s 250ms/step - loss: 0.0361 - val_loss: 0.0402\n",
      "Epoch 26/50\n",
      "52/52 [==============================] - 12s 229ms/step - loss: 0.0350 - val_loss: 0.0406\n",
      "Epoch 27/50\n",
      "52/52 [==============================] - 11s 210ms/step - loss: 0.0353 - val_loss: 0.0402\n",
      "Epoch 28/50\n",
      "52/52 [==============================] - 12s 227ms/step - loss: 0.0345 - val_loss: 0.0433\n",
      "Epoch 29/50\n",
      "52/52 [==============================] - 12s 230ms/step - loss: 0.0352 - val_loss: 0.0392\n",
      "Epoch 30/50\n",
      "52/52 [==============================] - 12s 227ms/step - loss: 0.0348 - val_loss: 0.0407\n",
      "Epoch 31/50\n",
      "52/52 [==============================] - 11s 215ms/step - loss: 0.0349 - val_loss: 0.0403\n",
      "Epoch 32/50\n",
      "52/52 [==============================] - 12s 228ms/step - loss: 0.0340 - val_loss: 0.0370\n",
      "Epoch 33/50\n",
      "52/52 [==============================] - 11s 216ms/step - loss: 0.0337 - val_loss: 0.0414\n",
      "Epoch 34/50\n",
      "52/52 [==============================] - 12s 234ms/step - loss: 0.0329 - val_loss: 0.0388\n",
      "Epoch 35/50\n",
      "52/52 [==============================] - 12s 232ms/step - loss: 0.0328 - val_loss: 0.0366\n",
      "Epoch 36/50\n",
      "52/52 [==============================] - 12s 234ms/step - loss: 0.0331 - val_loss: 0.0366\n",
      "Epoch 37/50\n",
      "52/52 [==============================] - 11s 217ms/step - loss: 0.0320 - val_loss: 0.0363\n",
      "Epoch 38/50\n",
      "52/52 [==============================] - 11s 209ms/step - loss: 0.0330 - val_loss: 0.0399\n",
      "Epoch 39/50\n",
      "52/52 [==============================] - 11s 220ms/step - loss: 0.0321 - val_loss: 0.0354\n",
      "Epoch 40/50\n",
      "52/52 [==============================] - 12s 232ms/step - loss: 0.0318 - val_loss: 0.0396\n",
      "Epoch 41/50\n",
      "52/52 [==============================] - 12s 236ms/step - loss: 0.0310 - val_loss: 0.0356\n",
      "Epoch 42/50\n",
      "52/52 [==============================] - 12s 228ms/step - loss: 0.0356 - val_loss: 0.0408\n",
      "Epoch 43/50\n",
      "52/52 [==============================] - 12s 229ms/step - loss: 0.0335 - val_loss: 0.0397\n",
      "Epoch 44/50\n",
      "52/52 [==============================] - 11s 215ms/step - loss: 0.0326 - val_loss: 0.0357\n",
      "Epoch 45/50\n",
      "52/52 [==============================] - 11s 216ms/step - loss: 0.0311 - val_loss: 0.0356\n",
      "Epoch 46/50\n",
      "52/52 [==============================] - 11s 221ms/step - loss: 0.0304 - val_loss: 0.0331\n",
      "Epoch 47/50\n",
      "52/52 [==============================] - 13s 250ms/step - loss: 0.0299 - val_loss: 0.0394\n",
      "Epoch 48/50\n",
      "52/52 [==============================] - 12s 238ms/step - loss: 0.0288 - val_loss: 0.0376\n",
      "Epoch 49/50\n",
      "52/52 [==============================] - 12s 226ms/step - loss: 0.0292 - val_loss: 0.0367\n",
      "Epoch 50/50\n",
      "52/52 [==============================] - 11s 219ms/step - loss: 0.0288 - val_loss: 0.0339\n"
     ]
    }
   ],
   "source": [
    "# Training the model\n",
    "epochs = 50\n",
    "batch_size = 16\n",
    "early_stop = EarlyStopping(monitor='loss', patience=5, verbose=1)\n",
    "history = model.fit(x_train, y_train, \n",
    "                    batch_size=batch_size, \n",
    "                    epochs=epochs,\n",
    "                    validation_data=(x_test, y_test)\n",
    "                   )\n",
    "                    \n",
    "                    #callbacks=[early_stop])"
   ]
  },
  {
   "cell_type": "code",
   "execution_count": 59,
   "id": "0d1a7604",
   "metadata": {},
   "outputs": [
    {
     "data": {
      "image/png": "[encoded data removed]",
      "text/plain": [
       "<Figure size 1440x720 with 1 Axes>"
      ]
     },
     "metadata": {
      "needs_background": "light"
     },
     "output_type": "display_data"
    }
   ],
   "source": [
    "# Plot training & validation loss values\n",
    "fig, ax = plt.subplots(figsize=(20, 10), sharex=True)\n",
    "plt.plot(history.history[\"loss\"])\n",
    "plt.title(\"Model loss\")\n",
    "plt.ylabel(\"Loss\")\n",
    "plt.xlabel(\"Epoch\")\n",
    "ax.xaxis.set_major_locator(plt.MaxNLocator(epochs))\n",
    "plt.legend([\"Train\", \"Test\"], loc=\"upper left\")\n",
    "plt.grid()\n",
    "plt.show()"
   ]
  },
  {
   "cell_type": "code",
   "execution_count": 60,
   "id": "e8d7852a",
   "metadata": {},
   "outputs": [
    {
     "name": "stdout",
     "output_type": "stream",
     "text": [
      "Median Absolute Error (MAE): 120510.61\n",
      "Mean Absolute Percentage Error (MAPE): inf %\n",
      "Median Absolute Percentage Error (MDAPE): 31.46 %\n"
     ]
    },
    {
     "name": "stderr",
     "output_type": "stream",
     "text": [
      "C:\\Users\\mohan-prakashj\\AppData\\Local\\Temp\\ipykernel_14444\\403865363.py:13: RuntimeWarning: divide by zero encountered in true_divide\n",
      "  MAPE = np.mean((np.abs(np.subtract(y_test_unscaled, y_pred)/ y_test_unscaled))) * 100\n",
      "C:\\Users\\mohan-prakashj\\AppData\\Local\\Temp\\ipykernel_14444\\403865363.py:17: RuntimeWarning: divide by zero encountered in true_divide\n",
      "  MDAPE = np.median((np.abs(np.subtract(y_test_unscaled, y_pred)/ y_test_unscaled)) ) * 100\n"
     ]
    }
   ],
   "source": [
    "# Get the predicted values\n",
    "y_pred_scaled = model.predict(x_test)\n",
    "\n",
    "# Unscale the predicted values\n",
    "y_pred = scaler_pred.inverse_transform(y_pred_scaled)\n",
    "y_test_unscaled = scaler_pred.inverse_transform(y_test.reshape(-1, 1))\n",
    "\n",
    "# Mean Absolute Error (MAE)\n",
    "MAE = mean_absolute_error(y_test_unscaled, y_pred)\n",
    "print(f'Median Absolute Error (MAE): {np.round(MAE, 2)}')\n",
    "\n",
    "# Mean Absolute Percentage Error (MAPE)\n",
    "MAPE = np.mean((np.abs(np.subtract(y_test_unscaled, y_pred)/ y_test_unscaled))) * 100\n",
    "print(f'Mean Absolute Percentage Error (MAPE): {np.round(MAPE, 2)} %')\n",
    "\n",
    "# Median Absolute Percentage Error (MDAPE)\n",
    "MDAPE = np.median((np.abs(np.subtract(y_test_unscaled, y_pred)/ y_test_unscaled)) ) * 100\n",
    "print(f'Median Absolute Percentage Error (MDAPE): {np.round(MDAPE, 2)} %')"
   ]
  },
  {
   "cell_type": "code",
   "execution_count": 61,
   "id": "7a0c05cb",
   "metadata": {
    "scrolled": false
   },
   "outputs": [
    {
     "ename": "InvalidIndexError",
     "evalue": "(slice(None, None, None), None)",
     "output_type": "error",
     "traceback": [
      "\u001b[1;31m---------------------------------------------------------------------------\u001b[0m",
      "\u001b[1;31mTypeError\u001b[0m                                 Traceback (most recent call last)",
      "File \u001b[1;32m~\\Anaconda3\\lib\\site-packages\\pandas\\core\\indexes\\base.py:3621\u001b[0m, in \u001b[0;36mIndex.get_loc\u001b[1;34m(self, key, method, tolerance)\u001b[0m\n\u001b[0;32m   3620\u001b[0m \u001b[38;5;28;01mtry\u001b[39;00m:\n\u001b[1;32m-> 3621\u001b[0m     \u001b[38;5;28;01mreturn\u001b[39;00m \u001b[38;5;28;43mself\u001b[39;49m\u001b[38;5;241;43m.\u001b[39;49m\u001b[43m_engine\u001b[49m\u001b[38;5;241;43m.\u001b[39;49m\u001b[43mget_loc\u001b[49m\u001b[43m(\u001b[49m\u001b[43mcasted_key\u001b[49m\u001b[43m)\u001b[49m\n\u001b[0;32m   3622\u001b[0m \u001b[38;5;28;01mexcept\u001b[39;00m \u001b[38;5;167;01mKeyError\u001b[39;00m \u001b[38;5;28;01mas\u001b[39;00m err:\n",
      "File \u001b[1;32m~\\Anaconda3\\lib\\site-packages\\pandas\\_libs\\index.pyx:136\u001b[0m, in \u001b[0;36mpandas._libs.index.IndexEngine.get_loc\u001b[1;34m()\u001b[0m\n",
      "File \u001b[1;32m~\\Anaconda3\\lib\\site-packages\\pandas\\_libs\\index.pyx:142\u001b[0m, in \u001b[0;36mpandas._libs.index.IndexEngine.get_loc\u001b[1;34m()\u001b[0m\n",
      "\u001b[1;31mTypeError\u001b[0m: '(slice(None, None, None), None)' is an invalid key",
      "\nDuring handling of the above exception, another exception occurred:\n",
      "\u001b[1;31mInvalidIndexError\u001b[0m                         Traceback (most recent call last)",
      "Input \u001b[1;32mIn [61]\u001b[0m, in \u001b[0;36m<cell line: 20>\u001b[1;34m()\u001b[0m\n\u001b[0;32m     18\u001b[0m xv \u001b[38;5;241m=\u001b[39m valid[\u001b[38;5;124m'\u001b[39m\u001b[38;5;124mDate\u001b[39m\u001b[38;5;124m'\u001b[39m]; yv \u001b[38;5;241m=\u001b[39m valid[[\u001b[38;5;124m\"\u001b[39m\u001b[38;5;124mInvQty\u001b[39m\u001b[38;5;124m\"\u001b[39m, \u001b[38;5;124m\"\u001b[39m\u001b[38;5;124mPrediction\u001b[39m\u001b[38;5;124m\"\u001b[39m]]\n\u001b[0;32m     19\u001b[0m plt\u001b[38;5;241m.\u001b[39mtitle(\u001b[38;5;124m\"\u001b[39m\u001b[38;5;124mPredictions vs Actual Values\u001b[39m\u001b[38;5;124m\"\u001b[39m, fontsize\u001b[38;5;241m=\u001b[39m\u001b[38;5;241m20\u001b[39m)\n\u001b[1;32m---> 20\u001b[0m \u001b[43mplt\u001b[49m\u001b[38;5;241;43m.\u001b[39;49m\u001b[43mplot\u001b[49m\u001b[43m(\u001b[49m\u001b[43mxt\u001b[49m\u001b[43m,\u001b[49m\u001b[43m \u001b[49m\u001b[43myt\u001b[49m\u001b[43m,\u001b[49m\u001b[43m \u001b[49m\u001b[43mcolor\u001b[49m\u001b[38;5;241;43m=\u001b[39;49m\u001b[38;5;124;43m\"\u001b[39;49m\u001b[38;5;124;43m#039dfc\u001b[39;49m\u001b[38;5;124;43m\"\u001b[39;49m\u001b[43m,\u001b[49m\u001b[43m \u001b[49m\u001b[43mlinewidth\u001b[49m\u001b[38;5;241;43m=\u001b[39;49m\u001b[38;5;241;43m2.0\u001b[39;49m\u001b[43m)\u001b[49m\n\u001b[0;32m     21\u001b[0m plt\u001b[38;5;241m.\u001b[39mplot(xv, yv[\u001b[38;5;124m\"\u001b[39m\u001b[38;5;124mPrediction\u001b[39m\u001b[38;5;124m\"\u001b[39m], color\u001b[38;5;241m=\u001b[39m\u001b[38;5;124m\"\u001b[39m\u001b[38;5;124m#E91D9E\u001b[39m\u001b[38;5;124m\"\u001b[39m, linewidth\u001b[38;5;241m=\u001b[39m\u001b[38;5;241m2.0\u001b[39m)\n\u001b[0;32m     22\u001b[0m plt\u001b[38;5;241m.\u001b[39mplot(xv, yv[\u001b[38;5;124m\"\u001b[39m\u001b[38;5;124mInvQty\u001b[39m\u001b[38;5;124m\"\u001b[39m], color\u001b[38;5;241m=\u001b[39m\u001b[38;5;124m\"\u001b[39m\u001b[38;5;124mblack\u001b[39m\u001b[38;5;124m\"\u001b[39m, linewidth\u001b[38;5;241m=\u001b[39m\u001b[38;5;241m2.0\u001b[39m)\n",
      "File \u001b[1;32m~\\Anaconda3\\lib\\site-packages\\matplotlib\\pyplot.py:2757\u001b[0m, in \u001b[0;36mplot\u001b[1;34m(scalex, scaley, data, *args, **kwargs)\u001b[0m\n\u001b[0;32m   2755\u001b[0m \u001b[38;5;129m@_copy_docstring_and_deprecators\u001b[39m(Axes\u001b[38;5;241m.\u001b[39mplot)\n\u001b[0;32m   2756\u001b[0m \u001b[38;5;28;01mdef\u001b[39;00m \u001b[38;5;21mplot\u001b[39m(\u001b[38;5;241m*\u001b[39margs, scalex\u001b[38;5;241m=\u001b[39m\u001b[38;5;28;01mTrue\u001b[39;00m, scaley\u001b[38;5;241m=\u001b[39m\u001b[38;5;28;01mTrue\u001b[39;00m, data\u001b[38;5;241m=\u001b[39m\u001b[38;5;28;01mNone\u001b[39;00m, \u001b[38;5;241m*\u001b[39m\u001b[38;5;241m*\u001b[39mkwargs):\n\u001b[1;32m-> 2757\u001b[0m     \u001b[38;5;28;01mreturn\u001b[39;00m gca()\u001b[38;5;241m.\u001b[39mplot(\n\u001b[0;32m   2758\u001b[0m         \u001b[38;5;241m*\u001b[39margs, scalex\u001b[38;5;241m=\u001b[39mscalex, scaley\u001b[38;5;241m=\u001b[39mscaley,\n\u001b[0;32m   2759\u001b[0m         \u001b[38;5;241m*\u001b[39m\u001b[38;5;241m*\u001b[39m({\u001b[38;5;124m\"\u001b[39m\u001b[38;5;124mdata\u001b[39m\u001b[38;5;124m\"\u001b[39m: data} \u001b[38;5;28;01mif\u001b[39;00m data \u001b[38;5;129;01mis\u001b[39;00m \u001b[38;5;129;01mnot\u001b[39;00m \u001b[38;5;28;01mNone\u001b[39;00m \u001b[38;5;28;01melse\u001b[39;00m {}), \u001b[38;5;241m*\u001b[39m\u001b[38;5;241m*\u001b[39mkwargs)\n",
      "File \u001b[1;32m~\\Anaconda3\\lib\\site-packages\\matplotlib\\axes\\_axes.py:1632\u001b[0m, in \u001b[0;36mAxes.plot\u001b[1;34m(self, scalex, scaley, data, *args, **kwargs)\u001b[0m\n\u001b[0;32m   1390\u001b[0m \u001b[38;5;124;03m\"\"\"\u001b[39;00m\n\u001b[0;32m   1391\u001b[0m \u001b[38;5;124;03mPlot y versus x as lines and/or markers.\u001b[39;00m\n\u001b[0;32m   1392\u001b[0m \n\u001b[1;32m   (...)\u001b[0m\n\u001b[0;32m   1629\u001b[0m \u001b[38;5;124;03m(``'green'``) or hex strings (``'#008000'``).\u001b[39;00m\n\u001b[0;32m   1630\u001b[0m \u001b[38;5;124;03m\"\"\"\u001b[39;00m\n\u001b[0;32m   1631\u001b[0m kwargs \u001b[38;5;241m=\u001b[39m cbook\u001b[38;5;241m.\u001b[39mnormalize_kwargs(kwargs, mlines\u001b[38;5;241m.\u001b[39mLine2D)\n\u001b[1;32m-> 1632\u001b[0m lines \u001b[38;5;241m=\u001b[39m [\u001b[38;5;241m*\u001b[39m\u001b[38;5;28mself\u001b[39m\u001b[38;5;241m.\u001b[39m_get_lines(\u001b[38;5;241m*\u001b[39margs, data\u001b[38;5;241m=\u001b[39mdata, \u001b[38;5;241m*\u001b[39m\u001b[38;5;241m*\u001b[39mkwargs)]\n\u001b[0;32m   1633\u001b[0m \u001b[38;5;28;01mfor\u001b[39;00m line \u001b[38;5;129;01min\u001b[39;00m lines:\n\u001b[0;32m   1634\u001b[0m     \u001b[38;5;28mself\u001b[39m\u001b[38;5;241m.\u001b[39madd_line(line)\n",
      "File \u001b[1;32m~\\Anaconda3\\lib\\site-packages\\matplotlib\\axes\\_base.py:312\u001b[0m, in \u001b[0;36m_process_plot_var_args.__call__\u001b[1;34m(self, data, *args, **kwargs)\u001b[0m\n\u001b[0;32m    310\u001b[0m     this \u001b[38;5;241m+\u001b[39m\u001b[38;5;241m=\u001b[39m args[\u001b[38;5;241m0\u001b[39m],\n\u001b[0;32m    311\u001b[0m     args \u001b[38;5;241m=\u001b[39m args[\u001b[38;5;241m1\u001b[39m:]\n\u001b[1;32m--> 312\u001b[0m \u001b[38;5;28;01myield from\u001b[39;00m \u001b[38;5;28;43mself\u001b[39;49m\u001b[38;5;241;43m.\u001b[39;49m\u001b[43m_plot_args\u001b[49m\u001b[43m(\u001b[49m\u001b[43mthis\u001b[49m\u001b[43m,\u001b[49m\u001b[43m \u001b[49m\u001b[43mkwargs\u001b[49m\u001b[43m)\u001b[49m\n",
      "File \u001b[1;32m~\\Anaconda3\\lib\\site-packages\\matplotlib\\axes\\_base.py:488\u001b[0m, in \u001b[0;36m_process_plot_var_args._plot_args\u001b[1;34m(self, tup, kwargs, return_kwargs)\u001b[0m\n\u001b[0;32m    486\u001b[0m \u001b[38;5;28;01mif\u001b[39;00m \u001b[38;5;28mlen\u001b[39m(xy) \u001b[38;5;241m==\u001b[39m \u001b[38;5;241m2\u001b[39m:\n\u001b[0;32m    487\u001b[0m     x \u001b[38;5;241m=\u001b[39m _check_1d(xy[\u001b[38;5;241m0\u001b[39m])\n\u001b[1;32m--> 488\u001b[0m     y \u001b[38;5;241m=\u001b[39m \u001b[43m_check_1d\u001b[49m\u001b[43m(\u001b[49m\u001b[43mxy\u001b[49m\u001b[43m[\u001b[49m\u001b[38;5;241;43m1\u001b[39;49m\u001b[43m]\u001b[49m\u001b[43m)\u001b[49m\n\u001b[0;32m    489\u001b[0m \u001b[38;5;28;01melse\u001b[39;00m:\n\u001b[0;32m    490\u001b[0m     x, y \u001b[38;5;241m=\u001b[39m index_of(xy[\u001b[38;5;241m-\u001b[39m\u001b[38;5;241m1\u001b[39m])\n",
      "File \u001b[1;32m~\\Anaconda3\\lib\\site-packages\\matplotlib\\cbook\\__init__.py:1327\u001b[0m, in \u001b[0;36m_check_1d\u001b[1;34m(x)\u001b[0m\n\u001b[0;32m   1321\u001b[0m \u001b[38;5;28;01mwith\u001b[39;00m warnings\u001b[38;5;241m.\u001b[39mcatch_warnings(record\u001b[38;5;241m=\u001b[39m\u001b[38;5;28;01mTrue\u001b[39;00m) \u001b[38;5;28;01mas\u001b[39;00m w:\n\u001b[0;32m   1322\u001b[0m     warnings\u001b[38;5;241m.\u001b[39mfilterwarnings(\n\u001b[0;32m   1323\u001b[0m         \u001b[38;5;124m\"\u001b[39m\u001b[38;5;124malways\u001b[39m\u001b[38;5;124m\"\u001b[39m,\n\u001b[0;32m   1324\u001b[0m         category\u001b[38;5;241m=\u001b[39m\u001b[38;5;167;01mWarning\u001b[39;00m,\n\u001b[0;32m   1325\u001b[0m         message\u001b[38;5;241m=\u001b[39m\u001b[38;5;124m'\u001b[39m\u001b[38;5;124mSupport for multi-dimensional indexing\u001b[39m\u001b[38;5;124m'\u001b[39m)\n\u001b[1;32m-> 1327\u001b[0m     ndim \u001b[38;5;241m=\u001b[39m \u001b[43mx\u001b[49m\u001b[43m[\u001b[49m\u001b[43m:\u001b[49m\u001b[43m,\u001b[49m\u001b[43m \u001b[49m\u001b[38;5;28;43;01mNone\u001b[39;49;00m\u001b[43m]\u001b[49m\u001b[38;5;241m.\u001b[39mndim\n\u001b[0;32m   1328\u001b[0m     \u001b[38;5;66;03m# we have definitely hit a pandas index or series object\u001b[39;00m\n\u001b[0;32m   1329\u001b[0m     \u001b[38;5;66;03m# cast to a numpy array.\u001b[39;00m\n\u001b[0;32m   1330\u001b[0m     \u001b[38;5;28;01mif\u001b[39;00m \u001b[38;5;28mlen\u001b[39m(w) \u001b[38;5;241m>\u001b[39m \u001b[38;5;241m0\u001b[39m:\n",
      "File \u001b[1;32m~\\Anaconda3\\lib\\site-packages\\pandas\\core\\frame.py:3505\u001b[0m, in \u001b[0;36mDataFrame.__getitem__\u001b[1;34m(self, key)\u001b[0m\n\u001b[0;32m   3503\u001b[0m \u001b[38;5;28;01mif\u001b[39;00m \u001b[38;5;28mself\u001b[39m\u001b[38;5;241m.\u001b[39mcolumns\u001b[38;5;241m.\u001b[39mnlevels \u001b[38;5;241m>\u001b[39m \u001b[38;5;241m1\u001b[39m:\n\u001b[0;32m   3504\u001b[0m     \u001b[38;5;28;01mreturn\u001b[39;00m \u001b[38;5;28mself\u001b[39m\u001b[38;5;241m.\u001b[39m_getitem_multilevel(key)\n\u001b[1;32m-> 3505\u001b[0m indexer \u001b[38;5;241m=\u001b[39m \u001b[38;5;28;43mself\u001b[39;49m\u001b[38;5;241;43m.\u001b[39;49m\u001b[43mcolumns\u001b[49m\u001b[38;5;241;43m.\u001b[39;49m\u001b[43mget_loc\u001b[49m\u001b[43m(\u001b[49m\u001b[43mkey\u001b[49m\u001b[43m)\u001b[49m\n\u001b[0;32m   3506\u001b[0m \u001b[38;5;28;01mif\u001b[39;00m is_integer(indexer):\n\u001b[0;32m   3507\u001b[0m     indexer \u001b[38;5;241m=\u001b[39m [indexer]\n",
      "File \u001b[1;32m~\\Anaconda3\\lib\\site-packages\\pandas\\core\\indexes\\base.py:3628\u001b[0m, in \u001b[0;36mIndex.get_loc\u001b[1;34m(self, key, method, tolerance)\u001b[0m\n\u001b[0;32m   3623\u001b[0m         \u001b[38;5;28;01mraise\u001b[39;00m \u001b[38;5;167;01mKeyError\u001b[39;00m(key) \u001b[38;5;28;01mfrom\u001b[39;00m \u001b[38;5;21;01merr\u001b[39;00m\n\u001b[0;32m   3624\u001b[0m     \u001b[38;5;28;01mexcept\u001b[39;00m \u001b[38;5;167;01mTypeError\u001b[39;00m:\n\u001b[0;32m   3625\u001b[0m         \u001b[38;5;66;03m# If we have a listlike key, _check_indexing_error will raise\u001b[39;00m\n\u001b[0;32m   3626\u001b[0m         \u001b[38;5;66;03m#  InvalidIndexError. Otherwise we fall through and re-raise\u001b[39;00m\n\u001b[0;32m   3627\u001b[0m         \u001b[38;5;66;03m#  the TypeError.\u001b[39;00m\n\u001b[1;32m-> 3628\u001b[0m         \u001b[38;5;28;43mself\u001b[39;49m\u001b[38;5;241;43m.\u001b[39;49m\u001b[43m_check_indexing_error\u001b[49m\u001b[43m(\u001b[49m\u001b[43mkey\u001b[49m\u001b[43m)\u001b[49m\n\u001b[0;32m   3629\u001b[0m         \u001b[38;5;28;01mraise\u001b[39;00m\n\u001b[0;32m   3631\u001b[0m \u001b[38;5;66;03m# GH#42269\u001b[39;00m\n",
      "File \u001b[1;32m~\\Anaconda3\\lib\\site-packages\\pandas\\core\\indexes\\base.py:5637\u001b[0m, in \u001b[0;36mIndex._check_indexing_error\u001b[1;34m(self, key)\u001b[0m\n\u001b[0;32m   5633\u001b[0m \u001b[38;5;28;01mdef\u001b[39;00m \u001b[38;5;21m_check_indexing_error\u001b[39m(\u001b[38;5;28mself\u001b[39m, key):\n\u001b[0;32m   5634\u001b[0m     \u001b[38;5;28;01mif\u001b[39;00m \u001b[38;5;129;01mnot\u001b[39;00m is_scalar(key):\n\u001b[0;32m   5635\u001b[0m         \u001b[38;5;66;03m# if key is not a scalar, directly raise an error (the code below\u001b[39;00m\n\u001b[0;32m   5636\u001b[0m         \u001b[38;5;66;03m# would convert to numpy arrays and raise later any way) - GH29926\u001b[39;00m\n\u001b[1;32m-> 5637\u001b[0m         \u001b[38;5;28;01mraise\u001b[39;00m InvalidIndexError(key)\n",
      "\u001b[1;31mInvalidIndexError\u001b[0m: (slice(None, None, None), None)"
     ]
    },
    {
     "data": {
      "image/png": "[encoded data removed]",
      "text/plain": [
       "<Figure size 1584x720 with 1 Axes>"
      ]
     },
     "metadata": {
      "needs_background": "light"
     },
     "output_type": "display_data"
    }
   ],
   "source": [
    "# The date from which on the date is displayed\n",
    "display_start_date = pd.Timestamp('today') - timedelta(days=500)\n",
    "\n",
    "# Add the date column\n",
    "data_filtered_sub = data_filtered.copy()\n",
    "data_filtered_sub['Date'] = date_index\n",
    "\n",
    "# Add the difference between the valid and predicted prices\n",
    "train = data_filtered_sub[:train_data_len + 1]\n",
    "valid = data_filtered_sub[train_data_len:]\n",
    "valid.insert(1, \"Prediction\", y_pred.ravel(), True)\n",
    "valid.insert(1, \"Difference\", valid[\"Prediction\"] - valid[\"InvQty\"], True)\n",
    "\n",
    "\n",
    "# Visualize the data\n",
    "fig, ax1 = plt.subplots(figsize=(22, 10), sharex=True)\n",
    "xt = train['Date']; yt = train[[\"InvQty\"]]\n",
    "xv = valid['Date']; yv = valid[[\"InvQty\", \"Prediction\"]]\n",
    "plt.title(\"Predictions vs Actual Values\", fontsize=20)\n",
    "plt.plot(xt, yt, color=\"#039dfc\", linewidth=2.0)\n",
    "plt.plot(xv, yv[\"Prediction\"], color=\"#E91D9E\", linewidth=2.0)\n",
    "plt.plot(xv, yv[\"InvQty\"], color=\"black\", linewidth=2.0)\n",
    "plt.legend([\"Train\", \"Test Predictions\", \"Actual Values\"], loc=\"upper left\")\n",
    "\n",
    "# # Create the bar plot with the differences\n",
    "x = valid['Date']\n",
    "y = valid[\"Difference\"]\n",
    "\n",
    "# Create custom color range for positive and negative differences\n",
    "valid.loc[y >= 0, 'diff_color'] = \"#2BC97A\"\n",
    "valid.loc[y < 0, 'diff_color'] = \"#C92B2B\"\n",
    "\n",
    "plt.bar(x, y, width=0.8, color=valid['diff_color'])\n",
    "plt.grid()\n",
    "plt.show()"
   ]
  },
  {
   "cell_type": "code",
   "execution_count": 54,
   "id": "e7e24f42",
   "metadata": {},
   "outputs": [
    {
     "name": "stdout",
     "output_type": "stream",
     "text": [
      "The close price for  at 2022-03-31 was 111707\n",
      "The predicted close price is 104310.3984375 (-7.09%)\n"
     ]
    }
   ],
   "source": [
    "df_temp = df[-sequence_length:]\n",
    "new_df = df_temp.filter(FEATURES)\n",
    "\n",
    "N = sequence_length\n",
    "\n",
    "# Get the last N day closing price values and scale the data to be values between 0 and 1\n",
    "last_N_days = new_df[-sequence_length:].values\n",
    "last_N_days_scaled = scaler.transform(last_N_days)\n",
    "\n",
    "# Create an empty list and Append past N days\n",
    "X_test_new = []\n",
    "X_test_new.append(last_N_days_scaled)\n",
    "\n",
    "# Convert the X_test data set to a numpy array and reshape the data\n",
    "pred_price_scaled = model.predict(np.array(X_test_new))\n",
    "pred_price_unscaled = scaler_pred.inverse_transform(pred_price_scaled.reshape(-1, 1))\n",
    "\n",
    "# Print last price and predicted price for the next day\n",
    "price_today = np.round(new_df['InvQty'][-1], 2)\n",
    "predicted_price = np.round(pred_price_unscaled.ravel()[0], 2)\n",
    "change_percent = np.round(100 - (price_today * 100)/predicted_price, 2)\n",
    "\n",
    "plus = '+'; minus = ''\n",
    "print(f'The close price for  at {today} was {price_today}')\n",
    "print(f'The predicted close price is {predicted_price} ({plus if change_percent > 0 else minus}{change_percent}%)')"
   ]
  },
  {
   "cell_type": "code",
   "execution_count": 53,
   "id": "489f7458",
   "metadata": {},
   "outputs": [],
   "source": [
    "today = date.today()\n",
    "date_today = today.strftime(\"%Y-%m-%d\")\n",
    "date_start = '2010-01-01'\n"
   ]
  },
  {
   "cell_type": "code",
   "execution_count": 58,
   "id": "88f052ef",
   "metadata": {},
   "outputs": [
    {
     "data": {
      "text/plain": [
       "InvDate\n",
       "2021-11-12     33781\n",
       "2021-11-13     30198\n",
       "2021-11-14         0\n",
       "2021-11-15    397725\n",
       "2021-11-16    249386\n",
       "Name: InvQty, dtype: int64"
      ]
     },
     "execution_count": 58,
     "metadata": {},
     "output_type": "execute_result"
    }
   ],
   "source": [
    "new_df['InvQty'].head()"
   ]
  },
  {
   "cell_type": "code",
   "execution_count": 65,
   "id": "c11adac7",
   "metadata": {},
   "outputs": [
    {
     "data": {
      "text/html": [
       "<div><div id=4e7f75e1-e580-422c-93c0-c9659c26a4f6 style=\"display:none; background-color:#9D6CFF; color:white; width:200px; height:30px; padding-left:5px; border-radius:4px; flex-direction:row; justify-content:space-around; align-items:center;\" onmouseover=\"this.style.backgroundColor='#BA9BF8'\" onmouseout=\"this.style.backgroundColor='#9D6CFF'\" onclick=\"window.commands?.execute('create-mitosheet-from-dataframe-output');\">See Full Dataframe in Mito</div> <script> if (window.commands.hasCommand('create-mitosheet-from-dataframe-output')) document.getElementById('4e7f75e1-e580-422c-93c0-c9659c26a4f6').style.display = 'flex' </script> <table border=\"1\" class=\"dataframe\">\n",
       "  <thead>\n",
       "    <tr style=\"text-align: right;\">\n",
       "      <th></th>\n",
       "      <th>InvQty</th>\n",
       "      <th>Prediction</th>\n",
       "    </tr>\n",
       "  </thead>\n",
       "  <tbody>\n",
       "    <tr>\n",
       "      <th>1087</th>\n",
       "      <td>2580</td>\n",
       "      <td>324635.687500</td>\n",
       "    </tr>\n",
       "    <tr>\n",
       "      <th>1088</th>\n",
       "      <td>6190</td>\n",
       "      <td>235295.515625</td>\n",
       "    </tr>\n",
       "    <tr>\n",
       "      <th>1089</th>\n",
       "      <td>151808</td>\n",
       "      <td>199598.890625</td>\n",
       "    </tr>\n",
       "    <tr>\n",
       "      <th>1090</th>\n",
       "      <td>172952</td>\n",
       "      <td>190318.906250</td>\n",
       "    </tr>\n",
       "    <tr>\n",
       "      <th>1091</th>\n",
       "      <td>111707</td>\n",
       "      <td>171422.718750</td>\n",
       "    </tr>\n",
       "  </tbody>\n",
       "</table></div>"
      ],
      "text/plain": [
       "      InvQty     Prediction\n",
       "1087    2580  324635.687500\n",
       "1088    6190  235295.515625\n",
       "1089  151808  199598.890625\n",
       "1090  172952  190318.906250\n",
       "1091  111707  171422.718750"
      ]
     },
     "execution_count": 65,
     "metadata": {},
     "output_type": "execute_result"
    }
   ],
   "source": [
    "yv.tail()"
   ]
  },
  {
   "cell_type": "code",
   "execution_count": 8,
   "id": "21cf3fdd",
   "metadata": {},
   "outputs": [
    {
     "data": {
      "text/html": [
       "<div><div id=479094fe-7894-4236-bde0-9d95169206bd style=\"display:none; background-color:#9D6CFF; color:white; width:200px; height:30px; padding-left:5px; border-radius:4px; flex-direction:row; justify-content:space-around; align-items:center;\" onmouseover=\"this.style.backgroundColor='#BA9BF8'\" onmouseout=\"this.style.backgroundColor='#9D6CFF'\" onclick=\"window.commands?.execute('create-mitosheet-from-dataframe-output');\">See Full Dataframe in Mito</div> <script> if (window.commands.hasCommand('create-mitosheet-from-dataframe-output')) document.getElementById('479094fe-7894-4236-bde0-9d95169206bd').style.display = 'flex' </script> <table border=\"1\" class=\"dataframe\">\n",
       "  <thead>\n",
       "    <tr style=\"text-align: right;\">\n",
       "      <th></th>\n",
       "      <th>InvDate</th>\n",
       "      <th>tavg</th>\n",
       "      <th>tmin</th>\n",
       "      <th>tmax</th>\n",
       "      <th>prcp</th>\n",
       "      <th>wdir</th>\n",
       "      <th>wspd</th>\n",
       "      <th>wpgt</th>\n",
       "      <th>pres</th>\n",
       "      <th>InvQty</th>\n",
       "    </tr>\n",
       "  </thead>\n",
       "  <tbody>\n",
       "    <tr>\n",
       "      <th>0</th>\n",
       "      <td>2019-01-02</td>\n",
       "      <td>3.9</td>\n",
       "      <td>3.0</td>\n",
       "      <td>5.2</td>\n",
       "      <td>0.0</td>\n",
       "      <td>336.0</td>\n",
       "      <td>14.1</td>\n",
       "      <td>31.5</td>\n",
       "      <td>1041.9</td>\n",
       "      <td>271070</td>\n",
       "    </tr>\n",
       "    <tr>\n",
       "      <th>1</th>\n",
       "      <td>2019-01-03</td>\n",
       "      <td>2.4</td>\n",
       "      <td>0.1</td>\n",
       "      <td>4.2</td>\n",
       "      <td>0.0</td>\n",
       "      <td>309.0</td>\n",
       "      <td>10.0</td>\n",
       "      <td>20.4</td>\n",
       "      <td>1042.8</td>\n",
       "      <td>323298</td>\n",
       "    </tr>\n",
       "    <tr>\n",
       "      <th>2</th>\n",
       "      <td>2019-01-04</td>\n",
       "      <td>1.1</td>\n",
       "      <td>-1.5</td>\n",
       "      <td>3.6</td>\n",
       "      <td>0.0</td>\n",
       "      <td>283.0</td>\n",
       "      <td>12.6</td>\n",
       "      <td>25.9</td>\n",
       "      <td>1040.5</td>\n",
       "      <td>391404</td>\n",
       "    </tr>\n",
       "    <tr>\n",
       "      <th>3</th>\n",
       "      <td>2019-01-05</td>\n",
       "      <td>2.5</td>\n",
       "      <td>1.1</td>\n",
       "      <td>4.3</td>\n",
       "      <td>0.0</td>\n",
       "      <td>295.0</td>\n",
       "      <td>14.3</td>\n",
       "      <td>29.6</td>\n",
       "      <td>1037.2</td>\n",
       "      <td>248758</td>\n",
       "    </tr>\n",
       "    <tr>\n",
       "      <th>4</th>\n",
       "      <td>2019-01-06</td>\n",
       "      <td>4.2</td>\n",
       "      <td>1.9</td>\n",
       "      <td>6.5</td>\n",
       "      <td>0.0</td>\n",
       "      <td>273.0</td>\n",
       "      <td>9.4</td>\n",
       "      <td>18.5</td>\n",
       "      <td>1035.5</td>\n",
       "      <td>28656</td>\n",
       "    </tr>\n",
       "  </tbody>\n",
       "</table></div>"
      ],
      "text/plain": [
       "      InvDate  tavg  tmin  tmax  prcp   wdir  wspd  wpgt    pres  InvQty\n",
       "0  2019-01-02   3.9   3.0   5.2   0.0  336.0  14.1  31.5  1041.9  271070\n",
       "1  2019-01-03   2.4   0.1   4.2   0.0  309.0  10.0  20.4  1042.8  323298\n",
       "2  2019-01-04   1.1  -1.5   3.6   0.0  283.0  12.6  25.9  1040.5  391404\n",
       "3  2019-01-05   2.5   1.1   4.3   0.0  295.0  14.3  29.6  1037.2  248758\n",
       "4  2019-01-06   4.2   1.9   6.5   0.0  273.0   9.4  18.5  1035.5   28656"
      ]
     },
     "execution_count": 8,
     "metadata": {},
     "output_type": "execute_result"
    }
   ],
   "source": [
    "df.head()"
   ]
  },
  {
   "cell_type": "code",
   "execution_count": 10,
   "id": "ceb4097b",
   "metadata": {},
   "outputs": [
    {
     "data": {
      "text/plain": [
       "InvDate    0\n",
       "tavg       0\n",
       "tmin       0\n",
       "tmax       0\n",
       "prcp       0\n",
       "wdir       0\n",
       "wspd       0\n",
       "wpgt       0\n",
       "pres       0\n",
       "InvQty     0\n",
       "dtype: int64"
      ]
     },
     "execution_count": 10,
     "metadata": {},
     "output_type": "execute_result"
    }
   ],
   "source": [
    "df.isnull().sum()"
   ]
  },
  {
   "cell_type": "code",
   "execution_count": 11,
   "id": "497ecc22",
   "metadata": {},
   "outputs": [],
   "source": [
    "df.set_index('InvDate', inplace=True)"
   ]
  },
  {
   "cell_type": "code",
   "execution_count": 12,
   "id": "48eaf773",
   "metadata": {},
   "outputs": [
    {
     "data": {
      "text/html": [
       "<div><div id=615ece05-6bf2-4365-8e73-33a424b309c0 style=\"display:none; background-color:#9D6CFF; color:white; width:200px; height:30px; padding-left:5px; border-radius:4px; flex-direction:row; justify-content:space-around; align-items:center;\" onmouseover=\"this.style.backgroundColor='#BA9BF8'\" onmouseout=\"this.style.backgroundColor='#9D6CFF'\" onclick=\"window.commands?.execute('create-mitosheet-from-dataframe-output');\">See Full Dataframe in Mito</div> <script> if (window.commands.hasCommand('create-mitosheet-from-dataframe-output')) document.getElementById('615ece05-6bf2-4365-8e73-33a424b309c0').style.display = 'flex' </script> <table border=\"1\" class=\"dataframe\">\n",
       "  <thead>\n",
       "    <tr style=\"text-align: right;\">\n",
       "      <th></th>\n",
       "      <th>tavg</th>\n",
       "      <th>tmin</th>\n",
       "      <th>tmax</th>\n",
       "      <th>prcp</th>\n",
       "      <th>wdir</th>\n",
       "      <th>wspd</th>\n",
       "      <th>wpgt</th>\n",
       "      <th>pres</th>\n",
       "      <th>InvQty</th>\n",
       "    </tr>\n",
       "    <tr>\n",
       "      <th>InvDate</th>\n",
       "      <th></th>\n",
       "      <th></th>\n",
       "      <th></th>\n",
       "      <th></th>\n",
       "      <th></th>\n",
       "      <th></th>\n",
       "      <th></th>\n",
       "      <th></th>\n",
       "      <th></th>\n",
       "    </tr>\n",
       "  </thead>\n",
       "  <tbody>\n",
       "    <tr>\n",
       "      <th>2019-01-02</th>\n",
       "      <td>3.9</td>\n",
       "      <td>3.0</td>\n",
       "      <td>5.2</td>\n",
       "      <td>0.0</td>\n",
       "      <td>336.0</td>\n",
       "      <td>14.1</td>\n",
       "      <td>31.5</td>\n",
       "      <td>1041.9</td>\n",
       "      <td>271070</td>\n",
       "    </tr>\n",
       "    <tr>\n",
       "      <th>2019-01-03</th>\n",
       "      <td>2.4</td>\n",
       "      <td>0.1</td>\n",
       "      <td>4.2</td>\n",
       "      <td>0.0</td>\n",
       "      <td>309.0</td>\n",
       "      <td>10.0</td>\n",
       "      <td>20.4</td>\n",
       "      <td>1042.8</td>\n",
       "      <td>323298</td>\n",
       "    </tr>\n",
       "    <tr>\n",
       "      <th>2019-01-04</th>\n",
       "      <td>1.1</td>\n",
       "      <td>-1.5</td>\n",
       "      <td>3.6</td>\n",
       "      <td>0.0</td>\n",
       "      <td>283.0</td>\n",
       "      <td>12.6</td>\n",
       "      <td>25.9</td>\n",
       "      <td>1040.5</td>\n",
       "      <td>391404</td>\n",
       "    </tr>\n",
       "    <tr>\n",
       "      <th>2019-01-05</th>\n",
       "      <td>2.5</td>\n",
       "      <td>1.1</td>\n",
       "      <td>4.3</td>\n",
       "      <td>0.0</td>\n",
       "      <td>295.0</td>\n",
       "      <td>14.3</td>\n",
       "      <td>29.6</td>\n",
       "      <td>1037.2</td>\n",
       "      <td>248758</td>\n",
       "    </tr>\n",
       "    <tr>\n",
       "      <th>2019-01-06</th>\n",
       "      <td>4.2</td>\n",
       "      <td>1.9</td>\n",
       "      <td>6.5</td>\n",
       "      <td>0.0</td>\n",
       "      <td>273.0</td>\n",
       "      <td>9.4</td>\n",
       "      <td>18.5</td>\n",
       "      <td>1035.5</td>\n",
       "      <td>28656</td>\n",
       "    </tr>\n",
       "    <tr>\n",
       "      <th>...</th>\n",
       "      <td>...</td>\n",
       "      <td>...</td>\n",
       "      <td>...</td>\n",
       "      <td>...</td>\n",
       "      <td>...</td>\n",
       "      <td>...</td>\n",
       "      <td>...</td>\n",
       "      <td>...</td>\n",
       "      <td>...</td>\n",
       "    </tr>\n",
       "    <tr>\n",
       "      <th>2021-12-27</th>\n",
       "      <td>6.4</td>\n",
       "      <td>5.2</td>\n",
       "      <td>7.6</td>\n",
       "      <td>1.4</td>\n",
       "      <td>144.0</td>\n",
       "      <td>14.4</td>\n",
       "      <td>31.5</td>\n",
       "      <td>993.4</td>\n",
       "      <td>2580</td>\n",
       "    </tr>\n",
       "    <tr>\n",
       "      <th>2021-12-28</th>\n",
       "      <td>8.2</td>\n",
       "      <td>7.2</td>\n",
       "      <td>8.9</td>\n",
       "      <td>4.2</td>\n",
       "      <td>239.0</td>\n",
       "      <td>17.3</td>\n",
       "      <td>37.0</td>\n",
       "      <td>990.5</td>\n",
       "      <td>6190</td>\n",
       "    </tr>\n",
       "    <tr>\n",
       "      <th>2021-12-29</th>\n",
       "      <td>8.6</td>\n",
       "      <td>6.4</td>\n",
       "      <td>11.7</td>\n",
       "      <td>1.8</td>\n",
       "      <td>218.0</td>\n",
       "      <td>18.5</td>\n",
       "      <td>40.8</td>\n",
       "      <td>1002.3</td>\n",
       "      <td>151808</td>\n",
       "    </tr>\n",
       "    <tr>\n",
       "      <th>2021-12-30</th>\n",
       "      <td>12.9</td>\n",
       "      <td>10.7</td>\n",
       "      <td>14.0</td>\n",
       "      <td>0.2</td>\n",
       "      <td>226.0</td>\n",
       "      <td>27.7</td>\n",
       "      <td>50.0</td>\n",
       "      <td>1009.0</td>\n",
       "      <td>172952</td>\n",
       "    </tr>\n",
       "    <tr>\n",
       "      <th>2021-12-31</th>\n",
       "      <td>12.6</td>\n",
       "      <td>11.0</td>\n",
       "      <td>13.7</td>\n",
       "      <td>0.9</td>\n",
       "      <td>227.0</td>\n",
       "      <td>26.1</td>\n",
       "      <td>50.0</td>\n",
       "      <td>1013.4</td>\n",
       "      <td>111707</td>\n",
       "    </tr>\n",
       "  </tbody>\n",
       "</table></div>"
      ],
      "text/plain": [
       "            tavg  tmin  tmax  prcp   wdir  wspd  wpgt    pres  InvQty\n",
       "InvDate                                                              \n",
       "2019-01-02   3.9   3.0   5.2   0.0  336.0  14.1  31.5  1041.9  271070\n",
       "2019-01-03   2.4   0.1   4.2   0.0  309.0  10.0  20.4  1042.8  323298\n",
       "2019-01-04   1.1  -1.5   3.6   0.0  283.0  12.6  25.9  1040.5  391404\n",
       "2019-01-05   2.5   1.1   4.3   0.0  295.0  14.3  29.6  1037.2  248758\n",
       "2019-01-06   4.2   1.9   6.5   0.0  273.0   9.4  18.5  1035.5   28656\n",
       "...          ...   ...   ...   ...    ...   ...   ...     ...     ...\n",
       "2021-12-27   6.4   5.2   7.6   1.4  144.0  14.4  31.5   993.4    2580\n",
       "2021-12-28   8.2   7.2   8.9   4.2  239.0  17.3  37.0   990.5    6190\n",
       "2021-12-29   8.6   6.4  11.7   1.8  218.0  18.5  40.8  1002.3  151808\n",
       "2021-12-30  12.9  10.7  14.0   0.2  226.0  27.7  50.0  1009.0  172952\n",
       "2021-12-31  12.6  11.0  13.7   0.9  227.0  26.1  50.0  1013.4  111707\n",
       "\n",
       "[1092 rows x 9 columns]"
      ]
     },
     "execution_count": 12,
     "metadata": {},
     "output_type": "execute_result"
    }
   ],
   "source": [
    "df\n"
   ]
  },
  {
   "cell_type": "code",
   "execution_count": 13,
   "id": "f6d3248c",
   "metadata": {},
   "outputs": [],
   "source": [
    "from pandas import read_csv\n",
    "from matplotlib import pyplot\n",
    "# load dataset\n",
    "dataset = df\n",
    "values = dataset.values\n"
   ]
  },
  {
   "cell_type": "code",
   "execution_count": 14,
   "id": "46370422",
   "metadata": {},
   "outputs": [
    {
     "data": {
      "image/png": "[encoded data removed]",
      "text/plain": [
       "<Figure size 432x288 with 8 Axes>"
      ]
     },
     "metadata": {
      "needs_background": "light"
     },
     "output_type": "display_data"
    }
   ],
   "source": [
    "# specify columns to plot\n",
    "groups = [0, 1, 2, 3, 5, 6, 7,8]\n",
    "i = 1\n",
    "# plot each column\n",
    "pyplot.figure()\n",
    "for group in groups:\n",
    "\tpyplot.subplot(len(groups), 1, i)\n",
    "\tpyplot.plot(values[:, group])\n",
    "\tpyplot.title(dataset.columns[group], y=0.5, loc='right')\n",
    "\ti += 1\n",
    "pyplot.show()"
   ]
  },
  {
   "cell_type": "code",
   "execution_count": 15,
   "id": "fb34163d",
   "metadata": {},
   "outputs": [],
   "source": [
    "from pandas import read_csv\n",
    "from pandas import DataFrame\n",
    "from pandas import concat\n",
    "from sklearn.preprocessing import LabelEncoder\n",
    "from sklearn.preprocessing import MinMaxScaler"
   ]
  },
  {
   "cell_type": "code",
   "execution_count": 16,
   "id": "7b26cf14",
   "metadata": {},
   "outputs": [],
   "source": [
    "def series_to_supervised(data, n_in=1, n_out=1, dropnan=True):\n",
    "\tn_vars = 1 if type(data) is list else data.shape[1]\n",
    "\tdf = DataFrame(data)\n",
    "\tcols, names = list(), list()\n",
    "\t# input sequence (t-n, ... t-1)\n",
    "\tfor i in range(n_in, 0, -1):\n",
    "\t\tcols.append(df.shift(i))\n",
    "\t\tnames += [('var%d(t-%d)' % (j+1, i)) for j in range(n_vars)]\n",
    "\t# forecast sequence (t, t+1, ... t+n)\n",
    "\tfor i in range(0, n_out):\n",
    "\t\tcols.append(df.shift(-i))\n",
    "\t\tif i == 0:\n",
    "\t\t\tnames += [('var%d(t)' % (j+1)) for j in range(n_vars)]\n",
    "\t\telse:\n",
    "\t\t\tnames += [('var%d(t+%d)' % (j+1, i)) for j in range(n_vars)]\n",
    "\t# put it all together\n",
    "\tagg = concat(cols, axis=1)\n",
    "\tagg.columns = names\n",
    "\t# drop rows with NaN values\n",
    "\tif dropnan:\n",
    "\t\tagg.dropna(inplace=True)\n",
    "\treturn agg"
   ]
  },
  {
   "cell_type": "code",
   "execution_count": 21,
   "id": "8ae6df08",
   "metadata": {},
   "outputs": [],
   "source": [
    "# integer encode direction\n",
    "encoder = LabelEncoder()\n",
    "values[:,8] = encoder.fit_transform(values[:,8])"
   ]
  },
  {
   "cell_type": "code",
   "execution_count": 22,
   "id": "fd4842ed",
   "metadata": {},
   "outputs": [],
   "source": [
    "# ensure all data is float\n",
    "values = values.astype('float32')"
   ]
  },
  {
   "cell_type": "code",
   "execution_count": 23,
   "id": "bbfa2830",
   "metadata": {},
   "outputs": [],
   "source": [
    "# normalize features\n",
    "scaler = MinMaxScaler(feature_range=(0, 1))\n",
    "scaled = scaler.fit_transform(values)"
   ]
  },
  {
   "cell_type": "code",
   "execution_count": 24,
   "id": "0197726c",
   "metadata": {},
   "outputs": [],
   "source": [
    "# frame as supervised learning\n",
    "reframed = series_to_supervised(scaled, 1, 1)"
   ]
  },
  {
   "cell_type": "code",
   "execution_count": 27,
   "id": "c72a583d",
   "metadata": {},
   "outputs": [
    {
     "data": {
      "text/html": [
       "<div><div id=629f55ef-ca01-4776-b865-8a936118356d style=\"display:none; background-color:#9D6CFF; color:white; width:200px; height:30px; padding-left:5px; border-radius:4px; flex-direction:row; justify-content:space-around; align-items:center;\" onmouseover=\"this.style.backgroundColor='#BA9BF8'\" onmouseout=\"this.style.backgroundColor='#9D6CFF'\" onclick=\"window.commands?.execute('create-mitosheet-from-dataframe-output');\">See Full Dataframe in Mito</div> <script> if (window.commands.hasCommand('create-mitosheet-from-dataframe-output')) document.getElementById('629f55ef-ca01-4776-b865-8a936118356d').style.display = 'flex' </script> <table border=\"1\" class=\"dataframe\">\n",
       "  <thead>\n",
       "    <tr style=\"text-align: right;\">\n",
       "      <th></th>\n",
       "      <th>var1(t-1)</th>\n",
       "      <th>var2(t-1)</th>\n",
       "      <th>var3(t-1)</th>\n",
       "      <th>var4(t-1)</th>\n",
       "      <th>var5(t-1)</th>\n",
       "      <th>var6(t-1)</th>\n",
       "      <th>var7(t-1)</th>\n",
       "      <th>var8(t-1)</th>\n",
       "      <th>var9(t-1)</th>\n",
       "      <th>var8(t)</th>\n",
       "      <th>var9(t)</th>\n",
       "    </tr>\n",
       "  </thead>\n",
       "  <tbody>\n",
       "    <tr>\n",
       "      <th>1</th>\n",
       "      <td>0.231884</td>\n",
       "      <td>0.296296</td>\n",
       "      <td>0.190769</td>\n",
       "      <td>0.0</td>\n",
       "      <td>0.935933</td>\n",
       "      <td>0.219409</td>\n",
       "      <td>0.208333</td>\n",
       "      <td>0.935083</td>\n",
       "      <td>0.427505</td>\n",
       "      <td>0.947515</td>\n",
       "      <td>0.615139</td>\n",
       "    </tr>\n",
       "    <tr>\n",
       "      <th>2</th>\n",
       "      <td>0.177536</td>\n",
       "      <td>0.176955</td>\n",
       "      <td>0.160000</td>\n",
       "      <td>0.0</td>\n",
       "      <td>0.860724</td>\n",
       "      <td>0.132911</td>\n",
       "      <td>0.083333</td>\n",
       "      <td>0.947515</td>\n",
       "      <td>0.615139</td>\n",
       "      <td>0.915746</td>\n",
       "      <td>0.802772</td>\n",
       "    </tr>\n",
       "    <tr>\n",
       "      <th>3</th>\n",
       "      <td>0.130435</td>\n",
       "      <td>0.111111</td>\n",
       "      <td>0.141538</td>\n",
       "      <td>0.0</td>\n",
       "      <td>0.788301</td>\n",
       "      <td>0.187764</td>\n",
       "      <td>0.145270</td>\n",
       "      <td>0.915746</td>\n",
       "      <td>0.802772</td>\n",
       "      <td>0.870165</td>\n",
       "      <td>0.348614</td>\n",
       "    </tr>\n",
       "    <tr>\n",
       "      <th>4</th>\n",
       "      <td>0.181159</td>\n",
       "      <td>0.218107</td>\n",
       "      <td>0.163077</td>\n",
       "      <td>0.0</td>\n",
       "      <td>0.821727</td>\n",
       "      <td>0.223629</td>\n",
       "      <td>0.186937</td>\n",
       "      <td>0.870165</td>\n",
       "      <td>0.348614</td>\n",
       "      <td>0.846685</td>\n",
       "      <td>0.078891</td>\n",
       "    </tr>\n",
       "    <tr>\n",
       "      <th>5</th>\n",
       "      <td>0.242754</td>\n",
       "      <td>0.251029</td>\n",
       "      <td>0.230769</td>\n",
       "      <td>0.0</td>\n",
       "      <td>0.760446</td>\n",
       "      <td>0.120253</td>\n",
       "      <td>0.061937</td>\n",
       "      <td>0.846685</td>\n",
       "      <td>0.078891</td>\n",
       "      <td>0.758286</td>\n",
       "      <td>0.323028</td>\n",
       "    </tr>\n",
       "  </tbody>\n",
       "</table></div>"
      ],
      "text/plain": [
       "   var1(t-1)  var2(t-1)  var3(t-1)  var4(t-1)  var5(t-1)  var6(t-1)  \\\n",
       "1   0.231884   0.296296   0.190769        0.0   0.935933   0.219409   \n",
       "2   0.177536   0.176955   0.160000        0.0   0.860724   0.132911   \n",
       "3   0.130435   0.111111   0.141538        0.0   0.788301   0.187764   \n",
       "4   0.181159   0.218107   0.163077        0.0   0.821727   0.223629   \n",
       "5   0.242754   0.251029   0.230769        0.0   0.760446   0.120253   \n",
       "\n",
       "   var7(t-1)  var8(t-1)  var9(t-1)   var8(t)   var9(t)  \n",
       "1   0.208333   0.935083   0.427505  0.947515  0.615139  \n",
       "2   0.083333   0.947515   0.615139  0.915746  0.802772  \n",
       "3   0.145270   0.915746   0.802772  0.870165  0.348614  \n",
       "4   0.186937   0.870165   0.348614  0.846685  0.078891  \n",
       "5   0.061937   0.846685   0.078891  0.758286  0.323028  "
      ]
     },
     "execution_count": 27,
     "metadata": {},
     "output_type": "execute_result"
    }
   ],
   "source": [
    "reframed.head()"
   ]
  },
  {
   "cell_type": "code",
   "execution_count": 26,
   "id": "da2f8b06",
   "metadata": {},
   "outputs": [],
   "source": [
    "# drop columns we don't want to predict\n",
    "reframed.drop(reframed.columns[[9,10,11,12,13,14,15]], axis=1, inplace=True)"
   ]
  },
  {
   "cell_type": "code",
   "execution_count": 28,
   "id": "be0711a5",
   "metadata": {},
   "outputs": [],
   "source": [
    "# split into train and test sets\n",
    "values = reframed.values\n",
    "n_train_hours = 365 \n",
    "train = values[:n_train_hours, :]\n",
    "test = values[n_train_hours:, :]"
   ]
  },
  {
   "cell_type": "code",
   "execution_count": 29,
   "id": "0b823821",
   "metadata": {},
   "outputs": [],
   "source": [
    "# split into input and outputs\n",
    "train_X, train_y = train[:, :-1], train[:, -1]\n",
    "test_X, test_y = test[:, :-1], test[:, -1]"
   ]
  },
  {
   "cell_type": "code",
   "execution_count": 30,
   "id": "cc92671f",
   "metadata": {},
   "outputs": [
    {
     "name": "stdout",
     "output_type": "stream",
     "text": [
      "(365, 1, 10) (365,) (726, 1, 10) (726,)\n"
     ]
    }
   ],
   "source": [
    "# reshape input to be 3D [samples, timesteps, features]\n",
    "train_X = train_X.reshape((train_X.shape[0], 1, train_X.shape[1]))\n",
    "test_X = test_X.reshape((test_X.shape[0], 1, test_X.shape[1]))\n",
    "print(train_X.shape, train_y.shape, test_X.shape, test_y.shape)"
   ]
  },
  {
   "cell_type": "code",
   "execution_count": 31,
   "id": "183b948a",
   "metadata": {},
   "outputs": [],
   "source": [
    "# design network\n",
    "model = Sequential()\n",
    "model.add(LSTM(50, input_shape=(train_X.shape[1], train_X.shape[2])))\n",
    "model.add(Dense(1))\n",
    "model.compile(loss='mae', optimizer='adam')"
   ]
  },
  {
   "cell_type": "code",
   "execution_count": 32,
   "id": "8e3989ea",
   "metadata": {
    "scrolled": true
   },
   "outputs": [
    {
     "name": "stdout",
     "output_type": "stream",
     "text": [
      "Epoch 1/50\n",
      "6/6 - 2s - loss: 0.3958 - val_loss: 0.3835 - 2s/epoch - 331ms/step\n",
      "Epoch 2/50\n",
      "6/6 - 0s - loss: 0.3564 - val_loss: 0.3506 - 38ms/epoch - 6ms/step\n",
      "Epoch 3/50\n",
      "6/6 - 0s - loss: 0.3268 - val_loss: 0.3239 - 41ms/epoch - 7ms/step\n",
      "Epoch 4/50\n",
      "6/6 - 0s - loss: 0.3040 - val_loss: 0.3062 - 48ms/epoch - 8ms/step\n",
      "Epoch 5/50\n",
      "6/6 - 0s - loss: 0.2891 - val_loss: 0.2974 - 37ms/epoch - 6ms/step\n",
      "Epoch 6/50\n",
      "6/6 - 0s - loss: 0.2794 - val_loss: 0.2923 - 40ms/epoch - 7ms/step\n",
      "Epoch 7/50\n",
      "6/6 - 0s - loss: 0.2737 - val_loss: 0.2894 - 39ms/epoch - 7ms/step\n",
      "Epoch 8/50\n",
      "6/6 - 0s - loss: 0.2701 - val_loss: 0.2877 - 41ms/epoch - 7ms/step\n",
      "Epoch 9/50\n",
      "6/6 - 0s - loss: 0.2680 - val_loss: 0.2866 - 33ms/epoch - 5ms/step\n",
      "Epoch 10/50\n",
      "6/6 - 0s - loss: 0.2668 - val_loss: 0.2861 - 39ms/epoch - 6ms/step\n",
      "Epoch 11/50\n",
      "6/6 - 0s - loss: 0.2660 - val_loss: 0.2859 - 41ms/epoch - 7ms/step\n",
      "Epoch 12/50\n",
      "6/6 - 0s - loss: 0.2656 - val_loss: 0.2859 - 38ms/epoch - 6ms/step\n",
      "Epoch 13/50\n",
      "6/6 - 0s - loss: 0.2654 - val_loss: 0.2860 - 39ms/epoch - 7ms/step\n",
      "Epoch 14/50\n",
      "6/6 - 0s - loss: 0.2653 - val_loss: 0.2863 - 32ms/epoch - 5ms/step\n",
      "Epoch 15/50\n",
      "6/6 - 0s - loss: 0.2653 - val_loss: 0.2866 - 40ms/epoch - 7ms/step\n",
      "Epoch 16/50\n",
      "6/6 - 0s - loss: 0.2653 - val_loss: 0.2870 - 41ms/epoch - 7ms/step\n",
      "Epoch 17/50\n",
      "6/6 - 0s - loss: 0.2653 - val_loss: 0.2871 - 32ms/epoch - 5ms/step\n",
      "Epoch 18/50\n",
      "6/6 - 0s - loss: 0.2650 - val_loss: 0.2871 - 48ms/epoch - 8ms/step\n",
      "Epoch 19/50\n",
      "6/6 - 0s - loss: 0.2647 - val_loss: 0.2869 - 33ms/epoch - 5ms/step\n",
      "Epoch 20/50\n",
      "6/6 - 0s - loss: 0.2642 - val_loss: 0.2868 - 42ms/epoch - 7ms/step\n",
      "Epoch 21/50\n",
      "6/6 - 0s - loss: 0.2637 - val_loss: 0.2866 - 92ms/epoch - 15ms/step\n",
      "Epoch 22/50\n",
      "6/6 - 0s - loss: 0.2633 - val_loss: 0.2865 - 55ms/epoch - 9ms/step\n",
      "Epoch 23/50\n",
      "6/6 - 0s - loss: 0.2630 - val_loss: 0.2863 - 52ms/epoch - 9ms/step\n",
      "Epoch 24/50\n",
      "6/6 - 0s - loss: 0.2626 - val_loss: 0.2861 - 46ms/epoch - 8ms/step\n",
      "Epoch 25/50\n",
      "6/6 - 0s - loss: 0.2621 - val_loss: 0.2859 - 51ms/epoch - 8ms/step\n",
      "Epoch 26/50\n",
      "6/6 - 0s - loss: 0.2617 - val_loss: 0.2857 - 38ms/epoch - 6ms/step\n",
      "Epoch 27/50\n",
      "6/6 - 0s - loss: 0.2611 - val_loss: 0.2855 - 39ms/epoch - 7ms/step\n",
      "Epoch 28/50\n",
      "6/6 - 0s - loss: 0.2607 - val_loss: 0.2853 - 34ms/epoch - 6ms/step\n",
      "Epoch 29/50\n",
      "6/6 - 0s - loss: 0.2603 - val_loss: 0.2854 - 41ms/epoch - 7ms/step\n",
      "Epoch 30/50\n",
      "6/6 - 0s - loss: 0.2602 - val_loss: 0.2854 - 44ms/epoch - 7ms/step\n",
      "Epoch 31/50\n",
      "6/6 - 0s - loss: 0.2600 - val_loss: 0.2856 - 36ms/epoch - 6ms/step\n",
      "Epoch 32/50\n",
      "6/6 - 0s - loss: 0.2600 - val_loss: 0.2858 - 39ms/epoch - 7ms/step\n",
      "Epoch 33/50\n",
      "6/6 - 0s - loss: 0.2600 - val_loss: 0.2861 - 43ms/epoch - 7ms/step\n",
      "Epoch 34/50\n",
      "6/6 - 0s - loss: 0.2600 - val_loss: 0.2861 - 41ms/epoch - 7ms/step\n",
      "Epoch 35/50\n",
      "6/6 - 0s - loss: 0.2594 - val_loss: 0.2854 - 66ms/epoch - 11ms/step\n",
      "Epoch 36/50\n",
      "6/6 - 0s - loss: 0.2583 - val_loss: 0.2847 - 40ms/epoch - 7ms/step\n",
      "Epoch 37/50\n",
      "6/6 - 0s - loss: 0.2573 - val_loss: 0.2843 - 43ms/epoch - 7ms/step\n",
      "Epoch 38/50\n",
      "6/6 - 0s - loss: 0.2568 - val_loss: 0.2845 - 38ms/epoch - 6ms/step\n",
      "Epoch 39/50\n",
      "6/6 - 0s - loss: 0.2567 - val_loss: 0.2845 - 38ms/epoch - 6ms/step\n",
      "Epoch 40/50\n",
      "6/6 - 0s - loss: 0.2566 - val_loss: 0.2845 - 42ms/epoch - 7ms/step\n",
      "Epoch 41/50\n",
      "6/6 - 0s - loss: 0.2563 - val_loss: 0.2843 - 39ms/epoch - 6ms/step\n",
      "Epoch 42/50\n",
      "6/6 - 0s - loss: 0.2561 - val_loss: 0.2844 - 45ms/epoch - 7ms/step\n",
      "Epoch 43/50\n",
      "6/6 - 0s - loss: 0.2562 - val_loss: 0.2846 - 40ms/epoch - 7ms/step\n",
      "Epoch 44/50\n",
      "6/6 - 0s - loss: 0.2563 - val_loss: 0.2844 - 38ms/epoch - 6ms/step\n",
      "Epoch 45/50\n",
      "6/6 - 0s - loss: 0.2561 - val_loss: 0.2843 - 49ms/epoch - 8ms/step\n",
      "Epoch 46/50\n",
      "6/6 - 0s - loss: 0.2560 - val_loss: 0.2845 - 63ms/epoch - 10ms/step\n",
      "Epoch 47/50\n",
      "6/6 - 0s - loss: 0.2562 - val_loss: 0.2847 - 51ms/epoch - 9ms/step\n",
      "Epoch 48/50\n",
      "6/6 - 0s - loss: 0.2564 - val_loss: 0.2846 - 45ms/epoch - 7ms/step\n",
      "Epoch 49/50\n",
      "6/6 - 0s - loss: 0.2562 - val_loss: 0.2844 - 42ms/epoch - 7ms/step\n",
      "Epoch 50/50\n",
      "6/6 - 0s - loss: 0.2560 - val_loss: 0.2846 - 43ms/epoch - 7ms/step\n"
     ]
    }
   ],
   "source": [
    "# fit network\n",
    "history = model.fit(train_X, train_y, epochs=50, batch_size=72, validation_data=(test_X, test_y), verbose=2, shuffle=False)"
   ]
  },
  {
   "cell_type": "code",
   "execution_count": 33,
   "id": "e1ceba76",
   "metadata": {},
   "outputs": [
    {
     "data": {
      "image/png": "[encoded data removed]",
      "text/plain": [
       "<Figure size 432x288 with 1 Axes>"
      ]
     },
     "metadata": {
      "needs_background": "light"
     },
     "output_type": "display_data"
    }
   ],
   "source": [
    "# plot history\n",
    "pyplot.plot(history.history['loss'], label='train')\n",
    "pyplot.plot(history.history['val_loss'], label='test')\n",
    "pyplot.legend()\n",
    "pyplot.show()"
   ]
  },
  {
   "cell_type": "code",
   "execution_count": 34,
   "id": "a63d6b68",
   "metadata": {},
   "outputs": [],
   "source": [
    "# make a prediction\n",
    "yhat = model.predict(test_X)\n",
    "test_X = test_X.reshape((test_X.shape[0], test_X.shape[2]))"
   ]
  },
  {
   "cell_type": "code",
   "execution_count": 36,
   "id": "cf41ab1f",
   "metadata": {},
   "outputs": [],
   "source": [
    "from numpy import concatenate"
   ]
  },
  {
   "cell_type": "code",
   "execution_count": 37,
   "id": "b2871995",
   "metadata": {},
   "outputs": [
    {
     "ename": "ValueError",
     "evalue": "operands could not be broadcast together with shapes (726,10) (9,) (726,10) ",
     "output_type": "error",
     "traceback": [
      "\u001b[1;31m---------------------------------------------------------------------------\u001b[0m",
      "\u001b[1;31mValueError\u001b[0m                                Traceback (most recent call last)",
      "Input \u001b[1;32mIn [37]\u001b[0m, in \u001b[0;36m<cell line: 3>\u001b[1;34m()\u001b[0m\n\u001b[0;32m      1\u001b[0m \u001b[38;5;66;03m# invert scaling for forecast\u001b[39;00m\n\u001b[0;32m      2\u001b[0m inv_yhat \u001b[38;5;241m=\u001b[39m concatenate((yhat, test_X[:, \u001b[38;5;241m1\u001b[39m:]), axis\u001b[38;5;241m=\u001b[39m\u001b[38;5;241m1\u001b[39m)\n\u001b[1;32m----> 3\u001b[0m inv_yhat \u001b[38;5;241m=\u001b[39m \u001b[43mscaler\u001b[49m\u001b[38;5;241;43m.\u001b[39;49m\u001b[43minverse_transform\u001b[49m\u001b[43m(\u001b[49m\u001b[43minv_yhat\u001b[49m\u001b[43m)\u001b[49m\n\u001b[0;32m      4\u001b[0m inv_yhat \u001b[38;5;241m=\u001b[39m inv_yhat[:,\u001b[38;5;241m0\u001b[39m]\n",
      "File \u001b[1;32m~\\Anaconda3\\lib\\site-packages\\sklearn\\preprocessing\\_data.py:529\u001b[0m, in \u001b[0;36mMinMaxScaler.inverse_transform\u001b[1;34m(self, X)\u001b[0m\n\u001b[0;32m    523\u001b[0m check_is_fitted(\u001b[38;5;28mself\u001b[39m)\n\u001b[0;32m    525\u001b[0m X \u001b[38;5;241m=\u001b[39m check_array(\n\u001b[0;32m    526\u001b[0m     X, copy\u001b[38;5;241m=\u001b[39m\u001b[38;5;28mself\u001b[39m\u001b[38;5;241m.\u001b[39mcopy, dtype\u001b[38;5;241m=\u001b[39mFLOAT_DTYPES, force_all_finite\u001b[38;5;241m=\u001b[39m\u001b[38;5;124m\"\u001b[39m\u001b[38;5;124mallow-nan\u001b[39m\u001b[38;5;124m\"\u001b[39m\n\u001b[0;32m    527\u001b[0m )\n\u001b[1;32m--> 529\u001b[0m X \u001b[38;5;241m-\u001b[39m\u001b[38;5;241m=\u001b[39m \u001b[38;5;28mself\u001b[39m\u001b[38;5;241m.\u001b[39mmin_\n\u001b[0;32m    530\u001b[0m X \u001b[38;5;241m/\u001b[39m\u001b[38;5;241m=\u001b[39m \u001b[38;5;28mself\u001b[39m\u001b[38;5;241m.\u001b[39mscale_\n\u001b[0;32m    531\u001b[0m \u001b[38;5;28;01mreturn\u001b[39;00m X\n",
      "\u001b[1;31mValueError\u001b[0m: operands could not be broadcast together with shapes (726,10) (9,) (726,10) "
     ]
    }
   ],
   "source": [
    "# invert scaling for forecast\n",
    "inv_yhat = concatenate((yhat, test_X[:, 1:]), axis=1)\n",
    "inv_yhat = scaler.inverse_transform(inv_yhat)\n",
    "inv_yhat = inv_yhat[:,0]"
   ]
  },
  {
   "cell_type": "code",
   "execution_count": null,
   "id": "9d77addc",
   "metadata": {},
   "outputs": [],
   "source": []
  },
  {
   "cell_type": "code",
   "execution_count": 38,
   "id": "42513dea",
   "metadata": {},
   "outputs": [
    {
     "ename": "ValueError",
     "evalue": "operands could not be broadcast together with shapes (726,10) (9,) (726,10) ",
     "output_type": "error",
     "traceback": [
      "\u001b[1;31m---------------------------------------------------------------------------\u001b[0m",
      "\u001b[1;31mValueError\u001b[0m                                Traceback (most recent call last)",
      "Input \u001b[1;32mIn [38]\u001b[0m, in \u001b[0;36m<cell line: 4>\u001b[1;34m()\u001b[0m\n\u001b[0;32m      2\u001b[0m test_y \u001b[38;5;241m=\u001b[39m test_y\u001b[38;5;241m.\u001b[39mreshape((\u001b[38;5;28mlen\u001b[39m(test_y), \u001b[38;5;241m1\u001b[39m))\n\u001b[0;32m      3\u001b[0m inv_y \u001b[38;5;241m=\u001b[39m concatenate((test_y, test_X[:, \u001b[38;5;241m1\u001b[39m:]), axis\u001b[38;5;241m=\u001b[39m\u001b[38;5;241m1\u001b[39m)\n\u001b[1;32m----> 4\u001b[0m inv_y \u001b[38;5;241m=\u001b[39m \u001b[43mscaler\u001b[49m\u001b[38;5;241;43m.\u001b[39;49m\u001b[43minverse_transform\u001b[49m\u001b[43m(\u001b[49m\u001b[43minv_y\u001b[49m\u001b[43m)\u001b[49m\n\u001b[0;32m      5\u001b[0m inv_y \u001b[38;5;241m=\u001b[39m inv_y[:,\u001b[38;5;241m0\u001b[39m]\n",
      "File \u001b[1;32m~\\Anaconda3\\lib\\site-packages\\sklearn\\preprocessing\\_data.py:529\u001b[0m, in \u001b[0;36mMinMaxScaler.inverse_transform\u001b[1;34m(self, X)\u001b[0m\n\u001b[0;32m    523\u001b[0m check_is_fitted(\u001b[38;5;28mself\u001b[39m)\n\u001b[0;32m    525\u001b[0m X \u001b[38;5;241m=\u001b[39m check_array(\n\u001b[0;32m    526\u001b[0m     X, copy\u001b[38;5;241m=\u001b[39m\u001b[38;5;28mself\u001b[39m\u001b[38;5;241m.\u001b[39mcopy, dtype\u001b[38;5;241m=\u001b[39mFLOAT_DTYPES, force_all_finite\u001b[38;5;241m=\u001b[39m\u001b[38;5;124m\"\u001b[39m\u001b[38;5;124mallow-nan\u001b[39m\u001b[38;5;124m\"\u001b[39m\n\u001b[0;32m    527\u001b[0m )\n\u001b[1;32m--> 529\u001b[0m X \u001b[38;5;241m-\u001b[39m\u001b[38;5;241m=\u001b[39m \u001b[38;5;28mself\u001b[39m\u001b[38;5;241m.\u001b[39mmin_\n\u001b[0;32m    530\u001b[0m X \u001b[38;5;241m/\u001b[39m\u001b[38;5;241m=\u001b[39m \u001b[38;5;28mself\u001b[39m\u001b[38;5;241m.\u001b[39mscale_\n\u001b[0;32m    531\u001b[0m \u001b[38;5;28;01mreturn\u001b[39;00m X\n",
      "\u001b[1;31mValueError\u001b[0m: operands could not be broadcast together with shapes (726,10) (9,) (726,10) "
     ]
    }
   ],
   "source": [
    "# invert scaling for actual\n",
    "test_y = test_y.reshape((len(test_y), 1))\n",
    "inv_y = concatenate((test_y, test_X[:, 1:]), axis=1)\n",
    "inv_y = scaler.inverse_transform(inv_y)\n",
    "inv_y = inv_y[:,0]"
   ]
  },
  {
   "cell_type": "code",
   "execution_count": 39,
   "id": "d0814203",
   "metadata": {},
   "outputs": [
    {
     "ename": "NameError",
     "evalue": "name 'sqrt' is not defined",
     "output_type": "error",
     "traceback": [
      "\u001b[1;31m---------------------------------------------------------------------------\u001b[0m",
      "\u001b[1;31mNameError\u001b[0m                                 Traceback (most recent call last)",
      "Input \u001b[1;32mIn [39]\u001b[0m, in \u001b[0;36m<cell line: 2>\u001b[1;34m()\u001b[0m\n\u001b[0;32m      1\u001b[0m \u001b[38;5;66;03m# calculate RMSE\u001b[39;00m\n\u001b[1;32m----> 2\u001b[0m rmse \u001b[38;5;241m=\u001b[39m \u001b[43msqrt\u001b[49m(mean_squared_error(inv_y, inv_yhat))\n\u001b[0;32m      3\u001b[0m \u001b[38;5;28mprint\u001b[39m(\u001b[38;5;124m'\u001b[39m\u001b[38;5;124mTest RMSE: \u001b[39m\u001b[38;5;132;01m%.3f\u001b[39;00m\u001b[38;5;124m'\u001b[39m \u001b[38;5;241m%\u001b[39m rmse)\n",
      "\u001b[1;31mNameError\u001b[0m: name 'sqrt' is not defined"
     ]
    }
   ],
   "source": [
    "# calculate RMSE\n",
    "rmse = sqrt(mean_squared_error(inv_y, inv_yhat))\n",
    "print('Test RMSE: %.3f' % rmse)"
   ]
  },
  {
   "cell_type": "code",
   "execution_count": 41,
   "id": "7741e645",
   "metadata": {},
   "outputs": [
    {
     "data": {
      "text/html": [
       "<div><div id=75e41341-62dd-4a1e-a76a-e6dc29080c53 style=\"display:none; background-color:#9D6CFF; color:white; width:200px; height:30px; padding-left:5px; border-radius:4px; flex-direction:row; justify-content:space-around; align-items:center;\" onmouseover=\"this.style.backgroundColor='#BA9BF8'\" onmouseout=\"this.style.backgroundColor='#9D6CFF'\" onclick=\"window.commands?.execute('create-mitosheet-from-dataframe-output');\">See Full Dataframe in Mito</div> <script> if (window.commands.hasCommand('create-mitosheet-from-dataframe-output')) document.getElementById('75e41341-62dd-4a1e-a76a-e6dc29080c53').style.display = 'flex' </script> <table border=\"1\" class=\"dataframe\">\n",
       "  <thead>\n",
       "    <tr style=\"text-align: right;\">\n",
       "      <th></th>\n",
       "      <th>tavg</th>\n",
       "      <th>tmin</th>\n",
       "      <th>tmax</th>\n",
       "      <th>prcp</th>\n",
       "      <th>wdir</th>\n",
       "      <th>wspd</th>\n",
       "      <th>wpgt</th>\n",
       "      <th>pres</th>\n",
       "      <th>InvQty</th>\n",
       "    </tr>\n",
       "    <tr>\n",
       "      <th>InvDate</th>\n",
       "      <th></th>\n",
       "      <th></th>\n",
       "      <th></th>\n",
       "      <th></th>\n",
       "      <th></th>\n",
       "      <th></th>\n",
       "      <th></th>\n",
       "      <th></th>\n",
       "      <th></th>\n",
       "    </tr>\n",
       "  </thead>\n",
       "  <tbody>\n",
       "    <tr>\n",
       "      <th>2019-01-02</th>\n",
       "      <td>3.9</td>\n",
       "      <td>3.0</td>\n",
       "      <td>5.2</td>\n",
       "      <td>0.0</td>\n",
       "      <td>336.0</td>\n",
       "      <td>14.1</td>\n",
       "      <td>31.5</td>\n",
       "      <td>1041.9</td>\n",
       "      <td>271070</td>\n",
       "    </tr>\n",
       "    <tr>\n",
       "      <th>2019-01-03</th>\n",
       "      <td>2.4</td>\n",
       "      <td>0.1</td>\n",
       "      <td>4.2</td>\n",
       "      <td>0.0</td>\n",
       "      <td>309.0</td>\n",
       "      <td>10.0</td>\n",
       "      <td>20.4</td>\n",
       "      <td>1042.8</td>\n",
       "      <td>323298</td>\n",
       "    </tr>\n",
       "    <tr>\n",
       "      <th>2019-01-04</th>\n",
       "      <td>1.1</td>\n",
       "      <td>-1.5</td>\n",
       "      <td>3.6</td>\n",
       "      <td>0.0</td>\n",
       "      <td>283.0</td>\n",
       "      <td>12.6</td>\n",
       "      <td>25.9</td>\n",
       "      <td>1040.5</td>\n",
       "      <td>391404</td>\n",
       "    </tr>\n",
       "    <tr>\n",
       "      <th>2019-01-05</th>\n",
       "      <td>2.5</td>\n",
       "      <td>1.1</td>\n",
       "      <td>4.3</td>\n",
       "      <td>0.0</td>\n",
       "      <td>295.0</td>\n",
       "      <td>14.3</td>\n",
       "      <td>29.6</td>\n",
       "      <td>1037.2</td>\n",
       "      <td>248758</td>\n",
       "    </tr>\n",
       "    <tr>\n",
       "      <th>2019-01-06</th>\n",
       "      <td>4.2</td>\n",
       "      <td>1.9</td>\n",
       "      <td>6.5</td>\n",
       "      <td>0.0</td>\n",
       "      <td>273.0</td>\n",
       "      <td>9.4</td>\n",
       "      <td>18.5</td>\n",
       "      <td>1035.5</td>\n",
       "      <td>28656</td>\n",
       "    </tr>\n",
       "  </tbody>\n",
       "</table></div>"
      ],
      "text/plain": [
       "            tavg  tmin  tmax  prcp   wdir  wspd  wpgt    pres  InvQty\n",
       "InvDate                                                              \n",
       "2019-01-02   3.9   3.0   5.2   0.0  336.0  14.1  31.5  1041.9  271070\n",
       "2019-01-03   2.4   0.1   4.2   0.0  309.0  10.0  20.4  1042.8  323298\n",
       "2019-01-04   1.1  -1.5   3.6   0.0  283.0  12.6  25.9  1040.5  391404\n",
       "2019-01-05   2.5   1.1   4.3   0.0  295.0  14.3  29.6  1037.2  248758\n",
       "2019-01-06   4.2   1.9   6.5   0.0  273.0   9.4  18.5  1035.5   28656"
      ]
     },
     "execution_count": 41,
     "metadata": {},
     "output_type": "execute_result"
    }
   ],
   "source": [
    "df.head()"
   ]
  },
  {
   "cell_type": "code",
   "execution_count": 43,
   "id": "b9e64df8",
   "metadata": {},
   "outputs": [
    {
     "data": {
      "text/plain": [
       "(1092, 9)"
      ]
     },
     "execution_count": 43,
     "metadata": {},
     "output_type": "execute_result"
    }
   ],
   "source": [
    "df.shape"
   ]
  },
  {
   "cell_type": "code",
   "execution_count": 46,
   "id": "7ad5ac38",
   "metadata": {},
   "outputs": [],
   "source": [
    "#new"
   ]
  },
  {
   "cell_type": "code",
   "execution_count": 49,
   "id": "ba8ad473",
   "metadata": {},
   "outputs": [
    {
     "data": {
      "text/html": [
       "<div><div id=a5e27b3f-4e35-4dbb-89ef-dcac6ff25af5 style=\"display:none; background-color:#9D6CFF; color:white; width:200px; height:30px; padding-left:5px; border-radius:4px; flex-direction:row; justify-content:space-around; align-items:center;\" onmouseover=\"this.style.backgroundColor='#BA9BF8'\" onmouseout=\"this.style.backgroundColor='#9D6CFF'\" onclick=\"window.commands?.execute('create-mitosheet-from-dataframe-output');\">See Full Dataframe in Mito</div> <script> if (window.commands.hasCommand('create-mitosheet-from-dataframe-output')) document.getElementById('a5e27b3f-4e35-4dbb-89ef-dcac6ff25af5').style.display = 'flex' </script> <table border=\"1\" class=\"dataframe\">\n",
       "  <thead>\n",
       "    <tr style=\"text-align: right;\">\n",
       "      <th></th>\n",
       "      <th>InvDate</th>\n",
       "      <th>tavg</th>\n",
       "      <th>tmin</th>\n",
       "      <th>tmax</th>\n",
       "      <th>prcp</th>\n",
       "      <th>wdir</th>\n",
       "      <th>wspd</th>\n",
       "      <th>wpgt</th>\n",
       "      <th>pres</th>\n",
       "      <th>InvQty</th>\n",
       "    </tr>\n",
       "  </thead>\n",
       "  <tbody>\n",
       "    <tr>\n",
       "      <th>0</th>\n",
       "      <td>2019-01-02</td>\n",
       "      <td>3.9</td>\n",
       "      <td>3.0</td>\n",
       "      <td>5.2</td>\n",
       "      <td>0.0</td>\n",
       "      <td>336.0</td>\n",
       "      <td>14.1</td>\n",
       "      <td>31.5</td>\n",
       "      <td>1041.9</td>\n",
       "      <td>271070</td>\n",
       "    </tr>\n",
       "    <tr>\n",
       "      <th>1</th>\n",
       "      <td>2019-01-03</td>\n",
       "      <td>2.4</td>\n",
       "      <td>0.1</td>\n",
       "      <td>4.2</td>\n",
       "      <td>0.0</td>\n",
       "      <td>309.0</td>\n",
       "      <td>10.0</td>\n",
       "      <td>20.4</td>\n",
       "      <td>1042.8</td>\n",
       "      <td>323298</td>\n",
       "    </tr>\n",
       "    <tr>\n",
       "      <th>2</th>\n",
       "      <td>2019-01-04</td>\n",
       "      <td>1.1</td>\n",
       "      <td>-1.5</td>\n",
       "      <td>3.6</td>\n",
       "      <td>0.0</td>\n",
       "      <td>283.0</td>\n",
       "      <td>12.6</td>\n",
       "      <td>25.9</td>\n",
       "      <td>1040.5</td>\n",
       "      <td>391404</td>\n",
       "    </tr>\n",
       "    <tr>\n",
       "      <th>3</th>\n",
       "      <td>2019-01-05</td>\n",
       "      <td>2.5</td>\n",
       "      <td>1.1</td>\n",
       "      <td>4.3</td>\n",
       "      <td>0.0</td>\n",
       "      <td>295.0</td>\n",
       "      <td>14.3</td>\n",
       "      <td>29.6</td>\n",
       "      <td>1037.2</td>\n",
       "      <td>248758</td>\n",
       "    </tr>\n",
       "    <tr>\n",
       "      <th>4</th>\n",
       "      <td>2019-01-06</td>\n",
       "      <td>4.2</td>\n",
       "      <td>1.9</td>\n",
       "      <td>6.5</td>\n",
       "      <td>0.0</td>\n",
       "      <td>273.0</td>\n",
       "      <td>9.4</td>\n",
       "      <td>18.5</td>\n",
       "      <td>1035.5</td>\n",
       "      <td>28656</td>\n",
       "    </tr>\n",
       "  </tbody>\n",
       "</table></div>"
      ],
      "text/plain": [
       "      InvDate  tavg  tmin  tmax  prcp   wdir  wspd  wpgt    pres  InvQty\n",
       "0  2019-01-02   3.9   3.0   5.2   0.0  336.0  14.1  31.5  1041.9  271070\n",
       "1  2019-01-03   2.4   0.1   4.2   0.0  309.0  10.0  20.4  1042.8  323298\n",
       "2  2019-01-04   1.1  -1.5   3.6   0.0  283.0  12.6  25.9  1040.5  391404\n",
       "3  2019-01-05   2.5   1.1   4.3   0.0  295.0  14.3  29.6  1037.2  248758\n",
       "4  2019-01-06   4.2   1.9   6.5   0.0  273.0   9.4  18.5  1035.5   28656"
      ]
     },
     "execution_count": 49,
     "metadata": {},
     "output_type": "execute_result"
    }
   ],
   "source": [
    "df.head()"
   ]
  },
  {
   "cell_type": "code",
   "execution_count": 48,
   "id": "5a73de90",
   "metadata": {},
   "outputs": [],
   "source": [
    "df.drop('Unnamed: 0', axis=1, inplace=True)"
   ]
  },
  {
   "cell_type": "code",
   "execution_count": 50,
   "id": "a2efa484",
   "metadata": {},
   "outputs": [],
   "source": [
    "import darts"
   ]
  },
  {
   "cell_type": "code",
   "execution_count": 51,
   "id": "0991f30e",
   "metadata": {},
   "outputs": [],
   "source": [
    "from darts.datasets import AirPassengersDataset, MonthlyMilkDataset"
   ]
  },
  {
   "cell_type": "code",
   "execution_count": 58,
   "id": "0f8fff31",
   "metadata": {},
   "outputs": [],
   "source": [
    "# loading library\n",
    "import matplotlib.pyplot as plt\n",
    "%matplotlib inline"
   ]
  },
  {
   "cell_type": "code",
   "execution_count": 55,
   "id": "d4b13cfa",
   "metadata": {},
   "outputs": [],
   "source": [
    "df1=df.to_numpy()"
   ]
  },
  {
   "cell_type": "code",
   "execution_count": 56,
   "id": "43863cbc",
   "metadata": {},
   "outputs": [
    {
     "data": {
      "text/plain": [
       "array([['2019-01-02', 3.9, 3.0, ..., 31.5, 1041.9, 271070],\n",
       "       ['2019-01-03', 2.4, 0.1, ..., 20.4, 1042.8, 323298],\n",
       "       ['2019-01-04', 1.1, -1.5, ..., 25.9, 1040.5, 391404],\n",
       "       ...,\n",
       "       ['2021-12-29', 8.6, 6.4, ..., 40.8, 1002.3, 151808],\n",
       "       ['2021-12-30', 12.9, 10.7, ..., 50.0, 1009.0, 172952],\n",
       "       ['2021-12-31', 12.6, 11.0, ..., 50.0, 1013.4, 111707]],\n",
       "      dtype=object)"
      ]
     },
     "execution_count": 56,
     "metadata": {},
     "output_type": "execute_result"
    }
   ],
   "source": [
    "df1"
   ]
  },
  {
   "cell_type": "code",
   "execution_count": 62,
   "id": "bdbc3820",
   "metadata": {},
   "outputs": [
    {
     "data": {
      "text/html": [
       "<div><div id=e9f26b57-3490-437e-8a9d-6bb3451e3486 style=\"display:none; background-color:#9D6CFF; color:white; width:200px; height:30px; padding-left:5px; border-radius:4px; flex-direction:row; justify-content:space-around; align-items:center;\" onmouseover=\"this.style.backgroundColor='#BA9BF8'\" onmouseout=\"this.style.backgroundColor='#9D6CFF'\" onclick=\"window.commands?.execute('create-mitosheet-from-dataframe-output');\">See Full Dataframe in Mito</div> <script> if (window.commands.hasCommand('create-mitosheet-from-dataframe-output')) document.getElementById('e9f26b57-3490-437e-8a9d-6bb3451e3486').style.display = 'flex' </script> <table border=\"1\" class=\"dataframe\">\n",
       "  <thead>\n",
       "    <tr style=\"text-align: right;\">\n",
       "      <th></th>\n",
       "      <th>InvDate</th>\n",
       "      <th>tavg</th>\n",
       "      <th>tmin</th>\n",
       "      <th>tmax</th>\n",
       "      <th>prcp</th>\n",
       "      <th>wdir</th>\n",
       "      <th>wspd</th>\n",
       "      <th>wpgt</th>\n",
       "      <th>pres</th>\n",
       "      <th>InvQty</th>\n",
       "    </tr>\n",
       "  </thead>\n",
       "  <tbody>\n",
       "    <tr>\n",
       "      <th>0</th>\n",
       "      <td>2019-01-02</td>\n",
       "      <td>3.9</td>\n",
       "      <td>3.0</td>\n",
       "      <td>5.2</td>\n",
       "      <td>0.0</td>\n",
       "      <td>336.0</td>\n",
       "      <td>14.1</td>\n",
       "      <td>31.5</td>\n",
       "      <td>1041.9</td>\n",
       "      <td>271070</td>\n",
       "    </tr>\n",
       "    <tr>\n",
       "      <th>1</th>\n",
       "      <td>2019-01-03</td>\n",
       "      <td>2.4</td>\n",
       "      <td>0.1</td>\n",
       "      <td>4.2</td>\n",
       "      <td>0.0</td>\n",
       "      <td>309.0</td>\n",
       "      <td>10.0</td>\n",
       "      <td>20.4</td>\n",
       "      <td>1042.8</td>\n",
       "      <td>323298</td>\n",
       "    </tr>\n",
       "    <tr>\n",
       "      <th>2</th>\n",
       "      <td>2019-01-04</td>\n",
       "      <td>1.1</td>\n",
       "      <td>-1.5</td>\n",
       "      <td>3.6</td>\n",
       "      <td>0.0</td>\n",
       "      <td>283.0</td>\n",
       "      <td>12.6</td>\n",
       "      <td>25.9</td>\n",
       "      <td>1040.5</td>\n",
       "      <td>391404</td>\n",
       "    </tr>\n",
       "    <tr>\n",
       "      <th>3</th>\n",
       "      <td>2019-01-05</td>\n",
       "      <td>2.5</td>\n",
       "      <td>1.1</td>\n",
       "      <td>4.3</td>\n",
       "      <td>0.0</td>\n",
       "      <td>295.0</td>\n",
       "      <td>14.3</td>\n",
       "      <td>29.6</td>\n",
       "      <td>1037.2</td>\n",
       "      <td>248758</td>\n",
       "    </tr>\n",
       "    <tr>\n",
       "      <th>4</th>\n",
       "      <td>2019-01-06</td>\n",
       "      <td>4.2</td>\n",
       "      <td>1.9</td>\n",
       "      <td>6.5</td>\n",
       "      <td>0.0</td>\n",
       "      <td>273.0</td>\n",
       "      <td>9.4</td>\n",
       "      <td>18.5</td>\n",
       "      <td>1035.5</td>\n",
       "      <td>28656</td>\n",
       "    </tr>\n",
       "    <tr>\n",
       "      <th>...</th>\n",
       "      <td>...</td>\n",
       "      <td>...</td>\n",
       "      <td>...</td>\n",
       "      <td>...</td>\n",
       "      <td>...</td>\n",
       "      <td>...</td>\n",
       "      <td>...</td>\n",
       "      <td>...</td>\n",
       "      <td>...</td>\n",
       "      <td>...</td>\n",
       "    </tr>\n",
       "    <tr>\n",
       "      <th>1087</th>\n",
       "      <td>2021-12-27</td>\n",
       "      <td>6.4</td>\n",
       "      <td>5.2</td>\n",
       "      <td>7.6</td>\n",
       "      <td>1.4</td>\n",
       "      <td>144.0</td>\n",
       "      <td>14.4</td>\n",
       "      <td>31.5</td>\n",
       "      <td>993.4</td>\n",
       "      <td>2580</td>\n",
       "    </tr>\n",
       "    <tr>\n",
       "      <th>1088</th>\n",
       "      <td>2021-12-28</td>\n",
       "      <td>8.2</td>\n",
       "      <td>7.2</td>\n",
       "      <td>8.9</td>\n",
       "      <td>4.2</td>\n",
       "      <td>239.0</td>\n",
       "      <td>17.3</td>\n",
       "      <td>37.0</td>\n",
       "      <td>990.5</td>\n",
       "      <td>6190</td>\n",
       "    </tr>\n",
       "    <tr>\n",
       "      <th>1089</th>\n",
       "      <td>2021-12-29</td>\n",
       "      <td>8.6</td>\n",
       "      <td>6.4</td>\n",
       "      <td>11.7</td>\n",
       "      <td>1.8</td>\n",
       "      <td>218.0</td>\n",
       "      <td>18.5</td>\n",
       "      <td>40.8</td>\n",
       "      <td>1002.3</td>\n",
       "      <td>151808</td>\n",
       "    </tr>\n",
       "    <tr>\n",
       "      <th>1090</th>\n",
       "      <td>2021-12-30</td>\n",
       "      <td>12.9</td>\n",
       "      <td>10.7</td>\n",
       "      <td>14.0</td>\n",
       "      <td>0.2</td>\n",
       "      <td>226.0</td>\n",
       "      <td>27.7</td>\n",
       "      <td>50.0</td>\n",
       "      <td>1009.0</td>\n",
       "      <td>172952</td>\n",
       "    </tr>\n",
       "    <tr>\n",
       "      <th>1091</th>\n",
       "      <td>2021-12-31</td>\n",
       "      <td>12.6</td>\n",
       "      <td>11.0</td>\n",
       "      <td>13.7</td>\n",
       "      <td>0.9</td>\n",
       "      <td>227.0</td>\n",
       "      <td>26.1</td>\n",
       "      <td>50.0</td>\n",
       "      <td>1013.4</td>\n",
       "      <td>111707</td>\n",
       "    </tr>\n",
       "  </tbody>\n",
       "</table></div>"
      ],
      "text/plain": [
       "         InvDate  tavg  tmin  tmax  prcp   wdir  wspd  wpgt    pres  InvQty\n",
       "0     2019-01-02   3.9   3.0   5.2   0.0  336.0  14.1  31.5  1041.9  271070\n",
       "1     2019-01-03   2.4   0.1   4.2   0.0  309.0  10.0  20.4  1042.8  323298\n",
       "2     2019-01-04   1.1  -1.5   3.6   0.0  283.0  12.6  25.9  1040.5  391404\n",
       "3     2019-01-05   2.5   1.1   4.3   0.0  295.0  14.3  29.6  1037.2  248758\n",
       "4     2019-01-06   4.2   1.9   6.5   0.0  273.0   9.4  18.5  1035.5   28656\n",
       "...          ...   ...   ...   ...   ...    ...   ...   ...     ...     ...\n",
       "1087  2021-12-27   6.4   5.2   7.6   1.4  144.0  14.4  31.5   993.4    2580\n",
       "1088  2021-12-28   8.2   7.2   8.9   4.2  239.0  17.3  37.0   990.5    6190\n",
       "1089  2021-12-29   8.6   6.4  11.7   1.8  218.0  18.5  40.8  1002.3  151808\n",
       "1090  2021-12-30  12.9  10.7  14.0   0.2  226.0  27.7  50.0  1009.0  172952\n",
       "1091  2021-12-31  12.6  11.0  13.7   0.9  227.0  26.1  50.0  1013.4  111707\n",
       "\n",
       "[1092 rows x 10 columns]"
      ]
     },
     "execution_count": 62,
     "metadata": {},
     "output_type": "execute_result"
    }
   ],
   "source": [
    "df"
   ]
  },
  {
   "cell_type": "code",
   "execution_count": 73,
   "id": "f0930268",
   "metadata": {},
   "outputs": [],
   "source": [
    "series=df[['InvDate','InvQty']].copy()"
   ]
  },
  {
   "cell_type": "code",
   "execution_count": 77,
   "id": "1e8dd359",
   "metadata": {},
   "outputs": [
    {
     "data": {
      "text/html": [
       "<div><div id=f43696b1-7aa1-474f-9f31-d5aa856726e5 style=\"display:none; background-color:#9D6CFF; color:white; width:200px; height:30px; padding-left:5px; border-radius:4px; flex-direction:row; justify-content:space-around; align-items:center;\" onmouseover=\"this.style.backgroundColor='#BA9BF8'\" onmouseout=\"this.style.backgroundColor='#9D6CFF'\" onclick=\"window.commands?.execute('create-mitosheet-from-dataframe-output');\">See Full Dataframe in Mito</div> <script> if (window.commands.hasCommand('create-mitosheet-from-dataframe-output')) document.getElementById('f43696b1-7aa1-474f-9f31-d5aa856726e5').style.display = 'flex' </script> <table border=\"1\" class=\"dataframe\">\n",
       "  <thead>\n",
       "    <tr style=\"text-align: right;\">\n",
       "      <th></th>\n",
       "      <th>InvQty</th>\n",
       "    </tr>\n",
       "  </thead>\n",
       "  <tbody>\n",
       "    <tr>\n",
       "      <th>count</th>\n",
       "      <td>1092.000000</td>\n",
       "    </tr>\n",
       "    <tr>\n",
       "      <th>mean</th>\n",
       "      <td>239628.767399</td>\n",
       "    </tr>\n",
       "    <tr>\n",
       "      <th>std</th>\n",
       "      <td>167014.667189</td>\n",
       "    </tr>\n",
       "    <tr>\n",
       "      <th>min</th>\n",
       "      <td>0.000000</td>\n",
       "    </tr>\n",
       "    <tr>\n",
       "      <th>25%</th>\n",
       "      <td>54179.500000</td>\n",
       "    </tr>\n",
       "    <tr>\n",
       "      <th>50%</th>\n",
       "      <td>268381.000000</td>\n",
       "    </tr>\n",
       "    <tr>\n",
       "      <th>75%</th>\n",
       "      <td>350646.000000</td>\n",
       "    </tr>\n",
       "    <tr>\n",
       "      <th>max</th>\n",
       "      <td>828435.000000</td>\n",
       "    </tr>\n",
       "  </tbody>\n",
       "</table></div>"
      ],
      "text/plain": [
       "              InvQty\n",
       "count    1092.000000\n",
       "mean   239628.767399\n",
       "std    167014.667189\n",
       "min         0.000000\n",
       "25%     54179.500000\n",
       "50%    268381.000000\n",
       "75%    350646.000000\n",
       "max    828435.000000"
      ]
     },
     "execution_count": 77,
     "metadata": {},
     "output_type": "execute_result"
    }
   ],
   "source": [
    "series.describe()"
   ]
  },
  {
   "cell_type": "code",
   "execution_count": null,
   "id": "30406d87",
   "metadata": {},
   "outputs": [],
   "source": []
  },
  {
   "cell_type": "code",
   "execution_count": 82,
   "id": "b5de4457",
   "metadata": {},
   "outputs": [],
   "source": [
    "import torch\n",
    "import torch.nn as nn\n",
    "import torch.optim as optim\n",
    "import numpy as np\n",
    "import pandas as pd\n",
    "import shutil\n",
    "from sklearn.preprocessing import MinMaxScaler\n",
    "from tqdm import tqdm_notebook as tqdm\n",
    "\n",
    "from torch.utils.tensorboard import SummaryWriter\n",
    "import matplotlib.pyplot as plt\n",
    "\n",
    "from darts import TimeSeries\n",
    "from darts.dataprocessing.transformers import Scaler\n",
    "from darts.models import RNNModel, ExponentialSmoothing, BlockRNNModel\n",
    "from darts.metrics import mape\n",
    "from darts.utils.statistics import check_seasonality, plot_acf\n",
    "from darts.datasets import AirPassengersDataset, SunspotsDataset\n",
    "from darts.utils.timeseries_generation import datetime_attribute_timeseries\n",
    "\n",
    "import warnings\n",
    "\n",
    "warnings.filterwarnings(\"ignore\")\n",
    "import logging\n",
    "\n",
    "logging.disable(logging.CRITICAL)"
   ]
  },
  {
   "cell_type": "code",
   "execution_count": 80,
   "id": "5425b676",
   "metadata": {},
   "outputs": [],
   "source": [
    "series=df"
   ]
  },
  {
   "cell_type": "code",
   "execution_count": 85,
   "id": "8ac3087d",
   "metadata": {},
   "outputs": [
    {
     "name": "stdout",
     "output_type": "stream",
     "text": [
      "[[100.64965765 101.12172323]]\n"
     ]
    }
   ],
   "source": [
    "# Import libraries\n",
    "from statsmodels.tsa.vector_ar.var_model import VAR\n",
    "from random import random\n",
    "# Generate a sample dataset with correlated variables\n",
    "df = list()\n",
    "for i in range(100):\n",
    "    v1 = i + random()\n",
    "    v2 = v1 + random()\n",
    "    row = [v1, v2]\n",
    "    df.append(row)\n",
    "# fit model\n",
    "model = VAR(df)\n",
    "model_fit = model.fit()\n",
    "# make prediction\n",
    "yhat = model_fit.forecast(model_fit.y, steps=1)\n",
    "print(yhat)"
   ]
  },
  {
   "cell_type": "code",
   "execution_count": 86,
   "id": "1011cdea",
   "metadata": {},
   "outputs": [
    {
     "name": "stdout",
     "output_type": "stream",
     "text": [
      "[[72.20887389 73.08020331]]\n"
     ]
    }
   ],
   "source": [
    "# Import libraries\n",
    "from statsmodels.tsa.statespace.varmax import VARMAX\n",
    "from random import random\n",
    "# Generate a sample dataset with correlated variables\n",
    "df = list()\n",
    "for i in range(100):\n",
    "    v1 = i+ random()\n",
    "    v2 = v1 + random()\n",
    "    row = [v1, v2]\n",
    "    df.append(row)\n",
    "# fit VMA model by setting the ‘p’ parameter as 0.\n",
    "model = VARMAX(df, order=(0, 1))\n",
    "model_fit = model.fit(disp=False)\n",
    "# make prediction\n",
    "yhat = model_fit.forecast()\n",
    "print(yhat)"
   ]
  },
  {
   "cell_type": "code",
   "execution_count": 87,
   "id": "3489d9bc",
   "metadata": {},
   "outputs": [
    {
     "name": "stdout",
     "output_type": "stream",
     "text": [
      "[[0.53227012 1.08054911]]\n"
     ]
    }
   ],
   "source": [
    "# Import libraries\n",
    "from statsmodels.tsa.statespace.varmax import VARMAX\n",
    "from random import random\n",
    "# Generate a sample dataset with correlated variables\n",
    "df = list()\n",
    "for i in range(100):\n",
    "    v1 = random()\n",
    "    v2 = v1 + random()\n",
    "    row = [v1, v2]\n",
    "    df.append(row)\n",
    "# fit model\n",
    "model = VARMAX(df, order=(1, 1))\n",
    "model_fit = model.fit(disp=False)\n",
    "# make prediction\n",
    "yhat = model_fit.forecast()\n",
    "print(yhat)"
   ]
  },
  {
   "cell_type": "code",
   "execution_count": 89,
   "id": "9af5e5ea",
   "metadata": {},
   "outputs": [
    {
     "ename": "ValueError",
     "evalue": "SARIMAX models require univariate `endog`. Got shape (100, 2).",
     "output_type": "error",
     "traceback": [
      "\u001b[1;31m---------------------------------------------------------------------------\u001b[0m",
      "\u001b[1;31mValueError\u001b[0m                                Traceback (most recent call last)",
      "Input \u001b[1;32mIn [89]\u001b[0m, in \u001b[0;36m<cell line: 7>\u001b[1;34m()\u001b[0m\n\u001b[0;32m      3\u001b[0m \u001b[38;5;28;01mfrom\u001b[39;00m \u001b[38;5;21;01mrandom\u001b[39;00m \u001b[38;5;28;01mimport\u001b[39;00m random\n\u001b[0;32m      4\u001b[0m \u001b[38;5;66;03m# Generate a sample dataset with independent exogenous variable\u001b[39;00m\n\u001b[0;32m      5\u001b[0m \n\u001b[0;32m      6\u001b[0m \u001b[38;5;66;03m# fit model\u001b[39;00m\n\u001b[1;32m----> 7\u001b[0m model \u001b[38;5;241m=\u001b[39m \u001b[43mSARIMAX\u001b[49m\u001b[43m(\u001b[49m\u001b[43mdf\u001b[49m\u001b[43m,\u001b[49m\u001b[43m \u001b[49m\u001b[43mexog\u001b[49m\u001b[38;5;241;43m=\u001b[39;49m\u001b[43mdf\u001b[49m\u001b[43m,\u001b[49m\u001b[43m \u001b[49m\u001b[43morder\u001b[49m\u001b[38;5;241;43m=\u001b[39;49m\u001b[43m(\u001b[49m\u001b[38;5;241;43m1\u001b[39;49m\u001b[43m,\u001b[49m\u001b[43m \u001b[49m\u001b[38;5;241;43m1\u001b[39;49m\u001b[43m,\u001b[49m\u001b[43m \u001b[49m\u001b[38;5;241;43m1\u001b[39;49m\u001b[43m)\u001b[49m\u001b[43m,\u001b[49m\u001b[43m \u001b[49m\u001b[43mseasonal_order\u001b[49m\u001b[38;5;241;43m=\u001b[39;49m\u001b[43m(\u001b[49m\u001b[38;5;241;43m0\u001b[39;49m\u001b[43m,\u001b[49m\u001b[43m \u001b[49m\u001b[38;5;241;43m0\u001b[39;49m\u001b[43m,\u001b[49m\u001b[43m \u001b[49m\u001b[38;5;241;43m0\u001b[39;49m\u001b[43m,\u001b[49m\u001b[43m \u001b[49m\u001b[38;5;241;43m0\u001b[39;49m\u001b[43m)\u001b[49m\u001b[43m)\u001b[49m\n\u001b[0;32m      8\u001b[0m model_fit \u001b[38;5;241m=\u001b[39m model\u001b[38;5;241m.\u001b[39mfit(disp\u001b[38;5;241m=\u001b[39m\u001b[38;5;28;01mFalse\u001b[39;00m)\n\u001b[0;32m      9\u001b[0m \u001b[38;5;66;03m# make prediction\u001b[39;00m\n",
      "File \u001b[1;32m~\\Anaconda3\\lib\\site-packages\\statsmodels\\tsa\\statespace\\sarimax.py:328\u001b[0m, in \u001b[0;36mSARIMAX.__init__\u001b[1;34m(self, endog, exog, order, seasonal_order, trend, measurement_error, time_varying_regression, mle_regression, simple_differencing, enforce_stationarity, enforce_invertibility, hamilton_representation, concentrate_scale, trend_offset, use_exact_diffuse, dates, freq, missing, validate_specification, **kwargs)\u001b[0m\n\u001b[0;32m    318\u001b[0m \u001b[38;5;28;01mdef\u001b[39;00m \u001b[38;5;21m__init__\u001b[39m(\u001b[38;5;28mself\u001b[39m, endog, exog\u001b[38;5;241m=\u001b[39m\u001b[38;5;28;01mNone\u001b[39;00m, order\u001b[38;5;241m=\u001b[39m(\u001b[38;5;241m1\u001b[39m, \u001b[38;5;241m0\u001b[39m, \u001b[38;5;241m0\u001b[39m),\n\u001b[0;32m    319\u001b[0m              seasonal_order\u001b[38;5;241m=\u001b[39m(\u001b[38;5;241m0\u001b[39m, \u001b[38;5;241m0\u001b[39m, \u001b[38;5;241m0\u001b[39m, \u001b[38;5;241m0\u001b[39m), trend\u001b[38;5;241m=\u001b[39m\u001b[38;5;28;01mNone\u001b[39;00m,\n\u001b[0;32m    320\u001b[0m              measurement_error\u001b[38;5;241m=\u001b[39m\u001b[38;5;28;01mFalse\u001b[39;00m, time_varying_regression\u001b[38;5;241m=\u001b[39m\u001b[38;5;28;01mFalse\u001b[39;00m,\n\u001b[1;32m   (...)\u001b[0m\n\u001b[0;32m    325\u001b[0m              freq\u001b[38;5;241m=\u001b[39m\u001b[38;5;28;01mNone\u001b[39;00m, missing\u001b[38;5;241m=\u001b[39m\u001b[38;5;124m'\u001b[39m\u001b[38;5;124mnone\u001b[39m\u001b[38;5;124m'\u001b[39m, validate_specification\u001b[38;5;241m=\u001b[39m\u001b[38;5;28;01mTrue\u001b[39;00m,\n\u001b[0;32m    326\u001b[0m              \u001b[38;5;241m*\u001b[39m\u001b[38;5;241m*\u001b[39mkwargs):\n\u001b[1;32m--> 328\u001b[0m     \u001b[38;5;28mself\u001b[39m\u001b[38;5;241m.\u001b[39m_spec \u001b[38;5;241m=\u001b[39m \u001b[43mSARIMAXSpecification\u001b[49m\u001b[43m(\u001b[49m\n\u001b[0;32m    329\u001b[0m \u001b[43m        \u001b[49m\u001b[43mendog\u001b[49m\u001b[43m,\u001b[49m\u001b[43m \u001b[49m\u001b[43mexog\u001b[49m\u001b[38;5;241;43m=\u001b[39;49m\u001b[43mexog\u001b[49m\u001b[43m,\u001b[49m\u001b[43m \u001b[49m\u001b[43morder\u001b[49m\u001b[38;5;241;43m=\u001b[39;49m\u001b[43morder\u001b[49m\u001b[43m,\u001b[49m\u001b[43m \u001b[49m\u001b[43mseasonal_order\u001b[49m\u001b[38;5;241;43m=\u001b[39;49m\u001b[43mseasonal_order\u001b[49m\u001b[43m,\u001b[49m\n\u001b[0;32m    330\u001b[0m \u001b[43m        \u001b[49m\u001b[43mtrend\u001b[49m\u001b[38;5;241;43m=\u001b[39;49m\u001b[43mtrend\u001b[49m\u001b[43m,\u001b[49m\u001b[43m \u001b[49m\u001b[43menforce_stationarity\u001b[49m\u001b[38;5;241;43m=\u001b[39;49m\u001b[38;5;28;43;01mNone\u001b[39;49;00m\u001b[43m,\u001b[49m\u001b[43m \u001b[49m\u001b[43menforce_invertibility\u001b[49m\u001b[38;5;241;43m=\u001b[39;49m\u001b[38;5;28;43;01mNone\u001b[39;49;00m\u001b[43m,\u001b[49m\n\u001b[0;32m    331\u001b[0m \u001b[43m        \u001b[49m\u001b[43mconcentrate_scale\u001b[49m\u001b[38;5;241;43m=\u001b[39;49m\u001b[43mconcentrate_scale\u001b[49m\u001b[43m,\u001b[49m\u001b[43m \u001b[49m\u001b[43mdates\u001b[49m\u001b[38;5;241;43m=\u001b[39;49m\u001b[43mdates\u001b[49m\u001b[43m,\u001b[49m\u001b[43m \u001b[49m\u001b[43mfreq\u001b[49m\u001b[38;5;241;43m=\u001b[39;49m\u001b[43mfreq\u001b[49m\u001b[43m,\u001b[49m\n\u001b[0;32m    332\u001b[0m \u001b[43m        \u001b[49m\u001b[43mmissing\u001b[49m\u001b[38;5;241;43m=\u001b[39;49m\u001b[43mmissing\u001b[49m\u001b[43m,\u001b[49m\u001b[43m \u001b[49m\u001b[43mvalidate_specification\u001b[49m\u001b[38;5;241;43m=\u001b[39;49m\u001b[43mvalidate_specification\u001b[49m\u001b[43m)\u001b[49m\n\u001b[0;32m    333\u001b[0m     \u001b[38;5;28mself\u001b[39m\u001b[38;5;241m.\u001b[39m_params \u001b[38;5;241m=\u001b[39m SARIMAXParams(\u001b[38;5;28mself\u001b[39m\u001b[38;5;241m.\u001b[39m_spec)\n\u001b[0;32m    335\u001b[0m     \u001b[38;5;66;03m# Save given orders\u001b[39;00m\n",
      "File \u001b[1;32m~\\Anaconda3\\lib\\site-packages\\statsmodels\\tsa\\arima\\specification.py:454\u001b[0m, in \u001b[0;36mSARIMAXSpecification.__init__\u001b[1;34m(self, endog, exog, order, seasonal_order, ar_order, diff, ma_order, seasonal_ar_order, seasonal_diff, seasonal_ma_order, seasonal_periods, trend, enforce_stationarity, enforce_invertibility, concentrate_scale, trend_offset, dates, freq, missing, validate_specification)\u001b[0m\n\u001b[0;32m    451\u001b[0m \u001b[38;5;66;03m# Validate endog shape\u001b[39;00m\n\u001b[0;32m    452\u001b[0m \u001b[38;5;28;01mif\u001b[39;00m (validate_specification \u001b[38;5;129;01mand\u001b[39;00m \u001b[38;5;129;01mnot\u001b[39;00m faux_endog \u001b[38;5;129;01mand\u001b[39;00m\n\u001b[0;32m    453\u001b[0m         \u001b[38;5;28mself\u001b[39m\u001b[38;5;241m.\u001b[39mendog\u001b[38;5;241m.\u001b[39mndim \u001b[38;5;241m>\u001b[39m \u001b[38;5;241m1\u001b[39m \u001b[38;5;129;01mand\u001b[39;00m \u001b[38;5;28mself\u001b[39m\u001b[38;5;241m.\u001b[39mendog\u001b[38;5;241m.\u001b[39mshape[\u001b[38;5;241m1\u001b[39m] \u001b[38;5;241m>\u001b[39m \u001b[38;5;241m1\u001b[39m):\n\u001b[1;32m--> 454\u001b[0m     \u001b[38;5;28;01mraise\u001b[39;00m \u001b[38;5;167;01mValueError\u001b[39;00m(\u001b[38;5;124m'\u001b[39m\u001b[38;5;124mSARIMAX models require univariate `endog`. Got\u001b[39m\u001b[38;5;124m'\u001b[39m\n\u001b[0;32m    455\u001b[0m                      \u001b[38;5;124m'\u001b[39m\u001b[38;5;124m shape \u001b[39m\u001b[38;5;132;01m%s\u001b[39;00m\u001b[38;5;124m.\u001b[39m\u001b[38;5;124m'\u001b[39m \u001b[38;5;241m%\u001b[39m \u001b[38;5;28mstr\u001b[39m(\u001b[38;5;28mself\u001b[39m\u001b[38;5;241m.\u001b[39mendog\u001b[38;5;241m.\u001b[39mshape))\n\u001b[0;32m    457\u001b[0m \u001b[38;5;28mself\u001b[39m\u001b[38;5;241m.\u001b[39m_has_missing \u001b[38;5;241m=\u001b[39m (\n\u001b[0;32m    458\u001b[0m     \u001b[38;5;28;01mNone\u001b[39;00m \u001b[38;5;28;01mif\u001b[39;00m faux_endog \u001b[38;5;28;01melse\u001b[39;00m np\u001b[38;5;241m.\u001b[39many(np\u001b[38;5;241m.\u001b[39misnan(\u001b[38;5;28mself\u001b[39m\u001b[38;5;241m.\u001b[39mendog)))\n",
      "\u001b[1;31mValueError\u001b[0m: SARIMAX models require univariate `endog`. Got shape (100, 2)."
     ]
    }
   ],
   "source": [
    "# Import libraries\n",
    "from statsmodels.tsa.statespace.sarimax import SARIMAX\n",
    "from random import random\n",
    "# Generate a sample dataset with independent exogenous variable\n",
    "\n",
    "# fit model\n",
    "model = SARIMAX(df, exog=df, order=(1, 1, 1), seasonal_order=(0, 0, 0, 0))\n",
    "model_fit = model.fit(disp=False)\n",
    "# make prediction\n",
    "exog2 = [200 + random()]\n",
    "yhat = model_fit.predict(len(df), len(df), exog=[exog2])\n",
    "print(yhat)"
   ]
  },
  {
   "cell_type": "code",
   "execution_count": null,
   "id": "6f290bcd",
   "metadata": {},
   "outputs": [],
   "source": []
  }
 ],
 "metadata": {
  "kernelspec": {
   "display_name": "Python 3 (ipykernel)",
   "language": "python",
   "name": "python3"
  },
  "language_info": {
   "codemirror_mode": {
    "name": "ipython",
    "version": 3
   },
   "file_extension": ".py",
   "mimetype": "text/x-python",
   "name": "python",
   "nbconvert_exporter": "python",
   "pygments_lexer": "ipython3",
   "version": "3.9.7"
  }
 },
 "nbformat": 4,
 "nbformat_minor": 5
}
