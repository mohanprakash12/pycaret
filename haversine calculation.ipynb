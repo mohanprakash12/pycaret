{
 "cells": [
  {
   "cell_type": "code",
   "execution_count": 1,
   "id": "f033629b",
   "metadata": {},
   "outputs": [],
   "source": [
    "import pandas as pd\n",
    "import numpy as np\n",
    "import seaborn as sns"
   ]
  },
  {
   "cell_type": "code",
   "execution_count": 2,
   "id": "cb5a3696",
   "metadata": {},
   "outputs": [],
   "source": [
    "import os\n",
    "os.chdir('P:\\SAMPLE DATA')"
   ]
  },
  {
   "cell_type": "code",
   "execution_count": 3,
   "id": "31d8b367",
   "metadata": {},
   "outputs": [],
   "source": [
    "df=pd.read_excel('members address.xlsx')"
   ]
  },
  {
   "cell_type": "code",
   "execution_count": 7,
   "id": "244ffb7b",
   "metadata": {
    "scrolled": true
   },
   "outputs": [
    {
     "data": {
      "text/html": [
       "<div>\n",
       "<style scoped>\n",
       "    .dataframe tbody tr th:only-of-type {\n",
       "        vertical-align: middle;\n",
       "    }\n",
       "\n",
       "    .dataframe tbody tr th {\n",
       "        vertical-align: top;\n",
       "    }\n",
       "\n",
       "    .dataframe thead th {\n",
       "        text-align: right;\n",
       "    }\n",
       "</style>\n",
       "<table border=\"1\" class=\"dataframe\">\n",
       "  <thead>\n",
       "    <tr style=\"text-align: right;\">\n",
       "      <th></th>\n",
       "      <th>id</th>\n",
       "      <th>MemberStatus</th>\n",
       "      <th>MemberType</th>\n",
       "      <th>PostTown</th>\n",
       "      <th>latitude</th>\n",
       "      <th>longitude</th>\n",
       "    </tr>\n",
       "  </thead>\n",
       "  <tbody>\n",
       "    <tr>\n",
       "      <th>0</th>\n",
       "      <td>664331</td>\n",
       "      <td>Resigned</td>\n",
       "      <td>Staff</td>\n",
       "      <td>Norwich</td>\n",
       "      <td>52.644997</td>\n",
       "      <td>1.117492</td>\n",
       "    </tr>\n",
       "    <tr>\n",
       "      <th>1</th>\n",
       "      <td>671011</td>\n",
       "      <td>Resigned</td>\n",
       "      <td>Full</td>\n",
       "      <td>Norwich</td>\n",
       "      <td>52.645622</td>\n",
       "      <td>1.107749</td>\n",
       "    </tr>\n",
       "    <tr>\n",
       "      <th>2</th>\n",
       "      <td>663414</td>\n",
       "      <td>Resigned</td>\n",
       "      <td>Associate</td>\n",
       "      <td>Norwich</td>\n",
       "      <td>52.645622</td>\n",
       "      <td>1.107749</td>\n",
       "    </tr>\n",
       "    <tr>\n",
       "      <th>3</th>\n",
       "      <td>662314</td>\n",
       "      <td>Resigned</td>\n",
       "      <td>Full</td>\n",
       "      <td>Norwich</td>\n",
       "      <td>52.654073</td>\n",
       "      <td>1.152714</td>\n",
       "    </tr>\n",
       "    <tr>\n",
       "      <th>4</th>\n",
       "      <td>670888</td>\n",
       "      <td>Active</td>\n",
       "      <td>Affinity</td>\n",
       "      <td>Lyng</td>\n",
       "      <td>52.706098</td>\n",
       "      <td>1.078216</td>\n",
       "    </tr>\n",
       "  </tbody>\n",
       "</table>\n",
       "</div>"
      ],
      "text/plain": [
       "       id MemberStatus MemberType PostTown   latitude  longitude\n",
       "0  664331     Resigned      Staff  Norwich  52.644997   1.117492\n",
       "1  671011     Resigned       Full  Norwich  52.645622   1.107749\n",
       "2  663414     Resigned  Associate  Norwich  52.645622   1.107749\n",
       "3  662314     Resigned       Full  Norwich  52.654073   1.152714\n",
       "4  670888       Active   Affinity     Lyng  52.706098   1.078216"
      ]
     },
     "execution_count": 7,
     "metadata": {},
     "output_type": "execute_result"
    }
   ],
   "source": [
    "df.head()"
   ]
  },
  {
   "cell_type": "code",
   "execution_count": 4,
   "id": "b23ec36f",
   "metadata": {},
   "outputs": [
    {
     "data": {
      "text/plain": [
       "Index(['AddressLine1', 'AddressLine2', 'AddressLine3', 'AlphaCode', 'County',\n",
       "       'MemberNumber', 'MemberStatus', 'MemberType', 'PostTown', 'Postcode',\n",
       "       'TradingName', 'latitude', 'longitude'],\n",
       "      dtype='object')"
      ]
     },
     "execution_count": 4,
     "metadata": {},
     "output_type": "execute_result"
    }
   ],
   "source": [
    "df.columns"
   ]
  },
  {
   "cell_type": "code",
   "execution_count": 5,
   "id": "e6cd1d71",
   "metadata": {},
   "outputs": [],
   "source": [
    "df.drop(['AddressLine1', 'AddressLine2', 'AddressLine3', 'AlphaCode', 'County',\n",
    "       'TradingName','Postcode'], axis=1, inplace=True)"
   ]
  },
  {
   "cell_type": "code",
   "execution_count": 6,
   "id": "beb9266d",
   "metadata": {},
   "outputs": [],
   "source": [
    "df=df.rename(columns={'MemberNumber':'id'})"
   ]
  },
  {
   "cell_type": "code",
   "execution_count": 8,
   "id": "955d0709",
   "metadata": {},
   "outputs": [],
   "source": [
    "members=df.copy()"
   ]
  },
  {
   "cell_type": "code",
   "execution_count": 9,
   "id": "98dbbf1f",
   "metadata": {},
   "outputs": [
    {
     "data": {
      "text/html": [
       "<div>\n",
       "<style scoped>\n",
       "    .dataframe tbody tr th:only-of-type {\n",
       "        vertical-align: middle;\n",
       "    }\n",
       "\n",
       "    .dataframe tbody tr th {\n",
       "        vertical-align: top;\n",
       "    }\n",
       "\n",
       "    .dataframe thead th {\n",
       "        text-align: right;\n",
       "    }\n",
       "</style>\n",
       "<table border=\"1\" class=\"dataframe\">\n",
       "  <thead>\n",
       "    <tr style=\"text-align: right;\">\n",
       "      <th></th>\n",
       "      <th>id</th>\n",
       "      <th>MemberStatus</th>\n",
       "      <th>MemberType</th>\n",
       "      <th>PostTown</th>\n",
       "      <th>latitude</th>\n",
       "      <th>longitude</th>\n",
       "    </tr>\n",
       "  </thead>\n",
       "  <tbody>\n",
       "    <tr>\n",
       "      <th>0</th>\n",
       "      <td>664331</td>\n",
       "      <td>Resigned</td>\n",
       "      <td>Staff</td>\n",
       "      <td>Norwich</td>\n",
       "      <td>52.644997</td>\n",
       "      <td>1.117492</td>\n",
       "    </tr>\n",
       "    <tr>\n",
       "      <th>1</th>\n",
       "      <td>671011</td>\n",
       "      <td>Resigned</td>\n",
       "      <td>Full</td>\n",
       "      <td>Norwich</td>\n",
       "      <td>52.645622</td>\n",
       "      <td>1.107749</td>\n",
       "    </tr>\n",
       "    <tr>\n",
       "      <th>2</th>\n",
       "      <td>663414</td>\n",
       "      <td>Resigned</td>\n",
       "      <td>Associate</td>\n",
       "      <td>Norwich</td>\n",
       "      <td>52.645622</td>\n",
       "      <td>1.107749</td>\n",
       "    </tr>\n",
       "    <tr>\n",
       "      <th>3</th>\n",
       "      <td>662314</td>\n",
       "      <td>Resigned</td>\n",
       "      <td>Full</td>\n",
       "      <td>Norwich</td>\n",
       "      <td>52.654073</td>\n",
       "      <td>1.152714</td>\n",
       "    </tr>\n",
       "    <tr>\n",
       "      <th>4</th>\n",
       "      <td>670888</td>\n",
       "      <td>Active</td>\n",
       "      <td>Affinity</td>\n",
       "      <td>Lyng</td>\n",
       "      <td>52.706098</td>\n",
       "      <td>1.078216</td>\n",
       "    </tr>\n",
       "  </tbody>\n",
       "</table>\n",
       "</div>"
      ],
      "text/plain": [
       "       id MemberStatus MemberType PostTown   latitude  longitude\n",
       "0  664331     Resigned      Staff  Norwich  52.644997   1.117492\n",
       "1  671011     Resigned       Full  Norwich  52.645622   1.107749\n",
       "2  663414     Resigned  Associate  Norwich  52.645622   1.107749\n",
       "3  662314     Resigned       Full  Norwich  52.654073   1.152714\n",
       "4  670888       Active   Affinity     Lyng  52.706098   1.078216"
      ]
     },
     "execution_count": 9,
     "metadata": {},
     "output_type": "execute_result"
    }
   ],
   "source": [
    "members.head()"
   ]
  },
  {
   "cell_type": "code",
   "execution_count": 10,
   "id": "ffbaa2fc",
   "metadata": {},
   "outputs": [],
   "source": [
    "supplier=pd.read_excel('supplier.xlsx')"
   ]
  },
  {
   "cell_type": "code",
   "execution_count": 11,
   "id": "4b96366b",
   "metadata": {},
   "outputs": [
    {
     "data": {
      "text/html": [
       "<div>\n",
       "<style scoped>\n",
       "    .dataframe tbody tr th:only-of-type {\n",
       "        vertical-align: middle;\n",
       "    }\n",
       "\n",
       "    .dataframe tbody tr th {\n",
       "        vertical-align: top;\n",
       "    }\n",
       "\n",
       "    .dataframe thead th {\n",
       "        text-align: right;\n",
       "    }\n",
       "</style>\n",
       "<table border=\"1\" class=\"dataframe\">\n",
       "  <thead>\n",
       "    <tr style=\"text-align: right;\">\n",
       "      <th></th>\n",
       "      <th>Address 1</th>\n",
       "      <th>Address 2</th>\n",
       "      <th>Address 3</th>\n",
       "      <th>County</th>\n",
       "      <th>Distribution</th>\n",
       "      <th>Email</th>\n",
       "      <th>Fax</th>\n",
       "      <th>Latitude</th>\n",
       "      <th>Local Name</th>\n",
       "      <th>Longitude</th>\n",
       "      <th>Manager</th>\n",
       "      <th>Member Collection</th>\n",
       "      <th>Postcode</th>\n",
       "      <th>Supplier</th>\n",
       "      <th>Telephone</th>\n",
       "      <th>Town</th>\n",
       "    </tr>\n",
       "  </thead>\n",
       "  <tbody>\n",
       "    <tr>\n",
       "      <th>0</th>\n",
       "      <td>Bourtie Works</td>\n",
       "      <td>Bourtie</td>\n",
       "      <td>NaN</td>\n",
       "      <td>Aberdeenshire</td>\n",
       "      <td>Agrii</td>\n",
       "      <td>chemorders@agrii.co.uk</td>\n",
       "      <td>NaN</td>\n",
       "      <td>57.305616</td>\n",
       "      <td>Bourtie</td>\n",
       "      <td>-2.376063</td>\n",
       "      <td>NaN</td>\n",
       "      <td>YES</td>\n",
       "      <td>AB51 0HL</td>\n",
       "      <td>Agrii (UK) Limited</td>\n",
       "      <td>01467 626185</td>\n",
       "      <td>Inverurie</td>\n",
       "    </tr>\n",
       "    <tr>\n",
       "      <th>1</th>\n",
       "      <td>Rosehall</td>\n",
       "      <td>NaN</td>\n",
       "      <td>NaN</td>\n",
       "      <td>Aberdeenshire</td>\n",
       "      <td>Agrii</td>\n",
       "      <td>chemorders@agrii.co.uk</td>\n",
       "      <td>NaN</td>\n",
       "      <td>57.534888</td>\n",
       "      <td>Turriff</td>\n",
       "      <td>-2.484778</td>\n",
       "      <td>NaN</td>\n",
       "      <td>YES</td>\n",
       "      <td>AB53 4HD</td>\n",
       "      <td>Agrii (UK) Limited</td>\n",
       "      <td>01888 569138</td>\n",
       "      <td>Turriff</td>\n",
       "    </tr>\n",
       "    <tr>\n",
       "      <th>2</th>\n",
       "      <td>11 Cunningburn Road</td>\n",
       "      <td>Newtownards</td>\n",
       "      <td>NaN</td>\n",
       "      <td>Northern Ireland</td>\n",
       "      <td>Agrii</td>\n",
       "      <td>chemorders@agrii.co.uk</td>\n",
       "      <td>NaN</td>\n",
       "      <td>54.568699</td>\n",
       "      <td>Newtownards</td>\n",
       "      <td>-5.626769</td>\n",
       "      <td>NaN</td>\n",
       "      <td>YES</td>\n",
       "      <td>BT22 2AN</td>\n",
       "      <td>Agrii (UK) Limited</td>\n",
       "      <td>02891 812080</td>\n",
       "      <td>County Down</td>\n",
       "    </tr>\n",
       "    <tr>\n",
       "      <th>3</th>\n",
       "      <td>Elliot Industrial Estate</td>\n",
       "      <td>NaN</td>\n",
       "      <td>NaN</td>\n",
       "      <td>Angus</td>\n",
       "      <td>Agrii</td>\n",
       "      <td>chemorders@agrii.co.uk</td>\n",
       "      <td>NaN</td>\n",
       "      <td>56.552962</td>\n",
       "      <td>Arbroath</td>\n",
       "      <td>-2.618076</td>\n",
       "      <td>NaN</td>\n",
       "      <td>YES</td>\n",
       "      <td>DD11 2NJ</td>\n",
       "      <td>Agrii (UK) Limited</td>\n",
       "      <td>01241 431317</td>\n",
       "      <td>Arbroath</td>\n",
       "    </tr>\n",
       "    <tr>\n",
       "      <th>4</th>\n",
       "      <td>Kirriemuir Road</td>\n",
       "      <td>NaN</td>\n",
       "      <td>NaN</td>\n",
       "      <td>Angus</td>\n",
       "      <td>Agrii</td>\n",
       "      <td>chemorders@agrii.co.uk</td>\n",
       "      <td>NaN</td>\n",
       "      <td>56.653943</td>\n",
       "      <td>Forfar</td>\n",
       "      <td>-2.895783</td>\n",
       "      <td>NaN</td>\n",
       "      <td>YES</td>\n",
       "      <td>DD8 3TG</td>\n",
       "      <td>Agrii (UK) Limited</td>\n",
       "      <td>01307 464949</td>\n",
       "      <td>Forfar</td>\n",
       "    </tr>\n",
       "  </tbody>\n",
       "</table>\n",
       "</div>"
      ],
      "text/plain": [
       "                  Address 1    Address 2 Address 3             County  \\\n",
       "0             Bourtie Works      Bourtie       NaN      Aberdeenshire   \n",
       "1                  Rosehall          NaN       NaN      Aberdeenshire   \n",
       "2       11 Cunningburn Road  Newtownards       NaN   Northern Ireland   \n",
       "3  Elliot Industrial Estate          NaN       NaN              Angus   \n",
       "4           Kirriemuir Road          NaN       NaN              Angus   \n",
       "\n",
       "  Distribution                   Email  Fax   Latitude   Local Name  \\\n",
       "0        Agrii  chemorders@agrii.co.uk  NaN  57.305616      Bourtie   \n",
       "1        Agrii  chemorders@agrii.co.uk  NaN  57.534888      Turriff   \n",
       "2        Agrii  chemorders@agrii.co.uk  NaN  54.568699  Newtownards   \n",
       "3        Agrii  chemorders@agrii.co.uk  NaN  56.552962     Arbroath   \n",
       "4        Agrii  chemorders@agrii.co.uk  NaN  56.653943       Forfar   \n",
       "\n",
       "   Longitude Manager Member Collection  Postcode            Supplier  \\\n",
       "0  -2.376063     NaN               YES  AB51 0HL  Agrii (UK) Limited   \n",
       "1  -2.484778     NaN               YES  AB53 4HD  Agrii (UK) Limited   \n",
       "2  -5.626769     NaN               YES  BT22 2AN  Agrii (UK) Limited   \n",
       "3  -2.618076     NaN               YES  DD11 2NJ  Agrii (UK) Limited   \n",
       "4  -2.895783     NaN               YES   DD8 3TG  Agrii (UK) Limited   \n",
       "\n",
       "      Telephone         Town  \n",
       "0  01467 626185    Inverurie  \n",
       "1  01888 569138      Turriff  \n",
       "2  02891 812080  County Down  \n",
       "3  01241 431317     Arbroath  \n",
       "4  01307 464949       Forfar  "
      ]
     },
     "execution_count": 11,
     "metadata": {},
     "output_type": "execute_result"
    }
   ],
   "source": [
    "supplier.head()"
   ]
  },
  {
   "cell_type": "code",
   "execution_count": null,
   "id": "08725e77",
   "metadata": {
    "scrolled": true
   },
   "outputs": [],
   "source": []
  },
  {
   "cell_type": "code",
   "execution_count": 12,
   "id": "55d58f3f",
   "metadata": {},
   "outputs": [
    {
     "data": {
      "text/plain": [
       "Index(['Address 1', 'Address 2', 'Address 3', 'County', 'Distribution',\n",
       "       'Email', 'Fax', 'Latitude', 'Local Name', 'Longitude', 'Manager',\n",
       "       'Member Collection', 'Postcode', 'Supplier', 'Telephone', 'Town'],\n",
       "      dtype='object')"
      ]
     },
     "execution_count": 12,
     "metadata": {},
     "output_type": "execute_result"
    }
   ],
   "source": [
    "supplier.columns"
   ]
  },
  {
   "cell_type": "code",
   "execution_count": 13,
   "id": "53595d0d",
   "metadata": {},
   "outputs": [],
   "source": [
    "supplier.drop(['Address 1', 'Address 2', 'Address 3','Distribution',\n",
    "       'Email', 'Fax', 'Local Name','Manager',\n",
    "       'Member Collection', 'Postcode', 'Telephone'], axis=1, inplace=True )"
   ]
  },
  {
   "cell_type": "code",
   "execution_count": 20,
   "id": "b8a442e3",
   "metadata": {},
   "outputs": [
    {
     "data": {
      "text/html": [
       "<div>\n",
       "<style scoped>\n",
       "    .dataframe tbody tr th:only-of-type {\n",
       "        vertical-align: middle;\n",
       "    }\n",
       "\n",
       "    .dataframe tbody tr th {\n",
       "        vertical-align: top;\n",
       "    }\n",
       "\n",
       "    .dataframe thead th {\n",
       "        text-align: right;\n",
       "    }\n",
       "</style>\n",
       "<table border=\"1\" class=\"dataframe\">\n",
       "  <thead>\n",
       "    <tr style=\"text-align: right;\">\n",
       "      <th></th>\n",
       "      <th>County</th>\n",
       "      <th>lat</th>\n",
       "      <th>lon</th>\n",
       "      <th>name</th>\n",
       "    </tr>\n",
       "  </thead>\n",
       "  <tbody>\n",
       "    <tr>\n",
       "      <th>0</th>\n",
       "      <td>Aberdeenshire</td>\n",
       "      <td>57.305616</td>\n",
       "      <td>-2.376063</td>\n",
       "      <td>Agrii (UK) Limited</td>\n",
       "    </tr>\n",
       "    <tr>\n",
       "      <th>1</th>\n",
       "      <td>Aberdeenshire</td>\n",
       "      <td>57.534888</td>\n",
       "      <td>-2.484778</td>\n",
       "      <td>Agrii (UK) Limited</td>\n",
       "    </tr>\n",
       "    <tr>\n",
       "      <th>2</th>\n",
       "      <td>Northern Ireland</td>\n",
       "      <td>54.568699</td>\n",
       "      <td>-5.626769</td>\n",
       "      <td>Agrii (UK) Limited</td>\n",
       "    </tr>\n",
       "    <tr>\n",
       "      <th>3</th>\n",
       "      <td>Angus</td>\n",
       "      <td>56.552962</td>\n",
       "      <td>-2.618076</td>\n",
       "      <td>Agrii (UK) Limited</td>\n",
       "    </tr>\n",
       "    <tr>\n",
       "      <th>4</th>\n",
       "      <td>Angus</td>\n",
       "      <td>56.653943</td>\n",
       "      <td>-2.895783</td>\n",
       "      <td>Agrii (UK) Limited</td>\n",
       "    </tr>\n",
       "  </tbody>\n",
       "</table>\n",
       "</div>"
      ],
      "text/plain": [
       "              County        lat       lon                name\n",
       "0      Aberdeenshire  57.305616 -2.376063  Agrii (UK) Limited\n",
       "1      Aberdeenshire  57.534888 -2.484778  Agrii (UK) Limited\n",
       "2   Northern Ireland  54.568699 -5.626769  Agrii (UK) Limited\n",
       "3              Angus  56.552962 -2.618076  Agrii (UK) Limited\n",
       "4              Angus  56.653943 -2.895783  Agrii (UK) Limited"
      ]
     },
     "execution_count": 20,
     "metadata": {},
     "output_type": "execute_result"
    }
   ],
   "source": [
    "supplier.head()"
   ]
  },
  {
   "cell_type": "code",
   "execution_count": 15,
   "id": "19cd4230",
   "metadata": {},
   "outputs": [],
   "source": [
    "supplier=supplier.rename(columns={'Supplier':'name'})"
   ]
  },
  {
   "cell_type": "code",
   "execution_count": 16,
   "id": "fe951fe9",
   "metadata": {},
   "outputs": [],
   "source": [
    "supplier.drop('Town', axis=1, inplace=True)"
   ]
  },
  {
   "cell_type": "code",
   "execution_count": 17,
   "id": "292bc07a",
   "metadata": {},
   "outputs": [],
   "source": [
    "members=members.rename(columns = {'latitude':'lat','longitude':'lon'})"
   ]
  },
  {
   "cell_type": "code",
   "execution_count": 18,
   "id": "f0d42ce9",
   "metadata": {},
   "outputs": [],
   "source": [
    "supplier=supplier.rename(columns = {'Latitude':'lat','Longitude':'lon'})"
   ]
  },
  {
   "cell_type": "code",
   "execution_count": 19,
   "id": "64746c54",
   "metadata": {},
   "outputs": [
    {
     "name": "stdout",
     "output_type": "stream",
     "text": [
      "<class 'pandas.core.frame.DataFrame'>\n",
      "RangeIndex: 49687 entries, 0 to 49686\n",
      "Data columns (total 6 columns):\n",
      " #   Column        Non-Null Count  Dtype  \n",
      "---  ------        --------------  -----  \n",
      " 0   id            49687 non-null  int64  \n",
      " 1   MemberStatus  49687 non-null  object \n",
      " 2   MemberType    49687 non-null  object \n",
      " 3   PostTown      49686 non-null  object \n",
      " 4   lat           49155 non-null  float64\n",
      " 5   lon           49155 non-null  float64\n",
      "dtypes: float64(2), int64(1), object(3)\n",
      "memory usage: 2.3+ MB\n",
      "<class 'pandas.core.frame.DataFrame'>\n",
      "RangeIndex: 128 entries, 0 to 127\n",
      "Data columns (total 4 columns):\n",
      " #   Column  Non-Null Count  Dtype  \n",
      "---  ------  --------------  -----  \n",
      " 0   County  128 non-null    object \n",
      " 1   lat     128 non-null    float64\n",
      " 2   lon     128 non-null    float64\n",
      " 3   name    128 non-null    object \n",
      "dtypes: float64(2), object(2)\n",
      "memory usage: 4.1+ KB\n"
     ]
    }
   ],
   "source": [
    "members.info() \n",
    "supplier.info()"
   ]
  },
  {
   "cell_type": "code",
   "execution_count": 21,
   "id": "596d2134",
   "metadata": {},
   "outputs": [
    {
     "data": {
      "text/plain": [
       "id                0\n",
       "MemberStatus      0\n",
       "MemberType        0\n",
       "PostTown          1\n",
       "lat             532\n",
       "lon             532\n",
       "dtype: int64"
      ]
     },
     "execution_count": 21,
     "metadata": {},
     "output_type": "execute_result"
    }
   ],
   "source": [
    "members.isnull().sum()"
   ]
  },
  {
   "cell_type": "code",
   "execution_count": 22,
   "id": "47f35e77",
   "metadata": {},
   "outputs": [],
   "source": [
    "members.dropna(inplace=True)"
   ]
  },
  {
   "cell_type": "code",
   "execution_count": 23,
   "id": "c102703b",
   "metadata": {},
   "outputs": [
    {
     "data": {
      "text/plain": [
       "County    0\n",
       "lat       0\n",
       "lon       0\n",
       "name      0\n",
       "dtype: int64"
      ]
     },
     "execution_count": 23,
     "metadata": {},
     "output_type": "execute_result"
    }
   ],
   "source": [
    "supplier.isnull().sum()"
   ]
  },
  {
   "cell_type": "code",
   "execution_count": 24,
   "id": "14255fc3",
   "metadata": {},
   "outputs": [
    {
     "data": {
      "text/plain": [
       "Index(['County', 'lat', 'lon', 'name'], dtype='object')"
      ]
     },
     "execution_count": 24,
     "metadata": {},
     "output_type": "execute_result"
    }
   ],
   "source": [
    "supplier.columns"
   ]
  },
  {
   "cell_type": "code",
   "execution_count": 25,
   "id": "4ef0dd6c",
   "metadata": {},
   "outputs": [],
   "source": [
    "from math import radians, cos, sin, asin, sqrt\n",
    "def dist(lat1, long1, lat2, long2):\n",
    "    \"\"\"\n",
    "    Calculate the great circle distance between two points \n",
    "    on the earth (specified in decimal degrees)\n",
    "    \"\"\"\n",
    "    \n",
    "    lat1, long1, lat2, long2 = map(radians, [lat1, long1, lat2, long2])\n",
    "    \n",
    "    dlon = long2 - long1 \n",
    "    dlat = lat2 - lat1 \n",
    "    a = sin(dlat/2)**2 + cos(lat1) * cos(lat2) * sin(dlon/2)**2\n",
    "    c = 2 * asin(sqrt(a)) \n",
    "    # Radius of is 6371\n",
    "    km = 6371* c\n",
    "    return km"
   ]
  },
  {
   "cell_type": "code",
   "execution_count": 26,
   "id": "3ebb91f4",
   "metadata": {},
   "outputs": [],
   "source": [
    "def find_nearest(lat, long):\n",
    "    distances = supplier.apply(\n",
    "        lambda row: dist(lat, long, row['lat'], row['lon']), \n",
    "        axis=1)\n",
    "    return supplier.loc[distances.idxmin(), 'name']"
   ]
  },
  {
   "cell_type": "code",
   "execution_count": 27,
   "id": "60dd91fd",
   "metadata": {},
   "outputs": [
    {
     "data": {
      "text/html": [
       "<div>\n",
       "<style scoped>\n",
       "    .dataframe tbody tr th:only-of-type {\n",
       "        vertical-align: middle;\n",
       "    }\n",
       "\n",
       "    .dataframe tbody tr th {\n",
       "        vertical-align: top;\n",
       "    }\n",
       "\n",
       "    .dataframe thead th {\n",
       "        text-align: right;\n",
       "    }\n",
       "</style>\n",
       "<table border=\"1\" class=\"dataframe\">\n",
       "  <thead>\n",
       "    <tr style=\"text-align: right;\">\n",
       "      <th></th>\n",
       "      <th>id</th>\n",
       "      <th>MemberStatus</th>\n",
       "      <th>MemberType</th>\n",
       "      <th>PostTown</th>\n",
       "      <th>lat</th>\n",
       "      <th>lon</th>\n",
       "      <th>name</th>\n",
       "    </tr>\n",
       "  </thead>\n",
       "  <tbody>\n",
       "    <tr>\n",
       "      <th>0</th>\n",
       "      <td>664331</td>\n",
       "      <td>Resigned</td>\n",
       "      <td>Staff</td>\n",
       "      <td>Norwich</td>\n",
       "      <td>52.644997</td>\n",
       "      <td>1.117492</td>\n",
       "      <td>Frontier Agriculture Limited</td>\n",
       "    </tr>\n",
       "    <tr>\n",
       "      <th>1</th>\n",
       "      <td>671011</td>\n",
       "      <td>Resigned</td>\n",
       "      <td>Full</td>\n",
       "      <td>Norwich</td>\n",
       "      <td>52.645622</td>\n",
       "      <td>1.107749</td>\n",
       "      <td>Frontier Agriculture Limited</td>\n",
       "    </tr>\n",
       "    <tr>\n",
       "      <th>2</th>\n",
       "      <td>663414</td>\n",
       "      <td>Resigned</td>\n",
       "      <td>Associate</td>\n",
       "      <td>Norwich</td>\n",
       "      <td>52.645622</td>\n",
       "      <td>1.107749</td>\n",
       "      <td>Frontier Agriculture Limited</td>\n",
       "    </tr>\n",
       "    <tr>\n",
       "      <th>3</th>\n",
       "      <td>662314</td>\n",
       "      <td>Resigned</td>\n",
       "      <td>Full</td>\n",
       "      <td>Norwich</td>\n",
       "      <td>52.654073</td>\n",
       "      <td>1.152714</td>\n",
       "      <td>Frontier Agriculture Limited</td>\n",
       "    </tr>\n",
       "    <tr>\n",
       "      <th>4</th>\n",
       "      <td>670888</td>\n",
       "      <td>Active</td>\n",
       "      <td>Affinity</td>\n",
       "      <td>Lyng</td>\n",
       "      <td>52.706098</td>\n",
       "      <td>1.078216</td>\n",
       "      <td>Frontier Agriculture Limited</td>\n",
       "    </tr>\n",
       "  </tbody>\n",
       "</table>\n",
       "</div>"
      ],
      "text/plain": [
       "       id MemberStatus MemberType PostTown        lat       lon  \\\n",
       "0  664331     Resigned      Staff  Norwich  52.644997  1.117492   \n",
       "1  671011     Resigned       Full  Norwich  52.645622  1.107749   \n",
       "2  663414     Resigned  Associate  Norwich  52.645622  1.107749   \n",
       "3  662314     Resigned       Full  Norwich  52.654073  1.152714   \n",
       "4  670888       Active   Affinity     Lyng  52.706098  1.078216   \n",
       "\n",
       "                           name  \n",
       "0  Frontier Agriculture Limited  \n",
       "1  Frontier Agriculture Limited  \n",
       "2  Frontier Agriculture Limited  \n",
       "3  Frontier Agriculture Limited  \n",
       "4  Frontier Agriculture Limited  "
      ]
     },
     "execution_count": 27,
     "metadata": {},
     "output_type": "execute_result"
    }
   ],
   "source": [
    "members['name'] = members.apply(\n",
    "    lambda row: find_nearest(row['lat'], row['lon']), \n",
    "    axis=1)\n",
    "members.head()"
   ]
  },
  {
   "cell_type": "code",
   "execution_count": 28,
   "id": "0d4fec53",
   "metadata": {},
   "outputs": [
    {
     "data": {
      "text/html": [
       "<div>\n",
       "<style scoped>\n",
       "    .dataframe tbody tr th:only-of-type {\n",
       "        vertical-align: middle;\n",
       "    }\n",
       "\n",
       "    .dataframe tbody tr th {\n",
       "        vertical-align: top;\n",
       "    }\n",
       "\n",
       "    .dataframe thead th {\n",
       "        text-align: right;\n",
       "    }\n",
       "</style>\n",
       "<table border=\"1\" class=\"dataframe\">\n",
       "  <thead>\n",
       "    <tr style=\"text-align: right;\">\n",
       "      <th></th>\n",
       "      <th>id</th>\n",
       "      <th>MemberStatus</th>\n",
       "      <th>MemberType</th>\n",
       "      <th>PostTown</th>\n",
       "      <th>m_lat</th>\n",
       "      <th>m_lon</th>\n",
       "      <th>name</th>\n",
       "      <th>h_lat</th>\n",
       "      <th>h_lon</th>\n",
       "    </tr>\n",
       "  </thead>\n",
       "  <tbody>\n",
       "    <tr>\n",
       "      <th>0</th>\n",
       "      <td>664331</td>\n",
       "      <td>Resigned</td>\n",
       "      <td>Staff</td>\n",
       "      <td>Norwich</td>\n",
       "      <td>52.644997</td>\n",
       "      <td>1.117492</td>\n",
       "      <td>Frontier Agriculture Limited</td>\n",
       "      <td>51.940961</td>\n",
       "      <td>-2.546514</td>\n",
       "    </tr>\n",
       "    <tr>\n",
       "      <th>1</th>\n",
       "      <td>664331</td>\n",
       "      <td>Resigned</td>\n",
       "      <td>Staff</td>\n",
       "      <td>Norwich</td>\n",
       "      <td>52.644997</td>\n",
       "      <td>1.117492</td>\n",
       "      <td>Frontier Agriculture Limited</td>\n",
       "      <td>52.376072</td>\n",
       "      <td>1.126557</td>\n",
       "    </tr>\n",
       "    <tr>\n",
       "      <th>2</th>\n",
       "      <td>664331</td>\n",
       "      <td>Resigned</td>\n",
       "      <td>Staff</td>\n",
       "      <td>Norwich</td>\n",
       "      <td>52.644997</td>\n",
       "      <td>1.117492</td>\n",
       "      <td>Frontier Agriculture Limited</td>\n",
       "      <td>57.694844</td>\n",
       "      <td>-4.169837</td>\n",
       "    </tr>\n",
       "    <tr>\n",
       "      <th>3</th>\n",
       "      <td>664331</td>\n",
       "      <td>Resigned</td>\n",
       "      <td>Staff</td>\n",
       "      <td>Norwich</td>\n",
       "      <td>52.644997</td>\n",
       "      <td>1.117492</td>\n",
       "      <td>Frontier Agriculture Limited</td>\n",
       "      <td>53.600351</td>\n",
       "      <td>-2.864265</td>\n",
       "    </tr>\n",
       "    <tr>\n",
       "      <th>4</th>\n",
       "      <td>664331</td>\n",
       "      <td>Resigned</td>\n",
       "      <td>Staff</td>\n",
       "      <td>Norwich</td>\n",
       "      <td>52.644997</td>\n",
       "      <td>1.117492</td>\n",
       "      <td>Frontier Agriculture Limited</td>\n",
       "      <td>53.316167</td>\n",
       "      <td>-0.346784</td>\n",
       "    </tr>\n",
       "  </tbody>\n",
       "</table>\n",
       "</div>"
      ],
      "text/plain": [
       "       id MemberStatus MemberType PostTown      m_lat     m_lon  \\\n",
       "0  664331     Resigned      Staff  Norwich  52.644997  1.117492   \n",
       "1  664331     Resigned      Staff  Norwich  52.644997  1.117492   \n",
       "2  664331     Resigned      Staff  Norwich  52.644997  1.117492   \n",
       "3  664331     Resigned      Staff  Norwich  52.644997  1.117492   \n",
       "4  664331     Resigned      Staff  Norwich  52.644997  1.117492   \n",
       "\n",
       "                           name      h_lat     h_lon  \n",
       "0  Frontier Agriculture Limited  51.940961 -2.546514  \n",
       "1  Frontier Agriculture Limited  52.376072  1.126557  \n",
       "2  Frontier Agriculture Limited  57.694844 -4.169837  \n",
       "3  Frontier Agriculture Limited  53.600351 -2.864265  \n",
       "4  Frontier Agriculture Limited  53.316167 -0.346784  "
      ]
     },
     "execution_count": 28,
     "metadata": {},
     "output_type": "execute_result"
    }
   ],
   "source": [
    "members = pd.merge(members,supplier[['name','lat','lon']],on='name', how='left')\n",
    "members=members.rename(columns = {'lat_x':'m_lat','lon_x':'m_lon','lat_y':'h_lat','lon_y':'h_lon'})\n",
    "members.head()"
   ]
  },
  {
   "cell_type": "code",
   "execution_count": 29,
   "id": "0195b49c",
   "metadata": {},
   "outputs": [],
   "source": [
    "from math import radians, cos, sin, asin, sqrt\n",
    "def haversine(lon1, lat1, lon2, lat2):\n",
    "    \"\"\"\n",
    "    Calculate the great circle distance between two points \n",
    "    on the earth (specified in decimal degrees)\n",
    "    \"\"\"\n",
    "    # convert decimal degrees to radians \n",
    "    lon1, lat1, lon2, lat2 = map(radians, [lon1, lat1, lon2, lat2])\n",
    "    # haversine formula \n",
    "    dlon = lon2 - lon1 \n",
    "    dlat = lat2 - lat1 \n",
    "    a = sin(dlat/2)**2 + cos(lat1) * cos(lat2) * sin(dlon/2)**2\n",
    "    c = 2 * asin(sqrt(a)) \n",
    "    # Radius of earth in kilometers is 6371\n",
    "    km = 6371* c\n",
    "    return km"
   ]
  },
  {
   "cell_type": "code",
   "execution_count": 30,
   "id": "6d78b301",
   "metadata": {},
   "outputs": [],
   "source": [
    "members['distance'] = [haversine(members.m_lon[i],members.m_lat[i],members.h_lon[i],members.h_lat[i]) for i in range(len(members))]\n",
    "members['distance'] = members['distance'].round(decimals=3)"
   ]
  },
  {
   "cell_type": "code",
   "execution_count": 31,
   "id": "8d841bb3",
   "metadata": {},
   "outputs": [
    {
     "data": {
      "text/html": [
       "<div>\n",
       "<style scoped>\n",
       "    .dataframe tbody tr th:only-of-type {\n",
       "        vertical-align: middle;\n",
       "    }\n",
       "\n",
       "    .dataframe tbody tr th {\n",
       "        vertical-align: top;\n",
       "    }\n",
       "\n",
       "    .dataframe thead th {\n",
       "        text-align: right;\n",
       "    }\n",
       "</style>\n",
       "<table border=\"1\" class=\"dataframe\">\n",
       "  <thead>\n",
       "    <tr style=\"text-align: right;\">\n",
       "      <th></th>\n",
       "      <th>id</th>\n",
       "      <th>MemberStatus</th>\n",
       "      <th>MemberType</th>\n",
       "      <th>PostTown</th>\n",
       "      <th>m_lat</th>\n",
       "      <th>m_lon</th>\n",
       "      <th>name</th>\n",
       "      <th>h_lat</th>\n",
       "      <th>h_lon</th>\n",
       "      <th>distance</th>\n",
       "    </tr>\n",
       "  </thead>\n",
       "  <tbody>\n",
       "    <tr>\n",
       "      <th>0</th>\n",
       "      <td>664331</td>\n",
       "      <td>Resigned</td>\n",
       "      <td>Staff</td>\n",
       "      <td>Norwich</td>\n",
       "      <td>52.644997</td>\n",
       "      <td>1.117492</td>\n",
       "      <td>Frontier Agriculture Limited</td>\n",
       "      <td>51.940961</td>\n",
       "      <td>-2.546514</td>\n",
       "      <td>261.161</td>\n",
       "    </tr>\n",
       "    <tr>\n",
       "      <th>1</th>\n",
       "      <td>664331</td>\n",
       "      <td>Resigned</td>\n",
       "      <td>Staff</td>\n",
       "      <td>Norwich</td>\n",
       "      <td>52.644997</td>\n",
       "      <td>1.117492</td>\n",
       "      <td>Frontier Agriculture Limited</td>\n",
       "      <td>52.376072</td>\n",
       "      <td>1.126557</td>\n",
       "      <td>29.909</td>\n",
       "    </tr>\n",
       "    <tr>\n",
       "      <th>2</th>\n",
       "      <td>664331</td>\n",
       "      <td>Resigned</td>\n",
       "      <td>Staff</td>\n",
       "      <td>Norwich</td>\n",
       "      <td>52.644997</td>\n",
       "      <td>1.117492</td>\n",
       "      <td>Frontier Agriculture Limited</td>\n",
       "      <td>57.694844</td>\n",
       "      <td>-4.169837</td>\n",
       "      <td>653.817</td>\n",
       "    </tr>\n",
       "    <tr>\n",
       "      <th>3</th>\n",
       "      <td>664331</td>\n",
       "      <td>Resigned</td>\n",
       "      <td>Staff</td>\n",
       "      <td>Norwich</td>\n",
       "      <td>52.644997</td>\n",
       "      <td>1.117492</td>\n",
       "      <td>Frontier Agriculture Limited</td>\n",
       "      <td>53.600351</td>\n",
       "      <td>-2.864265</td>\n",
       "      <td>286.096</td>\n",
       "    </tr>\n",
       "    <tr>\n",
       "      <th>4</th>\n",
       "      <td>664331</td>\n",
       "      <td>Resigned</td>\n",
       "      <td>Staff</td>\n",
       "      <td>Norwich</td>\n",
       "      <td>52.644997</td>\n",
       "      <td>1.117492</td>\n",
       "      <td>Frontier Agriculture Limited</td>\n",
       "      <td>53.316167</td>\n",
       "      <td>-0.346784</td>\n",
       "      <td>123.203</td>\n",
       "    </tr>\n",
       "  </tbody>\n",
       "</table>\n",
       "</div>"
      ],
      "text/plain": [
       "       id MemberStatus MemberType PostTown      m_lat     m_lon  \\\n",
       "0  664331     Resigned      Staff  Norwich  52.644997  1.117492   \n",
       "1  664331     Resigned      Staff  Norwich  52.644997  1.117492   \n",
       "2  664331     Resigned      Staff  Norwich  52.644997  1.117492   \n",
       "3  664331     Resigned      Staff  Norwich  52.644997  1.117492   \n",
       "4  664331     Resigned      Staff  Norwich  52.644997  1.117492   \n",
       "\n",
       "                           name      h_lat     h_lon  distance  \n",
       "0  Frontier Agriculture Limited  51.940961 -2.546514   261.161  \n",
       "1  Frontier Agriculture Limited  52.376072  1.126557    29.909  \n",
       "2  Frontier Agriculture Limited  57.694844 -4.169837   653.817  \n",
       "3  Frontier Agriculture Limited  53.600351 -2.864265   286.096  \n",
       "4  Frontier Agriculture Limited  53.316167 -0.346784   123.203  "
      ]
     },
     "execution_count": 31,
     "metadata": {},
     "output_type": "execute_result"
    }
   ],
   "source": [
    "members.head()"
   ]
  },
  {
   "cell_type": "code",
   "execution_count": 32,
   "id": "0b8eebcb",
   "metadata": {},
   "outputs": [],
   "source": [
    "members.to_csv(\"dist.csv\")"
   ]
  },
  {
   "cell_type": "code",
   "execution_count": 100,
   "id": "b0af3f41",
   "metadata": {},
   "outputs": [
    {
     "data": {
      "text/plain": [
       "(620014, 10)"
      ]
     },
     "execution_count": 100,
     "metadata": {},
     "output_type": "execute_result"
    }
   ],
   "source": [
    "members.shape"
   ]
  },
  {
   "cell_type": "code",
   "execution_count": 103,
   "id": "56f1bb09",
   "metadata": {},
   "outputs": [],
   "source": [
    "file1=members[['id','m_lat','m_lon']].copy()"
   ]
  },
  {
   "cell_type": "code",
   "execution_count": 104,
   "id": "0bbd63ea",
   "metadata": {},
   "outputs": [
    {
     "data": {
      "text/html": [
       "<div><div id=394d8173-aae8-412a-9bee-14b19251809c style=\"display:none; background-color:#9D6CFF; color:white; width:200px; height:30px; padding-left:5px; border-radius:4px; flex-direction:row; justify-content:space-around; align-items:center;\" onmouseover=\"this.style.backgroundColor='#BA9BF8'\" onmouseout=\"this.style.backgroundColor='#9D6CFF'\" onclick=\"window.commands?.execute('create-mitosheet-from-dataframe-output');\">See Full Dataframe in Mito</div> <script> if (window.commands.hasCommand('create-mitosheet-from-dataframe-output')) document.getElementById('394d8173-aae8-412a-9bee-14b19251809c').style.display = 'flex' </script> <table border=\"1\" class=\"dataframe\">\n",
       "  <thead>\n",
       "    <tr style=\"text-align: right;\">\n",
       "      <th></th>\n",
       "      <th>id</th>\n",
       "      <th>m_lat</th>\n",
       "      <th>m_lon</th>\n",
       "    </tr>\n",
       "  </thead>\n",
       "  <tbody>\n",
       "    <tr>\n",
       "      <th>0</th>\n",
       "      <td>664331</td>\n",
       "      <td>52.644997</td>\n",
       "      <td>1.117492</td>\n",
       "    </tr>\n",
       "    <tr>\n",
       "      <th>1</th>\n",
       "      <td>664331</td>\n",
       "      <td>52.644997</td>\n",
       "      <td>1.117492</td>\n",
       "    </tr>\n",
       "    <tr>\n",
       "      <th>2</th>\n",
       "      <td>664331</td>\n",
       "      <td>52.644997</td>\n",
       "      <td>1.117492</td>\n",
       "    </tr>\n",
       "    <tr>\n",
       "      <th>3</th>\n",
       "      <td>664331</td>\n",
       "      <td>52.644997</td>\n",
       "      <td>1.117492</td>\n",
       "    </tr>\n",
       "    <tr>\n",
       "      <th>4</th>\n",
       "      <td>664331</td>\n",
       "      <td>52.644997</td>\n",
       "      <td>1.117492</td>\n",
       "    </tr>\n",
       "  </tbody>\n",
       "</table></div>"
      ],
      "text/plain": [
       "       id      m_lat     m_lon\n",
       "0  664331  52.644997  1.117492\n",
       "1  664331  52.644997  1.117492\n",
       "2  664331  52.644997  1.117492\n",
       "3  664331  52.644997  1.117492\n",
       "4  664331  52.644997  1.117492"
      ]
     },
     "execution_count": 104,
     "metadata": {},
     "output_type": "execute_result"
    }
   ],
   "source": [
    "file1.head()"
   ]
  },
  {
   "cell_type": "code",
   "execution_count": 105,
   "id": "c3d4d3c0",
   "metadata": {},
   "outputs": [],
   "source": [
    "file2=members[['name','h_lat','h_lon']].copy()"
   ]
  },
  {
   "cell_type": "code",
   "execution_count": 106,
   "id": "74af7a9e",
   "metadata": {},
   "outputs": [
    {
     "data": {
      "text/html": [
       "<div><div id=5f7c087c-1c36-40a4-aed0-82a7f0128a12 style=\"display:none; background-color:#9D6CFF; color:white; width:200px; height:30px; padding-left:5px; border-radius:4px; flex-direction:row; justify-content:space-around; align-items:center;\" onmouseover=\"this.style.backgroundColor='#BA9BF8'\" onmouseout=\"this.style.backgroundColor='#9D6CFF'\" onclick=\"window.commands?.execute('create-mitosheet-from-dataframe-output');\">See Full Dataframe in Mito</div> <script> if (window.commands.hasCommand('create-mitosheet-from-dataframe-output')) document.getElementById('5f7c087c-1c36-40a4-aed0-82a7f0128a12').style.display = 'flex' </script> <table border=\"1\" class=\"dataframe\">\n",
       "  <thead>\n",
       "    <tr style=\"text-align: right;\">\n",
       "      <th></th>\n",
       "      <th>name</th>\n",
       "      <th>h_lat</th>\n",
       "      <th>h_lon</th>\n",
       "    </tr>\n",
       "  </thead>\n",
       "  <tbody>\n",
       "    <tr>\n",
       "      <th>0</th>\n",
       "      <td>Frontier Agriculture Limited</td>\n",
       "      <td>51.940961</td>\n",
       "      <td>-2.546514</td>\n",
       "    </tr>\n",
       "    <tr>\n",
       "      <th>1</th>\n",
       "      <td>Frontier Agriculture Limited</td>\n",
       "      <td>52.376072</td>\n",
       "      <td>1.126557</td>\n",
       "    </tr>\n",
       "    <tr>\n",
       "      <th>2</th>\n",
       "      <td>Frontier Agriculture Limited</td>\n",
       "      <td>57.694844</td>\n",
       "      <td>-4.169837</td>\n",
       "    </tr>\n",
       "    <tr>\n",
       "      <th>3</th>\n",
       "      <td>Frontier Agriculture Limited</td>\n",
       "      <td>53.600351</td>\n",
       "      <td>-2.864265</td>\n",
       "    </tr>\n",
       "    <tr>\n",
       "      <th>4</th>\n",
       "      <td>Frontier Agriculture Limited</td>\n",
       "      <td>53.316167</td>\n",
       "      <td>-0.346784</td>\n",
       "    </tr>\n",
       "  </tbody>\n",
       "</table></div>"
      ],
      "text/plain": [
       "                           name      h_lat     h_lon\n",
       "0  Frontier Agriculture Limited  51.940961 -2.546514\n",
       "1  Frontier Agriculture Limited  52.376072  1.126557\n",
       "2  Frontier Agriculture Limited  57.694844 -4.169837\n",
       "3  Frontier Agriculture Limited  53.600351 -2.864265\n",
       "4  Frontier Agriculture Limited  53.316167 -0.346784"
      ]
     },
     "execution_count": 106,
     "metadata": {},
     "output_type": "execute_result"
    }
   ],
   "source": [
    "file2.head()"
   ]
  },
  {
   "cell_type": "code",
   "execution_count": 107,
   "id": "f96cf447",
   "metadata": {},
   "outputs": [],
   "source": [
    "file1.to_csv('mem.csv')"
   ]
  },
  {
   "cell_type": "code",
   "execution_count": 108,
   "id": "d5142776",
   "metadata": {},
   "outputs": [],
   "source": [
    "file2.to_csv('sup.csv')"
   ]
  },
  {
   "cell_type": "code",
   "execution_count": null,
   "id": "0f1aa177",
   "metadata": {},
   "outputs": [],
   "source": []
  }
 ],
 "metadata": {
  "kernelspec": {
   "display_name": "Python 3 (ipykernel)",
   "language": "python",
   "name": "python3"
  },
  "language_info": {
   "codemirror_mode": {
    "name": "ipython",
    "version": 3
   },
   "file_extension": ".py",
   "mimetype": "text/x-python",
   "name": "python",
   "nbconvert_exporter": "python",
   "pygments_lexer": "ipython3",
   "version": "3.9.7"
  }
 },
 "nbformat": 4,
 "nbformat_minor": 5
}
